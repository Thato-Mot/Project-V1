{
 "cells": [
  {
   "cell_type": "markdown",
   "metadata": {},
   "source": [
    "# Imports"
   ]
  },
  {
   "cell_type": "code",
   "execution_count": 35,
   "metadata": {},
   "outputs": [],
   "source": [
    "# Standard libraries\n",
    "import numpy as np\n",
    "import pandas as pd\n",
    "import os\n",
    "import time\n",
    "\n",
    "# Libraries for audio\n",
    "from IPython.display import Audio\n",
    "import librosa\n",
    "\n",
    "# Training and Testing Split\n",
    "from sklearn.model_selection import train_test_split\n",
    "\n",
    "# for normalization & avgpooling features\n",
    "from sklearn.preprocessing import MinMaxScaler # to squeeze all the features to be within 0 and 1\n",
    "import tensorflow as tf\n",
    "\n",
    "# Operational\n",
    "from tqdm import tqdm\n",
    "import matplotlib.pyplot as plt\n",
    "import seaborn as sns\n",
    "import pickle"
   ]
  },
  {
   "cell_type": "markdown",
   "metadata": {},
   "source": [
    "# Preprocessing Pipeline"
   ]
  },
  {
   "cell_type": "markdown",
   "metadata": {},
   "source": [
    "1. Load in the metadata csv\n",
    "2. create numpy arrays from the data\n",
    "3. section the data that you are gonna be working on, will try 10 classes first\n",
    "4. convert those to mel spectrograms only\n",
    "5. feed into a cnn model"
   ]
  },
  {
   "cell_type": "code",
   "execution_count": 2,
   "metadata": {},
   "outputs": [],
   "source": [
    "md_raw = pd.read_csv('C:/Users/thato/OneDrive - University of Cape Town/Bird Classification Project/AudioSamples/birdclef-2023/train_metadata.csv') # raw metadata\n",
    "interested_species = [\n",
    "    'carcha1', 'grecor', 'colsun2', 'categr', 'fotdro5', 'wbrcha2', 'lawgol'\n",
    "]\n",
    "md_filtered = md_raw[md_raw['primary_label'].isin(interested_species)] # filtered metadata with interested species (chosen due to similar duration of total auddio samples)"
   ]
  },
  {
   "cell_type": "code",
   "execution_count": 3,
   "metadata": {},
   "outputs": [
    {
     "data": {
      "text/plain": [
       "primary_label\n",
       "colsun2    181\n",
       "categr     166\n",
       "carcha1    153\n",
       "grecor     138\n",
       "fotdro5    137\n",
       "wbrcha2    132\n",
       "lawgol      68\n",
       "Name: count, dtype: int64"
      ]
     },
     "execution_count": 3,
     "metadata": {},
     "output_type": "execute_result"
    }
   ],
   "source": [
    "md_filtered['primary_label'].value_counts()"
   ]
  },
  {
   "cell_type": "markdown",
   "metadata": {},
   "source": [
    "### Removing duplicates within classes"
   ]
  },
  {
   "cell_type": "code",
   "execution_count": 4,
   "metadata": {},
   "outputs": [],
   "source": [
    "path = 'C:/Users/thato/OneDrive - University of Cape Town/Bird Classification Project/AudioSamples/birdclef-2023/train_audio/'\n",
    "sr = 16000 # sample rate"
   ]
  },
  {
   "cell_type": "code",
   "execution_count": 5,
   "metadata": {},
   "outputs": [],
   "source": [
    "# Function to get audio duration\n",
    "def audioduration(file_path, sr=sr):\n",
    "  audio, _ = librosa.load(file_path, sr=sr)\n",
    "  return librosa.get_duration(y=audio, sr=sr)"
   ]
  },
  {
   "cell_type": "code",
   "execution_count": 6,
   "metadata": {},
   "outputs": [
    {
     "name": "stderr",
     "output_type": "stream",
     "text": [
      "Processing durations: 100%|██████████| 975/975 [00:49<00:00, 19.80it/s]\n",
      "C:\\Users\\thato\\AppData\\Local\\Temp\\ipykernel_11056\\968809220.py:7: SettingWithCopyWarning: \n",
      "A value is trying to be set on a copy of a slice from a DataFrame.\n",
      "Try using .loc[row_indexer,col_indexer] = value instead\n",
      "\n",
      "See the caveats in the documentation: https://pandas.pydata.org/pandas-docs/stable/user_guide/indexing.html#returning-a-view-versus-a-copy\n",
      "  md_filtered['duration'] = durations\n"
     ]
    }
   ],
   "source": [
    "durations = []\n",
    "for index, row in tqdm(md_filtered.iterrows(), total=len(md_filtered), desc=\"Processing durations\"):\n",
    "  filename = row['filename']\n",
    "  duration = audioduration(path + filename)\n",
    "  durations.append(duration)\n",
    "\n",
    "md_filtered['duration'] = durations"
   ]
  },
  {
   "cell_type": "code",
   "execution_count": 7,
   "metadata": {},
   "outputs": [],
   "source": [
    "md_filtered = md_filtered.drop_duplicates(subset=['duration', 'latitude', 'type', 'primary_label', 'author'], keep='first')"
   ]
  },
  {
   "cell_type": "markdown",
   "metadata": {},
   "source": [
    "# Splitting the data into training and testing"
   ]
  },
  {
   "cell_type": "code",
   "execution_count": 8,
   "metadata": {},
   "outputs": [],
   "source": [
    "train, test = train_test_split(md_filtered, test_size=0.3, random_state=6669)"
   ]
  },
  {
   "cell_type": "markdown",
   "metadata": {},
   "source": [
    "# Drop the unused colums"
   ]
  },
  {
   "cell_type": "code",
   "execution_count": 9,
   "metadata": {},
   "outputs": [],
   "source": [
    "column_delete = ['secondary_labels', 'scientific_name', 'common_name', 'author', 'license', 'url', 'latitude', 'longitude']\n",
    "train.drop(column_delete, axis=1, inplace=True)\n",
    "test.drop(column_delete, axis=1, inplace=True)"
   ]
  },
  {
   "cell_type": "markdown",
   "metadata": {},
   "source": [
    "# Standardize 'type' column\n",
    "\n",
    "Allowed types: call, song, both"
   ]
  },
  {
   "cell_type": "code",
   "execution_count": 10,
   "metadata": {},
   "outputs": [],
   "source": [
    "train.loc[train['type'].str.contains('call') & train['type'].str.contains('song'), 'type'] = 'both'\n",
    "train.loc[train['type'].str.contains('call'), 'type'] = 'call'\n",
    "train.loc[train['type'].str.contains('song'), 'type'] = 'song'\n",
    "train.loc[(train['type'] != ('call')) & (train['type'] != ('song')) & (train['type'] != ('both')), 'type'] = 'blank'\n",
    "\n",
    "test.loc[test['type'].str.contains('call') & test['type'].str.contains('song'), 'type'] = 'both'\n",
    "test.loc[test['type'].str.contains('call'), 'type'] = 'call'\n",
    "test.loc[test['type'].str.contains('song'), 'type'] = 'song'\n",
    "test.loc[(test['type'] != ('call')) & (test['type'] != ('song')) & (test['type'] != ('both')), 'type'] = 'blank'"
   ]
  },
  {
   "cell_type": "markdown",
   "metadata": {},
   "source": [
    "# Extracting the numpy array objects"
   ]
  },
  {
   "cell_type": "code",
   "execution_count": 11,
   "metadata": {},
   "outputs": [],
   "source": [
    "# Function to load audio\n",
    "def extract_audio(filename, sr=16000):\n",
    "  filepath = 'C:/Users/thato/OneDrive - University of Cape Town/Bird Classification Project/AudioSamples/birdclef-2023/train_audio/' + filename\n",
    "  audio, _ = librosa.load(filepath, sr=sr)\n",
    "  return audio"
   ]
  },
  {
   "cell_type": "code",
   "execution_count": 12,
   "metadata": {},
   "outputs": [],
   "source": [
    "# Function to save the audio as np arrays\n",
    "def save_audio_np(filenames, is_train):\n",
    "    folder_dir = 'C:/Users/thato/OneDrive - University of Cape Town/Bird Classification Project/AudioSamples/birdclef-2023/train_audio_npy/' if is_train else 'C:/Users/thato/OneDrive - University of Cape Town/Bird Classification Project/AudioSamples/birdclef-2023/test_audio_npy/'\n",
    "    os.makedirs(folder_dir, exist_ok=True)  # Use exist_ok=True to avoid errors if the folder exists\n",
    "    filepaths = []\n",
    "\n",
    "    # Loop over the filenames, extract the np objects, and save them to the respective directory\n",
    "    for filename in tqdm(filenames, desc=\"Saving audio files\", unit=\"file\"):\n",
    "        audio = extract_audio(filename)\n",
    "        folder = filename.split('/')[0]\n",
    "        name = filename.split('/')[1]\n",
    "        new_filename = name.replace('.ogg', '.npy')\n",
    "        filepaths.append(f'{folder}/{new_filename}')\n",
    "\n",
    "        # Create save directory\n",
    "        save_dir = f'{folder_dir}/{folder}/'\n",
    "        os.makedirs(save_dir, exist_ok=True)\n",
    "        save_filename = f'{save_dir}{new_filename}'\n",
    "\n",
    "        # Check if the file already exists\n",
    "        if os.path.exists(save_filename):\n",
    "            print(f\"File {save_filename} already exists. Skipping...\")\n",
    "            continue  # Skip the current iteration if the file exists\n",
    "\n",
    "        # Save .npy object\n",
    "        np.save(save_filename, audio)\n",
    "\n",
    "    # Assert all filenames have been looped through, and all files have been saved\n",
    "    assert len(filenames) == len(filepaths)\n",
    "    return filepaths"
   ]
  },
  {
   "cell_type": "code",
   "execution_count": 13,
   "metadata": {},
   "outputs": [
    {
     "name": "stderr",
     "output_type": "stream",
     "text": [
      "Saving audio files:   1%|          | 5/679 [00:00<00:13, 49.04file/s]"
     ]
    },
    {
     "name": "stdout",
     "output_type": "stream",
     "text": [
      "File C:/Users/thato/OneDrive - University of Cape Town/Bird Classification Project/AudioSamples/birdclef-2023/train_audio_npy//carcha1/XC205903.npy already exists. Skipping...\n",
      "File C:/Users/thato/OneDrive - University of Cape Town/Bird Classification Project/AudioSamples/birdclef-2023/train_audio_npy//carcha1/XC578852.npy already exists. Skipping...\n",
      "File C:/Users/thato/OneDrive - University of Cape Town/Bird Classification Project/AudioSamples/birdclef-2023/train_audio_npy//categr/XC669289.npy already exists. Skipping...\n",
      "File C:/Users/thato/OneDrive - University of Cape Town/Bird Classification Project/AudioSamples/birdclef-2023/train_audio_npy//colsun2/XC578632.npy already exists. Skipping...\n",
      "File C:/Users/thato/OneDrive - University of Cape Town/Bird Classification Project/AudioSamples/birdclef-2023/train_audio_npy//fotdro5/XC118434.npy already exists. Skipping...\n",
      "File C:/Users/thato/OneDrive - University of Cape Town/Bird Classification Project/AudioSamples/birdclef-2023/train_audio_npy//grecor/XC700158.npy already exists. Skipping...\n",
      "File C:/Users/thato/OneDrive - University of Cape Town/Bird Classification Project/AudioSamples/birdclef-2023/train_audio_npy//carcha1/XC416973.npy already exists. Skipping...\n",
      "File C:/Users/thato/OneDrive - University of Cape Town/Bird Classification Project/AudioSamples/birdclef-2023/train_audio_npy//fotdro5/XC650869.npy already exists. Skipping...\n",
      "File C:/Users/thato/OneDrive - University of Cape Town/Bird Classification Project/AudioSamples/birdclef-2023/train_audio_npy//wbrcha2/XC18225.npy already exists. Skipping...\n"
     ]
    },
    {
     "name": "stderr",
     "output_type": "stream",
     "text": [
      "Saving audio files:   1%|▏         | 10/679 [00:00<00:16, 40.30file/s]"
     ]
    },
    {
     "name": "stdout",
     "output_type": "stream",
     "text": [
      "File C:/Users/thato/OneDrive - University of Cape Town/Bird Classification Project/AudioSamples/birdclef-2023/train_audio_npy//grecor/XC529787.npy already exists. Skipping...\n",
      "File C:/Users/thato/OneDrive - University of Cape Town/Bird Classification Project/AudioSamples/birdclef-2023/train_audio_npy//categr/XC623267.npy already exists. Skipping...\n",
      "File C:/Users/thato/OneDrive - University of Cape Town/Bird Classification Project/AudioSamples/birdclef-2023/train_audio_npy//lawgol/XC442302.npy already exists. Skipping...\n",
      "File C:/Users/thato/OneDrive - University of Cape Town/Bird Classification Project/AudioSamples/birdclef-2023/train_audio_npy//fotdro5/XC524297.npy already exists. Skipping...\n",
      "File C:/Users/thato/OneDrive - University of Cape Town/Bird Classification Project/AudioSamples/birdclef-2023/train_audio_npy//categr/XC418722.npy already exists. Skipping...\n"
     ]
    },
    {
     "name": "stderr",
     "output_type": "stream",
     "text": [
      "Saving audio files:   3%|▎         | 18/679 [00:02<01:36,  6.88file/s]"
     ]
    },
    {
     "name": "stdout",
     "output_type": "stream",
     "text": [
      "File C:/Users/thato/OneDrive - University of Cape Town/Bird Classification Project/AudioSamples/birdclef-2023/train_audio_npy//wbrcha2/XC127909.npy already exists. Skipping...\n",
      "File C:/Users/thato/OneDrive - University of Cape Town/Bird Classification Project/AudioSamples/birdclef-2023/train_audio_npy//colsun2/XC516807.npy already exists. Skipping...\n",
      "File C:/Users/thato/OneDrive - University of Cape Town/Bird Classification Project/AudioSamples/birdclef-2023/train_audio_npy//fotdro5/XC756274.npy already exists. Skipping...\n",
      "File C:/Users/thato/OneDrive - University of Cape Town/Bird Classification Project/AudioSamples/birdclef-2023/train_audio_npy//carcha1/XC384921.npy already exists. Skipping...\n"
     ]
    },
    {
     "name": "stderr",
     "output_type": "stream",
     "text": [
      "Saving audio files:   4%|▍         | 26/679 [00:02<00:53, 12.29file/s]"
     ]
    },
    {
     "name": "stdout",
     "output_type": "stream",
     "text": [
      "File C:/Users/thato/OneDrive - University of Cape Town/Bird Classification Project/AudioSamples/birdclef-2023/train_audio_npy//fotdro5/XC513153.npy already exists. Skipping...\n",
      "File C:/Users/thato/OneDrive - University of Cape Town/Bird Classification Project/AudioSamples/birdclef-2023/train_audio_npy//categr/XC520659.npy already exists. Skipping...\n",
      "File C:/Users/thato/OneDrive - University of Cape Town/Bird Classification Project/AudioSamples/birdclef-2023/train_audio_npy//grecor/XC726669.npy already exists. Skipping...\n",
      "File C:/Users/thato/OneDrive - University of Cape Town/Bird Classification Project/AudioSamples/birdclef-2023/train_audio_npy//categr/XC57418.npy already exists. Skipping...\n",
      "File C:/Users/thato/OneDrive - University of Cape Town/Bird Classification Project/AudioSamples/birdclef-2023/train_audio_npy//categr/XC298914.npy already exists. Skipping...\n",
      "File C:/Users/thato/OneDrive - University of Cape Town/Bird Classification Project/AudioSamples/birdclef-2023/train_audio_npy//fotdro5/XC195991.npy already exists. Skipping...\n"
     ]
    },
    {
     "name": "stderr",
     "output_type": "stream",
     "text": [
      "Saving audio files:   4%|▍         | 30/679 [00:02<00:47, 13.74file/s]"
     ]
    },
    {
     "name": "stdout",
     "output_type": "stream",
     "text": [
      "File C:/Users/thato/OneDrive - University of Cape Town/Bird Classification Project/AudioSamples/birdclef-2023/train_audio_npy//carcha1/XC431170.npy already exists. Skipping...\n",
      "File C:/Users/thato/OneDrive - University of Cape Town/Bird Classification Project/AudioSamples/birdclef-2023/train_audio_npy//categr/XC282494.npy already exists. Skipping...\n",
      "File C:/Users/thato/OneDrive - University of Cape Town/Bird Classification Project/AudioSamples/birdclef-2023/train_audio_npy//carcha1/XC326411.npy already exists. Skipping...\n",
      "File C:/Users/thato/OneDrive - University of Cape Town/Bird Classification Project/AudioSamples/birdclef-2023/train_audio_npy//carcha1/XC497602.npy already exists. Skipping...\n",
      "File C:/Users/thato/OneDrive - University of Cape Town/Bird Classification Project/AudioSamples/birdclef-2023/train_audio_npy//categr/XC196080.npy already exists. Skipping...\n",
      "File C:/Users/thato/OneDrive - University of Cape Town/Bird Classification Project/AudioSamples/birdclef-2023/train_audio_npy//fotdro5/XC195990.npy already exists. Skipping...\n",
      "File C:/Users/thato/OneDrive - University of Cape Town/Bird Classification Project/AudioSamples/birdclef-2023/train_audio_npy//carcha1/XC322329.npy already exists. Skipping...\n"
     ]
    },
    {
     "name": "stderr",
     "output_type": "stream",
     "text": [
      "Saving audio files:   6%|▌         | 39/679 [00:02<00:29, 21.95file/s]"
     ]
    },
    {
     "name": "stdout",
     "output_type": "stream",
     "text": [
      "File C:/Users/thato/OneDrive - University of Cape Town/Bird Classification Project/AudioSamples/birdclef-2023/train_audio_npy//colsun2/XC620984.npy already exists. Skipping...\n",
      "File C:/Users/thato/OneDrive - University of Cape Town/Bird Classification Project/AudioSamples/birdclef-2023/train_audio_npy//fotdro5/XC756267.npy already exists. Skipping...\n",
      "File C:/Users/thato/OneDrive - University of Cape Town/Bird Classification Project/AudioSamples/birdclef-2023/train_audio_npy//lawgol/XC348343.npy already exists. Skipping...\n",
      "File C:/Users/thato/OneDrive - University of Cape Town/Bird Classification Project/AudioSamples/birdclef-2023/train_audio_npy//categr/XC713110.npy already exists. Skipping...\n",
      "File C:/Users/thato/OneDrive - University of Cape Town/Bird Classification Project/AudioSamples/birdclef-2023/train_audio_npy//colsun2/XC755891.npy already exists. Skipping...\n",
      "File C:/Users/thato/OneDrive - University of Cape Town/Bird Classification Project/AudioSamples/birdclef-2023/train_audio_npy//categr/XC174527.npy already exists. Skipping...\n"
     ]
    },
    {
     "name": "stderr",
     "output_type": "stream",
     "text": [
      "Saving audio files:   6%|▋         | 43/679 [00:03<00:26, 24.22file/s]"
     ]
    },
    {
     "name": "stdout",
     "output_type": "stream",
     "text": [
      "File C:/Users/thato/OneDrive - University of Cape Town/Bird Classification Project/AudioSamples/birdclef-2023/train_audio_npy//categr/XC322747.npy already exists. Skipping...\n",
      "File C:/Users/thato/OneDrive - University of Cape Town/Bird Classification Project/AudioSamples/birdclef-2023/train_audio_npy//colsun2/XC517344.npy already exists. Skipping...\n",
      "File C:/Users/thato/OneDrive - University of Cape Town/Bird Classification Project/AudioSamples/birdclef-2023/train_audio_npy//fotdro5/XC412171.npy already exists. Skipping...\n",
      "File C:/Users/thato/OneDrive - University of Cape Town/Bird Classification Project/AudioSamples/birdclef-2023/train_audio_npy//grecor/XC577966.npy already exists. Skipping...\n",
      "File C:/Users/thato/OneDrive - University of Cape Town/Bird Classification Project/AudioSamples/birdclef-2023/train_audio_npy//grecor/XC340915.npy already exists. Skipping...\n",
      "File C:/Users/thato/OneDrive - University of Cape Town/Bird Classification Project/AudioSamples/birdclef-2023/train_audio_npy//lawgol/XC649158.npy already exists. Skipping...\n"
     ]
    },
    {
     "name": "stderr",
     "output_type": "stream",
     "text": [
      "Saving audio files:   8%|▊         | 52/679 [00:03<00:24, 25.80file/s]"
     ]
    },
    {
     "name": "stdout",
     "output_type": "stream",
     "text": [
      "File C:/Users/thato/OneDrive - University of Cape Town/Bird Classification Project/AudioSamples/birdclef-2023/train_audio_npy//grecor/XC428935.npy already exists. Skipping...\n",
      "File C:/Users/thato/OneDrive - University of Cape Town/Bird Classification Project/AudioSamples/birdclef-2023/train_audio_npy//wbrcha2/XC339720.npy already exists. Skipping...\n",
      "File C:/Users/thato/OneDrive - University of Cape Town/Bird Classification Project/AudioSamples/birdclef-2023/train_audio_npy//carcha1/XC657605.npy already exists. Skipping...\n",
      "File C:/Users/thato/OneDrive - University of Cape Town/Bird Classification Project/AudioSamples/birdclef-2023/train_audio_npy//colsun2/XC365415.npy already exists. Skipping...\n",
      "File C:/Users/thato/OneDrive - University of Cape Town/Bird Classification Project/AudioSamples/birdclef-2023/train_audio_npy//carcha1/XC663646.npy already exists. Skipping...\n"
     ]
    },
    {
     "name": "stderr",
     "output_type": "stream",
     "text": [
      "Saving audio files:   9%|▉         | 60/679 [00:03<00:22, 27.71file/s]"
     ]
    },
    {
     "name": "stdout",
     "output_type": "stream",
     "text": [
      "File C:/Users/thato/OneDrive - University of Cape Town/Bird Classification Project/AudioSamples/birdclef-2023/train_audio_npy//lawgol/XC661808.npy already exists. Skipping...\n",
      "File C:/Users/thato/OneDrive - University of Cape Town/Bird Classification Project/AudioSamples/birdclef-2023/train_audio_npy//colsun2/XC315994.npy already exists. Skipping...\n",
      "File C:/Users/thato/OneDrive - University of Cape Town/Bird Classification Project/AudioSamples/birdclef-2023/train_audio_npy//lawgol/XC128314.npy already exists. Skipping...\n",
      "File C:/Users/thato/OneDrive - University of Cape Town/Bird Classification Project/AudioSamples/birdclef-2023/train_audio_npy//wbrcha2/XC317506.npy already exists. Skipping...\n",
      "File C:/Users/thato/OneDrive - University of Cape Town/Bird Classification Project/AudioSamples/birdclef-2023/train_audio_npy//wbrcha2/XC503801.npy already exists. Skipping...\n",
      "File C:/Users/thato/OneDrive - University of Cape Town/Bird Classification Project/AudioSamples/birdclef-2023/train_audio_npy//categr/XC218727.npy already exists. Skipping...\n",
      "File C:/Users/thato/OneDrive - University of Cape Town/Bird Classification Project/AudioSamples/birdclef-2023/train_audio_npy//fotdro5/XC619816.npy already exists. Skipping...\n",
      "File C:/Users/thato/OneDrive - University of Cape Town/Bird Classification Project/AudioSamples/birdclef-2023/train_audio_npy//carcha1/XC515645.npy already exists. Skipping...\n"
     ]
    },
    {
     "name": "stderr",
     "output_type": "stream",
     "text": [
      "Saving audio files:  10%|▉         | 66/679 [00:03<00:19, 31.18file/s]"
     ]
    },
    {
     "name": "stdout",
     "output_type": "stream",
     "text": [
      "File C:/Users/thato/OneDrive - University of Cape Town/Bird Classification Project/AudioSamples/birdclef-2023/train_audio_npy//lawgol/XC161317.npy already exists. Skipping...\n",
      "File C:/Users/thato/OneDrive - University of Cape Town/Bird Classification Project/AudioSamples/birdclef-2023/train_audio_npy//colsun2/XC345100.npy already exists. Skipping...\n",
      "File C:/Users/thato/OneDrive - University of Cape Town/Bird Classification Project/AudioSamples/birdclef-2023/train_audio_npy//colsun2/XC377503.npy already exists. Skipping...\n",
      "File C:/Users/thato/OneDrive - University of Cape Town/Bird Classification Project/AudioSamples/birdclef-2023/train_audio_npy//categr/XC361546.npy already exists. Skipping...\n",
      "File C:/Users/thato/OneDrive - University of Cape Town/Bird Classification Project/AudioSamples/birdclef-2023/train_audio_npy//carcha1/XC367241.npy already exists. Skipping...\n",
      "File C:/Users/thato/OneDrive - University of Cape Town/Bird Classification Project/AudioSamples/birdclef-2023/train_audio_npy//colsun2/XC744262.npy already exists. Skipping...\n",
      "File C:/Users/thato/OneDrive - University of Cape Town/Bird Classification Project/AudioSamples/birdclef-2023/train_audio_npy//carcha1/XC694099.npy already exists. Skipping...\n",
      "File C:/Users/thato/OneDrive - University of Cape Town/Bird Classification Project/AudioSamples/birdclef-2023/train_audio_npy//fotdro5/XC430260.npy already exists. Skipping...\n",
      "File C:/Users/thato/OneDrive - University of Cape Town/Bird Classification Project/AudioSamples/birdclef-2023/train_audio_npy//fotdro5/XC389984.npy already exists. Skipping...\n"
     ]
    },
    {
     "name": "stderr",
     "output_type": "stream",
     "text": [
      "Saving audio files:  10%|█         | 71/679 [00:03<00:17, 34.97file/s]"
     ]
    },
    {
     "name": "stdout",
     "output_type": "stream",
     "text": [
      "File C:/Users/thato/OneDrive - University of Cape Town/Bird Classification Project/AudioSamples/birdclef-2023/train_audio_npy//colsun2/XC516860.npy already exists. Skipping...\n",
      "File C:/Users/thato/OneDrive - University of Cape Town/Bird Classification Project/AudioSamples/birdclef-2023/train_audio_npy//categr/XC423135.npy already exists. Skipping...\n",
      "File C:/Users/thato/OneDrive - University of Cape Town/Bird Classification Project/AudioSamples/birdclef-2023/train_audio_npy//wbrcha2/XC281998.npy already exists. Skipping...\n",
      "File C:/Users/thato/OneDrive - University of Cape Town/Bird Classification Project/AudioSamples/birdclef-2023/train_audio_npy//colsun2/XC205445.npy already exists. Skipping...\n"
     ]
    },
    {
     "name": "stderr",
     "output_type": "stream",
     "text": [
      "Saving audio files:  12%|█▏        | 80/679 [00:04<00:17, 33.35file/s]"
     ]
    },
    {
     "name": "stdout",
     "output_type": "stream",
     "text": [
      "File C:/Users/thato/OneDrive - University of Cape Town/Bird Classification Project/AudioSamples/birdclef-2023/train_audio_npy//categr/XC246911.npy already exists. Skipping...\n",
      "File C:/Users/thato/OneDrive - University of Cape Town/Bird Classification Project/AudioSamples/birdclef-2023/train_audio_npy//fotdro5/XC213142.npy already exists. Skipping...\n",
      "File C:/Users/thato/OneDrive - University of Cape Town/Bird Classification Project/AudioSamples/birdclef-2023/train_audio_npy//colsun2/XC633924.npy already exists. Skipping...\n",
      "File C:/Users/thato/OneDrive - University of Cape Town/Bird Classification Project/AudioSamples/birdclef-2023/train_audio_npy//carcha1/XC430661.npy already exists. Skipping...\n",
      "File C:/Users/thato/OneDrive - University of Cape Town/Bird Classification Project/AudioSamples/birdclef-2023/train_audio_npy//fotdro5/XC712460.npy already exists. Skipping...\n",
      "File C:/Users/thato/OneDrive - University of Cape Town/Bird Classification Project/AudioSamples/birdclef-2023/train_audio_npy//carcha1/XC322335.npy already exists. Skipping...\n"
     ]
    },
    {
     "name": "stderr",
     "output_type": "stream",
     "text": [
      "Saving audio files:  13%|█▎        | 88/679 [00:04<00:19, 30.73file/s]"
     ]
    },
    {
     "name": "stdout",
     "output_type": "stream",
     "text": [
      "File C:/Users/thato/OneDrive - University of Cape Town/Bird Classification Project/AudioSamples/birdclef-2023/train_audio_npy//categr/XC192966.npy already exists. Skipping...\n",
      "File C:/Users/thato/OneDrive - University of Cape Town/Bird Classification Project/AudioSamples/birdclef-2023/train_audio_npy//fotdro5/XC633730.npy already exists. Skipping...\n",
      "File C:/Users/thato/OneDrive - University of Cape Town/Bird Classification Project/AudioSamples/birdclef-2023/train_audio_npy//categr/XC485246.npy already exists. Skipping...\n",
      "File C:/Users/thato/OneDrive - University of Cape Town/Bird Classification Project/AudioSamples/birdclef-2023/train_audio_npy//grecor/XC722334.npy already exists. Skipping...\n",
      "File C:/Users/thato/OneDrive - University of Cape Town/Bird Classification Project/AudioSamples/birdclef-2023/train_audio_npy//wbrcha2/XC305938.npy already exists. Skipping...\n",
      "File C:/Users/thato/OneDrive - University of Cape Town/Bird Classification Project/AudioSamples/birdclef-2023/train_audio_npy//colsun2/XC428504.npy already exists. Skipping...\n",
      "File C:/Users/thato/OneDrive - University of Cape Town/Bird Classification Project/AudioSamples/birdclef-2023/train_audio_npy//carcha1/XC368198.npy already exists. Skipping...\n"
     ]
    },
    {
     "name": "stderr",
     "output_type": "stream",
     "text": [
      "Saving audio files:  14%|█▍        | 97/679 [00:04<00:19, 30.53file/s]"
     ]
    },
    {
     "name": "stdout",
     "output_type": "stream",
     "text": [
      "File C:/Users/thato/OneDrive - University of Cape Town/Bird Classification Project/AudioSamples/birdclef-2023/train_audio_npy//wbrcha2/XC320852.npy already exists. Skipping...\n",
      "File C:/Users/thato/OneDrive - University of Cape Town/Bird Classification Project/AudioSamples/birdclef-2023/train_audio_npy//wbrcha2/XC502783.npy already exists. Skipping...\n",
      "File C:/Users/thato/OneDrive - University of Cape Town/Bird Classification Project/AudioSamples/birdclef-2023/train_audio_npy//categr/XC756293.npy already exists. Skipping...\n",
      "File C:/Users/thato/OneDrive - University of Cape Town/Bird Classification Project/AudioSamples/birdclef-2023/train_audio_npy//lawgol/XC661815.npy already exists. Skipping...\n"
     ]
    },
    {
     "name": "stderr",
     "output_type": "stream",
     "text": [
      "Saving audio files:  15%|█▍        | 101/679 [00:04<00:19, 30.28file/s]"
     ]
    },
    {
     "name": "stdout",
     "output_type": "stream",
     "text": [
      "File C:/Users/thato/OneDrive - University of Cape Town/Bird Classification Project/AudioSamples/birdclef-2023/train_audio_npy//fotdro5/XC664387.npy already exists. Skipping...\n",
      "File C:/Users/thato/OneDrive - University of Cape Town/Bird Classification Project/AudioSamples/birdclef-2023/train_audio_npy//colsun2/XC465551.npy already exists. Skipping...\n",
      "File C:/Users/thato/OneDrive - University of Cape Town/Bird Classification Project/AudioSamples/birdclef-2023/train_audio_npy//fotdro5/XC153532.npy already exists. Skipping...\n",
      "File C:/Users/thato/OneDrive - University of Cape Town/Bird Classification Project/AudioSamples/birdclef-2023/train_audio_npy//wbrcha2/XC444916.npy already exists. Skipping...\n",
      "File C:/Users/thato/OneDrive - University of Cape Town/Bird Classification Project/AudioSamples/birdclef-2023/train_audio_npy//fotdro5/XC153585.npy already exists. Skipping...\n",
      "File C:/Users/thato/OneDrive - University of Cape Town/Bird Classification Project/AudioSamples/birdclef-2023/train_audio_npy//colsun2/XC516833.npy already exists. Skipping...\n"
     ]
    },
    {
     "name": "stderr",
     "output_type": "stream",
     "text": [
      "Saving audio files:  16%|█▌        | 110/679 [00:05<00:18, 31.34file/s]"
     ]
    },
    {
     "name": "stdout",
     "output_type": "stream",
     "text": [
      "File C:/Users/thato/OneDrive - University of Cape Town/Bird Classification Project/AudioSamples/birdclef-2023/train_audio_npy//grecor/XC402703.npy already exists. Skipping...\n",
      "File C:/Users/thato/OneDrive - University of Cape Town/Bird Classification Project/AudioSamples/birdclef-2023/train_audio_npy//colsun2/XC163960.npy already exists. Skipping...\n",
      "File C:/Users/thato/OneDrive - University of Cape Town/Bird Classification Project/AudioSamples/birdclef-2023/train_audio_npy//categr/XC368934.npy already exists. Skipping...\n",
      "File C:/Users/thato/OneDrive - University of Cape Town/Bird Classification Project/AudioSamples/birdclef-2023/train_audio_npy//fotdro5/XC664389.npy already exists. Skipping...\n",
      "File C:/Users/thato/OneDrive - University of Cape Town/Bird Classification Project/AudioSamples/birdclef-2023/train_audio_npy//wbrcha2/XC282012.npy already exists. Skipping...\n",
      "File C:/Users/thato/OneDrive - University of Cape Town/Bird Classification Project/AudioSamples/birdclef-2023/train_audio_npy//lawgol/XC161308.npy already exists. Skipping...\n"
     ]
    },
    {
     "name": "stderr",
     "output_type": "stream",
     "text": [
      "Saving audio files:  17%|█▋        | 114/679 [00:05<00:18, 30.32file/s]"
     ]
    },
    {
     "name": "stdout",
     "output_type": "stream",
     "text": [
      "File C:/Users/thato/OneDrive - University of Cape Town/Bird Classification Project/AudioSamples/birdclef-2023/train_audio_npy//fotdro5/XC430018.npy already exists. Skipping...\n",
      "File C:/Users/thato/OneDrive - University of Cape Town/Bird Classification Project/AudioSamples/birdclef-2023/train_audio_npy//fotdro5/XC513154.npy already exists. Skipping...\n",
      "File C:/Users/thato/OneDrive - University of Cape Town/Bird Classification Project/AudioSamples/birdclef-2023/train_audio_npy//carcha1/XC324664.npy already exists. Skipping...\n",
      "File C:/Users/thato/OneDrive - University of Cape Town/Bird Classification Project/AudioSamples/birdclef-2023/train_audio_npy//wbrcha2/XC363961.npy already exists. Skipping...\n"
     ]
    },
    {
     "name": "stderr",
     "output_type": "stream",
     "text": [
      "Saving audio files:  17%|█▋        | 118/679 [00:05<00:21, 25.70file/s]"
     ]
    },
    {
     "name": "stdout",
     "output_type": "stream",
     "text": [
      "File C:/Users/thato/OneDrive - University of Cape Town/Bird Classification Project/AudioSamples/birdclef-2023/train_audio_npy//wbrcha2/XC196510.npy already exists. Skipping...\n",
      "File C:/Users/thato/OneDrive - University of Cape Town/Bird Classification Project/AudioSamples/birdclef-2023/train_audio_npy//lawgol/XC161310.npy already exists. Skipping...\n",
      "File C:/Users/thato/OneDrive - University of Cape Town/Bird Classification Project/AudioSamples/birdclef-2023/train_audio_npy//carcha1/XC515311.npy already exists. Skipping...\n",
      "File C:/Users/thato/OneDrive - University of Cape Town/Bird Classification Project/AudioSamples/birdclef-2023/train_audio_npy//categr/XC328548.npy already exists. Skipping...\n"
     ]
    },
    {
     "name": "stderr",
     "output_type": "stream",
     "text": [
      "Saving audio files:  18%|█▊        | 124/679 [00:06<00:28, 19.64file/s]"
     ]
    },
    {
     "name": "stdout",
     "output_type": "stream",
     "text": [
      "File C:/Users/thato/OneDrive - University of Cape Town/Bird Classification Project/AudioSamples/birdclef-2023/train_audio_npy//grecor/XC622701.npy already exists. Skipping...\n",
      "File C:/Users/thato/OneDrive - University of Cape Town/Bird Classification Project/AudioSamples/birdclef-2023/train_audio_npy//fotdro5/XC641788.npy already exists. Skipping...\n",
      "File C:/Users/thato/OneDrive - University of Cape Town/Bird Classification Project/AudioSamples/birdclef-2023/train_audio_npy//grecor/XC650228.npy already exists. Skipping...\n"
     ]
    },
    {
     "name": "stderr",
     "output_type": "stream",
     "text": [
      "Saving audio files:  19%|█▉        | 128/679 [00:06<00:24, 22.61file/s]"
     ]
    },
    {
     "name": "stdout",
     "output_type": "stream",
     "text": [
      "File C:/Users/thato/OneDrive - University of Cape Town/Bird Classification Project/AudioSamples/birdclef-2023/train_audio_npy//grecor/XC511796.npy already exists. Skipping...\n",
      "File C:/Users/thato/OneDrive - University of Cape Town/Bird Classification Project/AudioSamples/birdclef-2023/train_audio_npy//grecor/XC458429.npy already exists. Skipping...\n",
      "File C:/Users/thato/OneDrive - University of Cape Town/Bird Classification Project/AudioSamples/birdclef-2023/train_audio_npy//colsun2/XC523506.npy already exists. Skipping...\n",
      "File C:/Users/thato/OneDrive - University of Cape Town/Bird Classification Project/AudioSamples/birdclef-2023/train_audio_npy//wbrcha2/XC584723.npy already exists. Skipping...\n",
      "File C:/Users/thato/OneDrive - University of Cape Town/Bird Classification Project/AudioSamples/birdclef-2023/train_audio_npy//categr/XC740802.npy already exists. Skipping...\n"
     ]
    },
    {
     "name": "stderr",
     "output_type": "stream",
     "text": [
      "Saving audio files:  20%|█▉        | 134/679 [00:06<00:29, 18.54file/s]"
     ]
    },
    {
     "name": "stdout",
     "output_type": "stream",
     "text": [
      "File C:/Users/thato/OneDrive - University of Cape Town/Bird Classification Project/AudioSamples/birdclef-2023/train_audio_npy//categr/XC196079.npy already exists. Skipping...\n",
      "File C:/Users/thato/OneDrive - University of Cape Town/Bird Classification Project/AudioSamples/birdclef-2023/train_audio_npy//carcha1/XC254833.npy already exists. Skipping...\n",
      "File C:/Users/thato/OneDrive - University of Cape Town/Bird Classification Project/AudioSamples/birdclef-2023/train_audio_npy//lawgol/XC661811.npy already exists. Skipping...\n",
      "File C:/Users/thato/OneDrive - University of Cape Town/Bird Classification Project/AudioSamples/birdclef-2023/train_audio_npy//categr/XC321214.npy already exists. Skipping...\n",
      "File C:/Users/thato/OneDrive - University of Cape Town/Bird Classification Project/AudioSamples/birdclef-2023/train_audio_npy//colsun2/XC326978.npy already exists. Skipping...\n"
     ]
    },
    {
     "name": "stderr",
     "output_type": "stream",
     "text": [
      "Saving audio files:  20%|██        | 137/679 [00:08<01:35,  5.65file/s]"
     ]
    },
    {
     "name": "stdout",
     "output_type": "stream",
     "text": [
      "File C:/Users/thato/OneDrive - University of Cape Town/Bird Classification Project/AudioSamples/birdclef-2023/train_audio_npy//grecor/XC627838.npy already exists. Skipping...\n",
      "File C:/Users/thato/OneDrive - University of Cape Town/Bird Classification Project/AudioSamples/birdclef-2023/train_audio_npy//categr/XC329275.npy already exists. Skipping...\n",
      "File C:/Users/thato/OneDrive - University of Cape Town/Bird Classification Project/AudioSamples/birdclef-2023/train_audio_npy//categr/XC418997.npy already exists. Skipping...\n",
      "File C:/Users/thato/OneDrive - University of Cape Town/Bird Classification Project/AudioSamples/birdclef-2023/train_audio_npy//grecor/XC692509.npy already exists. Skipping...\n",
      "File C:/Users/thato/OneDrive - University of Cape Town/Bird Classification Project/AudioSamples/birdclef-2023/train_audio_npy//grecor/XC521923.npy already exists. Skipping...\n"
     ]
    },
    {
     "name": "stderr",
     "output_type": "stream",
     "text": [
      "Saving audio files:  21%|██        | 141/679 [00:08<01:25,  6.31file/s]"
     ]
    },
    {
     "name": "stdout",
     "output_type": "stream",
     "text": [
      "File C:/Users/thato/OneDrive - University of Cape Town/Bird Classification Project/AudioSamples/birdclef-2023/train_audio_npy//categr/XC297698.npy already exists. Skipping...\n",
      "File C:/Users/thato/OneDrive - University of Cape Town/Bird Classification Project/AudioSamples/birdclef-2023/train_audio_npy//colsun2/XC517333.npy already exists. Skipping...\n",
      "File C:/Users/thato/OneDrive - University of Cape Town/Bird Classification Project/AudioSamples/birdclef-2023/train_audio_npy//colsun2/XC394501.npy already exists. Skipping...\n",
      "File C:/Users/thato/OneDrive - University of Cape Town/Bird Classification Project/AudioSamples/birdclef-2023/train_audio_npy//lawgol/XC453896.npy already exists. Skipping...\n"
     ]
    },
    {
     "name": "stderr",
     "output_type": "stream",
     "text": [
      "Saving audio files:  22%|██▏       | 147/679 [00:08<01:01,  8.66file/s]"
     ]
    },
    {
     "name": "stdout",
     "output_type": "stream",
     "text": [
      "File C:/Users/thato/OneDrive - University of Cape Town/Bird Classification Project/AudioSamples/birdclef-2023/train_audio_npy//categr/XC339758.npy already exists. Skipping...\n",
      "File C:/Users/thato/OneDrive - University of Cape Town/Bird Classification Project/AudioSamples/birdclef-2023/train_audio_npy//colsun2/XC442068.npy already exists. Skipping...\n",
      "File C:/Users/thato/OneDrive - University of Cape Town/Bird Classification Project/AudioSamples/birdclef-2023/train_audio_npy//fotdro5/XC538792.npy already exists. Skipping...\n",
      "File C:/Users/thato/OneDrive - University of Cape Town/Bird Classification Project/AudioSamples/birdclef-2023/train_audio_npy//wbrcha2/XC488564.npy already exists. Skipping...\n"
     ]
    },
    {
     "name": "stderr",
     "output_type": "stream",
     "text": [
      "Saving audio files:  22%|██▏       | 151/679 [00:09<00:44, 11.87file/s]"
     ]
    },
    {
     "name": "stdout",
     "output_type": "stream",
     "text": [
      "File C:/Users/thato/OneDrive - University of Cape Town/Bird Classification Project/AudioSamples/birdclef-2023/train_audio_npy//colsun2/XC517247.npy already exists. Skipping...\n",
      "File C:/Users/thato/OneDrive - University of Cape Town/Bird Classification Project/AudioSamples/birdclef-2023/train_audio_npy//lawgol/XC461552.npy already exists. Skipping...\n",
      "File C:/Users/thato/OneDrive - University of Cape Town/Bird Classification Project/AudioSamples/birdclef-2023/train_audio_npy//carcha1/XC670929.npy already exists. Skipping...\n"
     ]
    },
    {
     "name": "stderr",
     "output_type": "stream",
     "text": [
      "Saving audio files:  23%|██▎       | 154/679 [00:09<00:48, 10.83file/s]"
     ]
    },
    {
     "name": "stdout",
     "output_type": "stream",
     "text": [
      "File C:/Users/thato/OneDrive - University of Cape Town/Bird Classification Project/AudioSamples/birdclef-2023/train_audio_npy//colsun2/XC516601.npy already exists. Skipping...\n",
      "File C:/Users/thato/OneDrive - University of Cape Town/Bird Classification Project/AudioSamples/birdclef-2023/train_audio_npy//grecor/XC308865.npy already exists. Skipping...\n",
      "File C:/Users/thato/OneDrive - University of Cape Town/Bird Classification Project/AudioSamples/birdclef-2023/train_audio_npy//colsun2/XC649916.npy already exists. Skipping...\n",
      "File C:/Users/thato/OneDrive - University of Cape Town/Bird Classification Project/AudioSamples/birdclef-2023/train_audio_npy//fotdro5/XC756271.npy already exists. Skipping...\n",
      "File C:/Users/thato/OneDrive - University of Cape Town/Bird Classification Project/AudioSamples/birdclef-2023/train_audio_npy//carcha1/XC515308.npy already exists. Skipping...\n"
     ]
    },
    {
     "name": "stderr",
     "output_type": "stream",
     "text": [
      "Saving audio files:  24%|██▎       | 160/679 [00:09<00:37, 14.01file/s]"
     ]
    },
    {
     "name": "stdout",
     "output_type": "stream",
     "text": [
      "File C:/Users/thato/OneDrive - University of Cape Town/Bird Classification Project/AudioSamples/birdclef-2023/train_audio_npy//categr/XC328546.npy already exists. Skipping...\n",
      "File C:/Users/thato/OneDrive - University of Cape Town/Bird Classification Project/AudioSamples/birdclef-2023/train_audio_npy//colsun2/XC254686.npy already exists. Skipping...\n",
      "File C:/Users/thato/OneDrive - University of Cape Town/Bird Classification Project/AudioSamples/birdclef-2023/train_audio_npy//carcha1/XC665429.npy already exists. Skipping...\n",
      "File C:/Users/thato/OneDrive - University of Cape Town/Bird Classification Project/AudioSamples/birdclef-2023/train_audio_npy//carcha1/XC205895.npy already exists. Skipping...\n",
      "File C:/Users/thato/OneDrive - University of Cape Town/Bird Classification Project/AudioSamples/birdclef-2023/train_audio_npy//fotdro5/XC716185.npy already exists. Skipping...\n",
      "File C:/Users/thato/OneDrive - University of Cape Town/Bird Classification Project/AudioSamples/birdclef-2023/train_audio_npy//carcha1/XC429621.npy already exists. Skipping...\n",
      "File C:/Users/thato/OneDrive - University of Cape Town/Bird Classification Project/AudioSamples/birdclef-2023/train_audio_npy//carcha1/XC496360.npy already exists. Skipping...\n"
     ]
    },
    {
     "name": "stderr",
     "output_type": "stream",
     "text": [
      "Saving audio files:  25%|██▌       | 173/679 [00:10<00:21, 23.34file/s]"
     ]
    },
    {
     "name": "stdout",
     "output_type": "stream",
     "text": [
      "File C:/Users/thato/OneDrive - University of Cape Town/Bird Classification Project/AudioSamples/birdclef-2023/train_audio_npy//carcha1/XC515309.npy already exists. Skipping...\n",
      "File C:/Users/thato/OneDrive - University of Cape Town/Bird Classification Project/AudioSamples/birdclef-2023/train_audio_npy//colsun2/XC516538.npy already exists. Skipping...\n",
      "File C:/Users/thato/OneDrive - University of Cape Town/Bird Classification Project/AudioSamples/birdclef-2023/train_audio_npy//categr/XC368935.npy already exists. Skipping...\n",
      "File C:/Users/thato/OneDrive - University of Cape Town/Bird Classification Project/AudioSamples/birdclef-2023/train_audio_npy//grecor/XC522801.npy already exists. Skipping...\n",
      "File C:/Users/thato/OneDrive - University of Cape Town/Bird Classification Project/AudioSamples/birdclef-2023/train_audio_npy//categr/XC713118.npy already exists. Skipping...\n",
      "File C:/Users/thato/OneDrive - University of Cape Town/Bird Classification Project/AudioSamples/birdclef-2023/train_audio_npy//categr/XC157743.npy already exists. Skipping...\n",
      "File C:/Users/thato/OneDrive - University of Cape Town/Bird Classification Project/AudioSamples/birdclef-2023/train_audio_npy//fotdro5/XC619817.npy already exists. Skipping...\n",
      "File C:/Users/thato/OneDrive - University of Cape Town/Bird Classification Project/AudioSamples/birdclef-2023/train_audio_npy//grecor/XC469518.npy already exists. Skipping...\n"
     ]
    },
    {
     "name": "stderr",
     "output_type": "stream",
     "text": [
      "Saving audio files:  27%|██▋       | 182/679 [00:10<00:16, 30.31file/s]"
     ]
    },
    {
     "name": "stdout",
     "output_type": "stream",
     "text": [
      "File C:/Users/thato/OneDrive - University of Cape Town/Bird Classification Project/AudioSamples/birdclef-2023/train_audio_npy//carcha1/XC386388.npy already exists. Skipping...\n",
      "File C:/Users/thato/OneDrive - University of Cape Town/Bird Classification Project/AudioSamples/birdclef-2023/train_audio_npy//lawgol/XC468238.npy already exists. Skipping...\n",
      "File C:/Users/thato/OneDrive - University of Cape Town/Bird Classification Project/AudioSamples/birdclef-2023/train_audio_npy//grecor/XC740311.npy already exists. Skipping...\n",
      "File C:/Users/thato/OneDrive - University of Cape Town/Bird Classification Project/AudioSamples/birdclef-2023/train_audio_npy//categr/XC517417.npy already exists. Skipping...\n",
      "File C:/Users/thato/OneDrive - University of Cape Town/Bird Classification Project/AudioSamples/birdclef-2023/train_audio_npy//fotdro5/XC613619.npy already exists. Skipping...\n",
      "File C:/Users/thato/OneDrive - University of Cape Town/Bird Classification Project/AudioSamples/birdclef-2023/train_audio_npy//categr/XC713106.npy already exists. Skipping...\n",
      "File C:/Users/thato/OneDrive - University of Cape Town/Bird Classification Project/AudioSamples/birdclef-2023/train_audio_npy//grecor/XC386005.npy already exists. Skipping...\n",
      "File C:/Users/thato/OneDrive - University of Cape Town/Bird Classification Project/AudioSamples/birdclef-2023/train_audio_npy//wbrcha2/XC405656.npy already exists. Skipping...\n",
      "File C:/Users/thato/OneDrive - University of Cape Town/Bird Classification Project/AudioSamples/birdclef-2023/train_audio_npy//grecor/XC37544.npy already exists. Skipping...\n",
      "File C:/Users/thato/OneDrive - University of Cape Town/Bird Classification Project/AudioSamples/birdclef-2023/train_audio_npy//grecor/XC210926.npy already exists. Skipping...\n"
     ]
    },
    {
     "name": "stderr",
     "output_type": "stream",
     "text": [
      "Saving audio files:  28%|██▊       | 189/679 [00:10<00:28, 17.21file/s]"
     ]
    },
    {
     "name": "stdout",
     "output_type": "stream",
     "text": [
      "File C:/Users/thato/OneDrive - University of Cape Town/Bird Classification Project/AudioSamples/birdclef-2023/train_audio_npy//lawgol/XC710128.npy already exists. Skipping...\n",
      "File C:/Users/thato/OneDrive - University of Cape Town/Bird Classification Project/AudioSamples/birdclef-2023/train_audio_npy//carcha1/XC39422.npy already exists. Skipping...\n",
      "File C:/Users/thato/OneDrive - University of Cape Town/Bird Classification Project/AudioSamples/birdclef-2023/train_audio_npy//categr/XC527808.npy already exists. Skipping...\n",
      "File C:/Users/thato/OneDrive - University of Cape Town/Bird Classification Project/AudioSamples/birdclef-2023/train_audio_npy//colsun2/XC517241.npy already exists. Skipping...\n",
      "File C:/Users/thato/OneDrive - University of Cape Town/Bird Classification Project/AudioSamples/birdclef-2023/train_audio_npy//colsun2/XC537447.npy already exists. Skipping...\n"
     ]
    },
    {
     "name": "stderr",
     "output_type": "stream",
     "text": [
      "Saving audio files:  29%|██▉       | 200/679 [00:11<00:16, 28.25file/s]"
     ]
    },
    {
     "name": "stdout",
     "output_type": "stream",
     "text": [
      "File C:/Users/thato/OneDrive - University of Cape Town/Bird Classification Project/AudioSamples/birdclef-2023/train_audio_npy//categr/XC352659.npy already exists. Skipping...\n",
      "File C:/Users/thato/OneDrive - University of Cape Town/Bird Classification Project/AudioSamples/birdclef-2023/train_audio_npy//wbrcha2/XC254665.npy already exists. Skipping...\n",
      "File C:/Users/thato/OneDrive - University of Cape Town/Bird Classification Project/AudioSamples/birdclef-2023/train_audio_npy//colsun2/XC634153.npy already exists. Skipping...\n",
      "File C:/Users/thato/OneDrive - University of Cape Town/Bird Classification Project/AudioSamples/birdclef-2023/train_audio_npy//grecor/XC494665.npy already exists. Skipping...\n",
      "File C:/Users/thato/OneDrive - University of Cape Town/Bird Classification Project/AudioSamples/birdclef-2023/train_audio_npy//grecor/XC215126.npy already exists. Skipping...\n",
      "File C:/Users/thato/OneDrive - University of Cape Town/Bird Classification Project/AudioSamples/birdclef-2023/train_audio_npy//fotdro5/XC398516.npy already exists. Skipping...\n",
      "File C:/Users/thato/OneDrive - University of Cape Town/Bird Classification Project/AudioSamples/birdclef-2023/train_audio_npy//wbrcha2/XC309428.npy already exists. Skipping...\n",
      "File C:/Users/thato/OneDrive - University of Cape Town/Bird Classification Project/AudioSamples/birdclef-2023/train_audio_npy//categr/XC332570.npy already exists. Skipping...\n",
      "File C:/Users/thato/OneDrive - University of Cape Town/Bird Classification Project/AudioSamples/birdclef-2023/train_audio_npy//wbrcha2/XC120185.npy already exists. Skipping...\n"
     ]
    },
    {
     "name": "stderr",
     "output_type": "stream",
     "text": [
      "Saving audio files:  30%|███       | 204/679 [00:11<00:18, 25.51file/s]"
     ]
    },
    {
     "name": "stdout",
     "output_type": "stream",
     "text": [
      "File C:/Users/thato/OneDrive - University of Cape Town/Bird Classification Project/AudioSamples/birdclef-2023/train_audio_npy//carcha1/XC322337.npy already exists. Skipping...\n",
      "File C:/Users/thato/OneDrive - University of Cape Town/Bird Classification Project/AudioSamples/birdclef-2023/train_audio_npy//colsun2/XC517237.npy already exists. Skipping...\n",
      "File C:/Users/thato/OneDrive - University of Cape Town/Bird Classification Project/AudioSamples/birdclef-2023/train_audio_npy//carcha1/XC652323.npy already exists. Skipping...\n",
      "File C:/Users/thato/OneDrive - University of Cape Town/Bird Classification Project/AudioSamples/birdclef-2023/train_audio_npy//carcha1/XC501479.npy already exists. Skipping...\n"
     ]
    },
    {
     "name": "stderr",
     "output_type": "stream",
     "text": [
      "Saving audio files:  31%|███       | 208/679 [00:11<00:18, 25.92file/s]"
     ]
    },
    {
     "name": "stdout",
     "output_type": "stream",
     "text": [
      "File C:/Users/thato/OneDrive - University of Cape Town/Bird Classification Project/AudioSamples/birdclef-2023/train_audio_npy//categr/XC45473.npy already exists. Skipping...\n",
      "File C:/Users/thato/OneDrive - University of Cape Town/Bird Classification Project/AudioSamples/birdclef-2023/train_audio_npy//colsun2/XC517310.npy already exists. Skipping...\n",
      "File C:/Users/thato/OneDrive - University of Cape Town/Bird Classification Project/AudioSamples/birdclef-2023/train_audio_npy//wbrcha2/XC452604.npy already exists. Skipping...\n",
      "File C:/Users/thato/OneDrive - University of Cape Town/Bird Classification Project/AudioSamples/birdclef-2023/train_audio_npy//carcha1/XC268271.npy already exists. Skipping...\n"
     ]
    },
    {
     "name": "stderr",
     "output_type": "stream",
     "text": [
      "Saving audio files:  32%|███▏      | 217/679 [00:11<00:15, 30.76file/s]"
     ]
    },
    {
     "name": "stdout",
     "output_type": "stream",
     "text": [
      "File C:/Users/thato/OneDrive - University of Cape Town/Bird Classification Project/AudioSamples/birdclef-2023/train_audio_npy//carcha1/XC505929.npy already exists. Skipping...\n",
      "File C:/Users/thato/OneDrive - University of Cape Town/Bird Classification Project/AudioSamples/birdclef-2023/train_audio_npy//fotdro5/XC606054.npy already exists. Skipping...\n",
      "File C:/Users/thato/OneDrive - University of Cape Town/Bird Classification Project/AudioSamples/birdclef-2023/train_audio_npy//fotdro5/XC503799.npy already exists. Skipping...\n",
      "File C:/Users/thato/OneDrive - University of Cape Town/Bird Classification Project/AudioSamples/birdclef-2023/train_audio_npy//lawgol/XC315415.npy already exists. Skipping...\n",
      "File C:/Users/thato/OneDrive - University of Cape Town/Bird Classification Project/AudioSamples/birdclef-2023/train_audio_npy//colsun2/XC756913.npy already exists. Skipping...\n",
      "File C:/Users/thato/OneDrive - University of Cape Town/Bird Classification Project/AudioSamples/birdclef-2023/train_audio_npy//categr/XC57415.npy already exists. Skipping...\n",
      "File C:/Users/thato/OneDrive - University of Cape Town/Bird Classification Project/AudioSamples/birdclef-2023/train_audio_npy//fotdro5/XC607580.npy already exists. Skipping...\n",
      "File C:/Users/thato/OneDrive - University of Cape Town/Bird Classification Project/AudioSamples/birdclef-2023/train_audio_npy//categr/XC129098.npy already exists. Skipping...\n",
      "File C:/Users/thato/OneDrive - University of Cape Town/Bird Classification Project/AudioSamples/birdclef-2023/train_audio_npy//colsun2/XC349228.npy already exists. Skipping...\n",
      "File C:/Users/thato/OneDrive - University of Cape Town/Bird Classification Project/AudioSamples/birdclef-2023/train_audio_npy//colsun2/XC620894.npy already exists. Skipping...\n"
     ]
    },
    {
     "name": "stderr",
     "output_type": "stream",
     "text": [
      "Saving audio files:  33%|███▎      | 226/679 [00:12<00:14, 32.33file/s]"
     ]
    },
    {
     "name": "stdout",
     "output_type": "stream",
     "text": [
      "File C:/Users/thato/OneDrive - University of Cape Town/Bird Classification Project/AudioSamples/birdclef-2023/train_audio_npy//carcha1/XC194274.npy already exists. Skipping...\n",
      "File C:/Users/thato/OneDrive - University of Cape Town/Bird Classification Project/AudioSamples/birdclef-2023/train_audio_npy//grecor/XC27183.npy already exists. Skipping...\n",
      "File C:/Users/thato/OneDrive - University of Cape Town/Bird Classification Project/AudioSamples/birdclef-2023/train_audio_npy//wbrcha2/XC342703.npy already exists. Skipping...\n",
      "File C:/Users/thato/OneDrive - University of Cape Town/Bird Classification Project/AudioSamples/birdclef-2023/train_audio_npy//fotdro5/XC398521.npy already exists. Skipping...\n",
      "File C:/Users/thato/OneDrive - University of Cape Town/Bird Classification Project/AudioSamples/birdclef-2023/train_audio_npy//wbrcha2/XC147048.npy already exists. Skipping...\n",
      "File C:/Users/thato/OneDrive - University of Cape Town/Bird Classification Project/AudioSamples/birdclef-2023/train_audio_npy//carcha1/XC507539.npy already exists. Skipping...\n",
      "File C:/Users/thato/OneDrive - University of Cape Town/Bird Classification Project/AudioSamples/birdclef-2023/train_audio_npy//wbrcha2/XC294870.npy already exists. Skipping...\n",
      "File C:/Users/thato/OneDrive - University of Cape Town/Bird Classification Project/AudioSamples/birdclef-2023/train_audio_npy//colsun2/XC590141.npy already exists. Skipping...\n"
     ]
    },
    {
     "name": "stderr",
     "output_type": "stream",
     "text": [
      "Saving audio files:  34%|███▍      | 232/679 [00:12<00:11, 38.89file/s]"
     ]
    },
    {
     "name": "stdout",
     "output_type": "stream",
     "text": [
      "File C:/Users/thato/OneDrive - University of Cape Town/Bird Classification Project/AudioSamples/birdclef-2023/train_audio_npy//wbrcha2/XC523448.npy already exists. Skipping...\n",
      "File C:/Users/thato/OneDrive - University of Cape Town/Bird Classification Project/AudioSamples/birdclef-2023/train_audio_npy//fotdro5/XC200978.npy already exists. Skipping...\n",
      "File C:/Users/thato/OneDrive - University of Cape Town/Bird Classification Project/AudioSamples/birdclef-2023/train_audio_npy//carcha1/XC579005.npy already exists. Skipping...\n",
      "File C:/Users/thato/OneDrive - University of Cape Town/Bird Classification Project/AudioSamples/birdclef-2023/train_audio_npy//categr/XC734540.npy already exists. Skipping...\n",
      "File C:/Users/thato/OneDrive - University of Cape Town/Bird Classification Project/AudioSamples/birdclef-2023/train_audio_npy//grecor/XC207388.npy already exists. Skipping...\n",
      "File C:/Users/thato/OneDrive - University of Cape Town/Bird Classification Project/AudioSamples/birdclef-2023/train_audio_npy//wbrcha2/XC252771.npy already exists. Skipping...\n",
      "File C:/Users/thato/OneDrive - University of Cape Town/Bird Classification Project/AudioSamples/birdclef-2023/train_audio_npy//carcha1/XC613461.npy already exists. Skipping...\n",
      "File C:/Users/thato/OneDrive - University of Cape Town/Bird Classification Project/AudioSamples/birdclef-2023/train_audio_npy//wbrcha2/XC616560.npy already exists. Skipping...\n",
      "File C:/Users/thato/OneDrive - University of Cape Town/Bird Classification Project/AudioSamples/birdclef-2023/train_audio_npy//colsun2/XC633764.npy already exists. Skipping...\n",
      "File C:/Users/thato/OneDrive - University of Cape Town/Bird Classification Project/AudioSamples/birdclef-2023/train_audio_npy//colsun2/XC516632.npy already exists. Skipping...\n"
     ]
    },
    {
     "name": "stderr",
     "output_type": "stream",
     "text": [
      "Saving audio files:  36%|███▌      | 244/679 [00:12<00:10, 42.93file/s]"
     ]
    },
    {
     "name": "stdout",
     "output_type": "stream",
     "text": [
      "File C:/Users/thato/OneDrive - University of Cape Town/Bird Classification Project/AudioSamples/birdclef-2023/train_audio_npy//categr/XC692762.npy already exists. Skipping...\n",
      "File C:/Users/thato/OneDrive - University of Cape Town/Bird Classification Project/AudioSamples/birdclef-2023/train_audio_npy//colsun2/XC489307.npy already exists. Skipping...\n",
      "File C:/Users/thato/OneDrive - University of Cape Town/Bird Classification Project/AudioSamples/birdclef-2023/train_audio_npy//categr/XC274824.npy already exists. Skipping...\n",
      "File C:/Users/thato/OneDrive - University of Cape Town/Bird Classification Project/AudioSamples/birdclef-2023/train_audio_npy//fotdro5/XC429102.npy already exists. Skipping...\n",
      "File C:/Users/thato/OneDrive - University of Cape Town/Bird Classification Project/AudioSamples/birdclef-2023/train_audio_npy//carcha1/XC419845.npy already exists. Skipping...\n",
      "File C:/Users/thato/OneDrive - University of Cape Town/Bird Classification Project/AudioSamples/birdclef-2023/train_audio_npy//wbrcha2/XC504176.npy already exists. Skipping...\n",
      "File C:/Users/thato/OneDrive - University of Cape Town/Bird Classification Project/AudioSamples/birdclef-2023/train_audio_npy//categr/XC304252.npy already exists. Skipping...\n",
      "File C:/Users/thato/OneDrive - University of Cape Town/Bird Classification Project/AudioSamples/birdclef-2023/train_audio_npy//categr/XC352660.npy already exists. Skipping...\n"
     ]
    },
    {
     "name": "stderr",
     "output_type": "stream",
     "text": [
      "Saving audio files:  37%|███▋      | 254/679 [00:12<00:10, 38.93file/s]"
     ]
    },
    {
     "name": "stdout",
     "output_type": "stream",
     "text": [
      "File C:/Users/thato/OneDrive - University of Cape Town/Bird Classification Project/AudioSamples/birdclef-2023/train_audio_npy//carcha1/XC264285.npy already exists. Skipping...\n",
      "File C:/Users/thato/OneDrive - University of Cape Town/Bird Classification Project/AudioSamples/birdclef-2023/train_audio_npy//carcha1/XC540724.npy already exists. Skipping...\n",
      "File C:/Users/thato/OneDrive - University of Cape Town/Bird Classification Project/AudioSamples/birdclef-2023/train_audio_npy//grecor/XC307176.npy already exists. Skipping...\n",
      "File C:/Users/thato/OneDrive - University of Cape Town/Bird Classification Project/AudioSamples/birdclef-2023/train_audio_npy//lawgol/XC143799.npy already exists. Skipping...\n",
      "File C:/Users/thato/OneDrive - University of Cape Town/Bird Classification Project/AudioSamples/birdclef-2023/train_audio_npy//fotdro5/XC332716.npy already exists. Skipping...\n",
      "File C:/Users/thato/OneDrive - University of Cape Town/Bird Classification Project/AudioSamples/birdclef-2023/train_audio_npy//categr/XC398976.npy already exists. Skipping...\n",
      "File C:/Users/thato/OneDrive - University of Cape Town/Bird Classification Project/AudioSamples/birdclef-2023/train_audio_npy//wbrcha2/XC590497.npy already exists. Skipping...\n",
      "File C:/Users/thato/OneDrive - University of Cape Town/Bird Classification Project/AudioSamples/birdclef-2023/train_audio_npy//carcha1/XC383862.npy already exists. Skipping...\n"
     ]
    },
    {
     "name": "stderr",
     "output_type": "stream",
     "text": [
      "Saving audio files:  39%|███▊      | 262/679 [00:12<00:11, 37.38file/s]"
     ]
    },
    {
     "name": "stdout",
     "output_type": "stream",
     "text": [
      "File C:/Users/thato/OneDrive - University of Cape Town/Bird Classification Project/AudioSamples/birdclef-2023/train_audio_npy//grecor/XC323326.npy already exists. Skipping...\n",
      "File C:/Users/thato/OneDrive - University of Cape Town/Bird Classification Project/AudioSamples/birdclef-2023/train_audio_npy//fotdro5/XC514168.npy already exists. Skipping...\n",
      "File C:/Users/thato/OneDrive - University of Cape Town/Bird Classification Project/AudioSamples/birdclef-2023/train_audio_npy//categr/XC371472.npy already exists. Skipping...\n",
      "File C:/Users/thato/OneDrive - University of Cape Town/Bird Classification Project/AudioSamples/birdclef-2023/train_audio_npy//wbrcha2/XC397798.npy already exists. Skipping...\n",
      "File C:/Users/thato/OneDrive - University of Cape Town/Bird Classification Project/AudioSamples/birdclef-2023/train_audio_npy//categr/XC458426.npy already exists. Skipping...\n",
      "File C:/Users/thato/OneDrive - University of Cape Town/Bird Classification Project/AudioSamples/birdclef-2023/train_audio_npy//categr/XC45475.npy already exists. Skipping...\n",
      "File C:/Users/thato/OneDrive - University of Cape Town/Bird Classification Project/AudioSamples/birdclef-2023/train_audio_npy//categr/XC629216.npy already exists. Skipping...\n",
      "File C:/Users/thato/OneDrive - University of Cape Town/Bird Classification Project/AudioSamples/birdclef-2023/train_audio_npy//colsun2/XC402282.npy already exists. Skipping...\n",
      "File C:/Users/thato/OneDrive - University of Cape Town/Bird Classification Project/AudioSamples/birdclef-2023/train_audio_npy//wbrcha2/XC600817.npy already exists. Skipping...\n"
     ]
    },
    {
     "name": "stderr",
     "output_type": "stream",
     "text": [
      "Saving audio files:  39%|███▉      | 267/679 [00:13<00:11, 37.17file/s]"
     ]
    },
    {
     "name": "stdout",
     "output_type": "stream",
     "text": [
      "File C:/Users/thato/OneDrive - University of Cape Town/Bird Classification Project/AudioSamples/birdclef-2023/train_audio_npy//colsun2/XC590128.npy already exists. Skipping...\n",
      "File C:/Users/thato/OneDrive - University of Cape Town/Bird Classification Project/AudioSamples/birdclef-2023/train_audio_npy//categr/XC139952.npy already exists. Skipping...\n",
      "File C:/Users/thato/OneDrive - University of Cape Town/Bird Classification Project/AudioSamples/birdclef-2023/train_audio_npy//wbrcha2/XC189022.npy already exists. Skipping...\n",
      "File C:/Users/thato/OneDrive - University of Cape Town/Bird Classification Project/AudioSamples/birdclef-2023/train_audio_npy//colsun2/XC516560.npy already exists. Skipping...\n",
      "File C:/Users/thato/OneDrive - University of Cape Town/Bird Classification Project/AudioSamples/birdclef-2023/train_audio_npy//wbrcha2/XC142885.npy already exists. Skipping...\n",
      "File C:/Users/thato/OneDrive - University of Cape Town/Bird Classification Project/AudioSamples/birdclef-2023/train_audio_npy//fotdro5/XC507297.npy already exists. Skipping...\n"
     ]
    },
    {
     "name": "stderr",
     "output_type": "stream",
     "text": [
      "Saving audio files:  41%|████      | 278/679 [00:13<00:09, 43.12file/s]"
     ]
    },
    {
     "name": "stdout",
     "output_type": "stream",
     "text": [
      "File C:/Users/thato/OneDrive - University of Cape Town/Bird Classification Project/AudioSamples/birdclef-2023/train_audio_npy//grecor/XC432984.npy already exists. Skipping...\n",
      "File C:/Users/thato/OneDrive - University of Cape Town/Bird Classification Project/AudioSamples/birdclef-2023/train_audio_npy//categr/XC679852.npy already exists. Skipping...\n",
      "File C:/Users/thato/OneDrive - University of Cape Town/Bird Classification Project/AudioSamples/birdclef-2023/train_audio_npy//colsun2/XC323385.npy already exists. Skipping...\n",
      "File C:/Users/thato/OneDrive - University of Cape Town/Bird Classification Project/AudioSamples/birdclef-2023/train_audio_npy//grecor/XC447483.npy already exists. Skipping...\n",
      "File C:/Users/thato/OneDrive - University of Cape Town/Bird Classification Project/AudioSamples/birdclef-2023/train_audio_npy//categr/XC143596.npy already exists. Skipping...\n",
      "File C:/Users/thato/OneDrive - University of Cape Town/Bird Classification Project/AudioSamples/birdclef-2023/train_audio_npy//categr/XC463749.npy already exists. Skipping...\n",
      "File C:/Users/thato/OneDrive - University of Cape Town/Bird Classification Project/AudioSamples/birdclef-2023/train_audio_npy//carcha1/XC640410.npy already exists. Skipping...\n",
      "File C:/Users/thato/OneDrive - University of Cape Town/Bird Classification Project/AudioSamples/birdclef-2023/train_audio_npy//grecor/XC167725.npy already exists. Skipping...\n"
     ]
    },
    {
     "name": "stderr",
     "output_type": "stream",
     "text": [
      "Saving audio files:  42%|████▏     | 288/679 [00:13<00:09, 40.13file/s]"
     ]
    },
    {
     "name": "stdout",
     "output_type": "stream",
     "text": [
      "File C:/Users/thato/OneDrive - University of Cape Town/Bird Classification Project/AudioSamples/birdclef-2023/train_audio_npy//wbrcha2/XC461437.npy already exists. Skipping...\n",
      "File C:/Users/thato/OneDrive - University of Cape Town/Bird Classification Project/AudioSamples/birdclef-2023/train_audio_npy//carcha1/XC380247.npy already exists. Skipping...\n",
      "File C:/Users/thato/OneDrive - University of Cape Town/Bird Classification Project/AudioSamples/birdclef-2023/train_audio_npy//lawgol/XC750894.npy already exists. Skipping...\n",
      "File C:/Users/thato/OneDrive - University of Cape Town/Bird Classification Project/AudioSamples/birdclef-2023/train_audio_npy//grecor/XC453526.npy already exists. Skipping...\n",
      "File C:/Users/thato/OneDrive - University of Cape Town/Bird Classification Project/AudioSamples/birdclef-2023/train_audio_npy//carcha1/XC537026.npy already exists. Skipping...\n",
      "File C:/Users/thato/OneDrive - University of Cape Town/Bird Classification Project/AudioSamples/birdclef-2023/train_audio_npy//colsun2/XC516633.npy already exists. Skipping...\n",
      "File C:/Users/thato/OneDrive - University of Cape Town/Bird Classification Project/AudioSamples/birdclef-2023/train_audio_npy//categr/XC757065.npy already exists. Skipping...\n",
      "File C:/Users/thato/OneDrive - University of Cape Town/Bird Classification Project/AudioSamples/birdclef-2023/train_audio_npy//carcha1/XC544603.npy already exists. Skipping...\n"
     ]
    },
    {
     "name": "stderr",
     "output_type": "stream",
     "text": [
      "Saving audio files:  44%|████▍     | 298/679 [00:13<00:09, 38.28file/s]"
     ]
    },
    {
     "name": "stdout",
     "output_type": "stream",
     "text": [
      "File C:/Users/thato/OneDrive - University of Cape Town/Bird Classification Project/AudioSamples/birdclef-2023/train_audio_npy//fotdro5/XC640726.npy already exists. Skipping...\n",
      "File C:/Users/thato/OneDrive - University of Cape Town/Bird Classification Project/AudioSamples/birdclef-2023/train_audio_npy//grecor/XC690082.npy already exists. Skipping...\n",
      "File C:/Users/thato/OneDrive - University of Cape Town/Bird Classification Project/AudioSamples/birdclef-2023/train_audio_npy//colsun2/XC634150.npy already exists. Skipping...\n",
      "File C:/Users/thato/OneDrive - University of Cape Town/Bird Classification Project/AudioSamples/birdclef-2023/train_audio_npy//wbrcha2/XC604507.npy already exists. Skipping...\n",
      "File C:/Users/thato/OneDrive - University of Cape Town/Bird Classification Project/AudioSamples/birdclef-2023/train_audio_npy//carcha1/XC194472.npy already exists. Skipping...\n",
      "File C:/Users/thato/OneDrive - University of Cape Town/Bird Classification Project/AudioSamples/birdclef-2023/train_audio_npy//lawgol/XC348342.npy already exists. Skipping...\n",
      "File C:/Users/thato/OneDrive - University of Cape Town/Bird Classification Project/AudioSamples/birdclef-2023/train_audio_npy//colsun2/XC516992.npy already exists. Skipping...\n",
      "File C:/Users/thato/OneDrive - University of Cape Town/Bird Classification Project/AudioSamples/birdclef-2023/train_audio_npy//lawgol/XC537327.npy already exists. Skipping...\n",
      "File C:/Users/thato/OneDrive - University of Cape Town/Bird Classification Project/AudioSamples/birdclef-2023/train_audio_npy//grecor/XC213607.npy already exists. Skipping...\n",
      "File C:/Users/thato/OneDrive - University of Cape Town/Bird Classification Project/AudioSamples/birdclef-2023/train_audio_npy//grecor/XC692346.npy already exists. Skipping...\n",
      "File C:/Users/thato/OneDrive - University of Cape Town/Bird Classification Project/AudioSamples/birdclef-2023/train_audio_npy//grecor/XC518446.npy already exists. Skipping...\n",
      "File C:/Users/thato/OneDrive - University of Cape Town/Bird Classification Project/AudioSamples/birdclef-2023/train_audio_npy//wbrcha2/XC476294.npy already exists. Skipping...\n"
     ]
    },
    {
     "name": "stderr",
     "output_type": "stream",
     "text": [
      "Saving audio files:  45%|████▍     | 303/679 [00:14<00:16, 22.32file/s]"
     ]
    },
    {
     "name": "stdout",
     "output_type": "stream",
     "text": [
      "File C:/Users/thato/OneDrive - University of Cape Town/Bird Classification Project/AudioSamples/birdclef-2023/train_audio_npy//fotdro5/XC642426.npy already exists. Skipping...\n",
      "File C:/Users/thato/OneDrive - University of Cape Town/Bird Classification Project/AudioSamples/birdclef-2023/train_audio_npy//grecor/XC412266.npy already exists. Skipping...\n",
      "File C:/Users/thato/OneDrive - University of Cape Town/Bird Classification Project/AudioSamples/birdclef-2023/train_audio_npy//lawgol/XC624539.npy already exists. Skipping...\n",
      "File C:/Users/thato/OneDrive - University of Cape Town/Bird Classification Project/AudioSamples/birdclef-2023/train_audio_npy//colsun2/XC516994.npy already exists. Skipping...\n",
      "File C:/Users/thato/OneDrive - University of Cape Town/Bird Classification Project/AudioSamples/birdclef-2023/train_audio_npy//fotdro5/XC405114.npy already exists. Skipping...\n",
      "File C:/Users/thato/OneDrive - University of Cape Town/Bird Classification Project/AudioSamples/birdclef-2023/train_audio_npy//lawgol/XC710176.npy already exists. Skipping...\n"
     ]
    },
    {
     "name": "stderr",
     "output_type": "stream",
     "text": [
      "Saving audio files:  46%|████▌     | 312/679 [00:14<00:14, 25.48file/s]"
     ]
    },
    {
     "name": "stdout",
     "output_type": "stream",
     "text": [
      "File C:/Users/thato/OneDrive - University of Cape Town/Bird Classification Project/AudioSamples/birdclef-2023/train_audio_npy//grecor/XC464810.npy already exists. Skipping...\n",
      "File C:/Users/thato/OneDrive - University of Cape Town/Bird Classification Project/AudioSamples/birdclef-2023/train_audio_npy//wbrcha2/XC18224.npy already exists. Skipping...\n",
      "File C:/Users/thato/OneDrive - University of Cape Town/Bird Classification Project/AudioSamples/birdclef-2023/train_audio_npy//fotdro5/XC536502.npy already exists. Skipping...\n",
      "File C:/Users/thato/OneDrive - University of Cape Town/Bird Classification Project/AudioSamples/birdclef-2023/train_audio_npy//fotdro5/XC756266.npy already exists. Skipping...\n",
      "File C:/Users/thato/OneDrive - University of Cape Town/Bird Classification Project/AudioSamples/birdclef-2023/train_audio_npy//grecor/XC622282.npy already exists. Skipping...\n"
     ]
    },
    {
     "name": "stderr",
     "output_type": "stream",
     "text": [
      "Saving audio files:  47%|████▋     | 321/679 [00:14<00:12, 28.28file/s]"
     ]
    },
    {
     "name": "stdout",
     "output_type": "stream",
     "text": [
      "File C:/Users/thato/OneDrive - University of Cape Town/Bird Classification Project/AudioSamples/birdclef-2023/train_audio_npy//grecor/XC666599.npy already exists. Skipping...\n",
      "File C:/Users/thato/OneDrive - University of Cape Town/Bird Classification Project/AudioSamples/birdclef-2023/train_audio_npy//colsun2/XC656718.npy already exists. Skipping...\n",
      "File C:/Users/thato/OneDrive - University of Cape Town/Bird Classification Project/AudioSamples/birdclef-2023/train_audio_npy//categr/XC45477.npy already exists. Skipping...\n",
      "File C:/Users/thato/OneDrive - University of Cape Town/Bird Classification Project/AudioSamples/birdclef-2023/train_audio_npy//lawgol/XC661825.npy already exists. Skipping...\n",
      "File C:/Users/thato/OneDrive - University of Cape Town/Bird Classification Project/AudioSamples/birdclef-2023/train_audio_npy//wbrcha2/XC213652.npy already exists. Skipping...\n",
      "File C:/Users/thato/OneDrive - University of Cape Town/Bird Classification Project/AudioSamples/birdclef-2023/train_audio_npy//fotdro5/XC748248.npy already exists. Skipping...\n",
      "File C:/Users/thato/OneDrive - University of Cape Town/Bird Classification Project/AudioSamples/birdclef-2023/train_audio_npy//carcha1/XC535739.npy already exists. Skipping...\n",
      "File C:/Users/thato/OneDrive - University of Cape Town/Bird Classification Project/AudioSamples/birdclef-2023/train_audio_npy//carcha1/XC264287.npy already exists. Skipping...\n"
     ]
    },
    {
     "name": "stderr",
     "output_type": "stream",
     "text": [
      "Saving audio files:  48%|████▊     | 328/679 [00:15<00:23, 14.78file/s]"
     ]
    },
    {
     "name": "stdout",
     "output_type": "stream",
     "text": [
      "File C:/Users/thato/OneDrive - University of Cape Town/Bird Classification Project/AudioSamples/birdclef-2023/train_audio_npy//lawgol/XC661823.npy already exists. Skipping...\n",
      "File C:/Users/thato/OneDrive - University of Cape Town/Bird Classification Project/AudioSamples/birdclef-2023/train_audio_npy//wbrcha2/XC459158.npy already exists. Skipping...\n",
      "File C:/Users/thato/OneDrive - University of Cape Town/Bird Classification Project/AudioSamples/birdclef-2023/train_audio_npy//colsun2/XC142225.npy already exists. Skipping...\n",
      "File C:/Users/thato/OneDrive - University of Cape Town/Bird Classification Project/AudioSamples/birdclef-2023/train_audio_npy//carcha1/XC326835.npy already exists. Skipping...\n",
      "File C:/Users/thato/OneDrive - University of Cape Town/Bird Classification Project/AudioSamples/birdclef-2023/train_audio_npy//fotdro5/XC715717.npy already exists. Skipping...\n"
     ]
    },
    {
     "name": "stderr",
     "output_type": "stream",
     "text": [
      "Saving audio files:  50%|████▉     | 339/679 [00:16<00:14, 23.37file/s]"
     ]
    },
    {
     "name": "stdout",
     "output_type": "stream",
     "text": [
      "File C:/Users/thato/OneDrive - University of Cape Town/Bird Classification Project/AudioSamples/birdclef-2023/train_audio_npy//categr/XC143600.npy already exists. Skipping...\n",
      "File C:/Users/thato/OneDrive - University of Cape Town/Bird Classification Project/AudioSamples/birdclef-2023/train_audio_npy//fotdro5/XC313340.npy already exists. Skipping...\n",
      "File C:/Users/thato/OneDrive - University of Cape Town/Bird Classification Project/AudioSamples/birdclef-2023/train_audio_npy//carcha1/XC559368.npy already exists. Skipping...\n",
      "File C:/Users/thato/OneDrive - University of Cape Town/Bird Classification Project/AudioSamples/birdclef-2023/train_audio_npy//colsun2/XC617123.npy already exists. Skipping...\n",
      "File C:/Users/thato/OneDrive - University of Cape Town/Bird Classification Project/AudioSamples/birdclef-2023/train_audio_npy//fotdro5/XC607698.npy already exists. Skipping...\n"
     ]
    },
    {
     "name": "stderr",
     "output_type": "stream",
     "text": [
      "Saving audio files:  51%|█████▏    | 348/679 [00:16<00:11, 29.30file/s]"
     ]
    },
    {
     "name": "stdout",
     "output_type": "stream",
     "text": [
      "File C:/Users/thato/OneDrive - University of Cape Town/Bird Classification Project/AudioSamples/birdclef-2023/train_audio_npy//fotdro5/XC435771.npy already exists. Skipping...\n",
      "File C:/Users/thato/OneDrive - University of Cape Town/Bird Classification Project/AudioSamples/birdclef-2023/train_audio_npy//lawgol/XC566765.npy already exists. Skipping...\n",
      "File C:/Users/thato/OneDrive - University of Cape Town/Bird Classification Project/AudioSamples/birdclef-2023/train_audio_npy//categr/XC353848.npy already exists. Skipping...\n",
      "File C:/Users/thato/OneDrive - University of Cape Town/Bird Classification Project/AudioSamples/birdclef-2023/train_audio_npy//carcha1/XC592853.npy already exists. Skipping...\n",
      "File C:/Users/thato/OneDrive - University of Cape Town/Bird Classification Project/AudioSamples/birdclef-2023/train_audio_npy//categr/XC682210.npy already exists. Skipping...\n",
      "File C:/Users/thato/OneDrive - University of Cape Town/Bird Classification Project/AudioSamples/birdclef-2023/train_audio_npy//wbrcha2/XC563713.npy already exists. Skipping...\n",
      "File C:/Users/thato/OneDrive - University of Cape Town/Bird Classification Project/AudioSamples/birdclef-2023/train_audio_npy//grecor/XC467246.npy already exists. Skipping...\n"
     ]
    },
    {
     "name": "stderr",
     "output_type": "stream",
     "text": [
      "Saving audio files:  52%|█████▏    | 352/679 [00:16<00:11, 28.60file/s]"
     ]
    },
    {
     "name": "stdout",
     "output_type": "stream",
     "text": [
      "File C:/Users/thato/OneDrive - University of Cape Town/Bird Classification Project/AudioSamples/birdclef-2023/train_audio_npy//wbrcha2/XC127460.npy already exists. Skipping...\n",
      "File C:/Users/thato/OneDrive - University of Cape Town/Bird Classification Project/AudioSamples/birdclef-2023/train_audio_npy//colsun2/XC649917.npy already exists. Skipping...\n",
      "File C:/Users/thato/OneDrive - University of Cape Town/Bird Classification Project/AudioSamples/birdclef-2023/train_audio_npy//categr/XC353850.npy already exists. Skipping...\n",
      "File C:/Users/thato/OneDrive - University of Cape Town/Bird Classification Project/AudioSamples/birdclef-2023/train_audio_npy//colsun2/XC517249.npy already exists. Skipping...\n",
      "File C:/Users/thato/OneDrive - University of Cape Town/Bird Classification Project/AudioSamples/birdclef-2023/train_audio_npy//grecor/XC600235.npy already exists. Skipping...\n"
     ]
    },
    {
     "name": "stderr",
     "output_type": "stream",
     "text": [
      "Saving audio files:  53%|█████▎    | 359/679 [00:16<00:13, 22.92file/s]"
     ]
    },
    {
     "name": "stdout",
     "output_type": "stream",
     "text": [
      "File C:/Users/thato/OneDrive - University of Cape Town/Bird Classification Project/AudioSamples/birdclef-2023/train_audio_npy//wbrcha2/XC517604.npy already exists. Skipping...\n",
      "File C:/Users/thato/OneDrive - University of Cape Town/Bird Classification Project/AudioSamples/birdclef-2023/train_audio_npy//carcha1/XC309839.npy already exists. Skipping...\n",
      "File C:/Users/thato/OneDrive - University of Cape Town/Bird Classification Project/AudioSamples/birdclef-2023/train_audio_npy//carcha1/XC268275.npy already exists. Skipping...\n",
      "File C:/Users/thato/OneDrive - University of Cape Town/Bird Classification Project/AudioSamples/birdclef-2023/train_audio_npy//lawgol/XC307104.npy already exists. Skipping...\n",
      "File C:/Users/thato/OneDrive - University of Cape Town/Bird Classification Project/AudioSamples/birdclef-2023/train_audio_npy//carcha1/XC748951.npy already exists. Skipping...\n"
     ]
    },
    {
     "name": "stderr",
     "output_type": "stream",
     "text": [
      "Saving audio files:  54%|█████▎    | 364/679 [00:16<00:11, 27.70file/s]"
     ]
    },
    {
     "name": "stdout",
     "output_type": "stream",
     "text": [
      "File C:/Users/thato/OneDrive - University of Cape Town/Bird Classification Project/AudioSamples/birdclef-2023/train_audio_npy//carcha1/XC322331.npy already exists. Skipping...\n",
      "File C:/Users/thato/OneDrive - University of Cape Town/Bird Classification Project/AudioSamples/birdclef-2023/train_audio_npy//carcha1/XC524802.npy already exists. Skipping...\n",
      "File C:/Users/thato/OneDrive - University of Cape Town/Bird Classification Project/AudioSamples/birdclef-2023/train_audio_npy//carcha1/XC286540.npy already exists. Skipping...\n",
      "File C:/Users/thato/OneDrive - University of Cape Town/Bird Classification Project/AudioSamples/birdclef-2023/train_audio_npy//fotdro5/XC541185.npy already exists. Skipping...\n",
      "File C:/Users/thato/OneDrive - University of Cape Town/Bird Classification Project/AudioSamples/birdclef-2023/train_audio_npy//colsun2/XC623079.npy already exists. Skipping...\n",
      "File C:/Users/thato/OneDrive - University of Cape Town/Bird Classification Project/AudioSamples/birdclef-2023/train_audio_npy//categr/XC289295.npy already exists. Skipping...\n",
      "File C:/Users/thato/OneDrive - University of Cape Town/Bird Classification Project/AudioSamples/birdclef-2023/train_audio_npy//lawgol/XC661829.npy already exists. Skipping...\n",
      "File C:/Users/thato/OneDrive - University of Cape Town/Bird Classification Project/AudioSamples/birdclef-2023/train_audio_npy//grecor/XC401073.npy already exists. Skipping...\n",
      "File C:/Users/thato/OneDrive - University of Cape Town/Bird Classification Project/AudioSamples/birdclef-2023/train_audio_npy//grecor/XC609443.npy already exists. Skipping...\n"
     ]
    },
    {
     "name": "stderr",
     "output_type": "stream",
     "text": [
      "Saving audio files:  55%|█████▌    | 376/679 [00:17<00:08, 34.92file/s]"
     ]
    },
    {
     "name": "stdout",
     "output_type": "stream",
     "text": [
      "File C:/Users/thato/OneDrive - University of Cape Town/Bird Classification Project/AudioSamples/birdclef-2023/train_audio_npy//carcha1/XC667525.npy already exists. Skipping...\n",
      "File C:/Users/thato/OneDrive - University of Cape Town/Bird Classification Project/AudioSamples/birdclef-2023/train_audio_npy//wbrcha2/XC267150.npy already exists. Skipping...\n",
      "File C:/Users/thato/OneDrive - University of Cape Town/Bird Classification Project/AudioSamples/birdclef-2023/train_audio_npy//carcha1/XC429427.npy already exists. Skipping...\n",
      "File C:/Users/thato/OneDrive - University of Cape Town/Bird Classification Project/AudioSamples/birdclef-2023/train_audio_npy//grecor/XC631387.npy already exists. Skipping...\n"
     ]
    },
    {
     "name": "stderr",
     "output_type": "stream",
     "text": [
      "Saving audio files:  56%|█████▌    | 381/679 [00:17<00:08, 35.52file/s]"
     ]
    },
    {
     "name": "stdout",
     "output_type": "stream",
     "text": [
      "File C:/Users/thato/OneDrive - University of Cape Town/Bird Classification Project/AudioSamples/birdclef-2023/train_audio_npy//carcha1/XC663647.npy already exists. Skipping...\n",
      "File C:/Users/thato/OneDrive - University of Cape Town/Bird Classification Project/AudioSamples/birdclef-2023/train_audio_npy//colsun2/XC652464.npy already exists. Skipping...\n",
      "File C:/Users/thato/OneDrive - University of Cape Town/Bird Classification Project/AudioSamples/birdclef-2023/train_audio_npy//colsun2/XC517357.npy already exists. Skipping...\n",
      "File C:/Users/thato/OneDrive - University of Cape Town/Bird Classification Project/AudioSamples/birdclef-2023/train_audio_npy//categr/XC452088.npy already exists. Skipping...\n",
      "File C:/Users/thato/OneDrive - University of Cape Town/Bird Classification Project/AudioSamples/birdclef-2023/train_audio_npy//carcha1/XC194473.npy already exists. Skipping...\n",
      "File C:/Users/thato/OneDrive - University of Cape Town/Bird Classification Project/AudioSamples/birdclef-2023/train_audio_npy//colsun2/XC459545.npy already exists. Skipping...\n",
      "File C:/Users/thato/OneDrive - University of Cape Town/Bird Classification Project/AudioSamples/birdclef-2023/train_audio_npy//grecor/XC547178.npy already exists. Skipping...\n",
      "File C:/Users/thato/OneDrive - University of Cape Town/Bird Classification Project/AudioSamples/birdclef-2023/train_audio_npy//grecor/XC678110.npy already exists. Skipping...\n",
      "File C:/Users/thato/OneDrive - University of Cape Town/Bird Classification Project/AudioSamples/birdclef-2023/train_audio_npy//fotdro5/XC503796.npy already exists. Skipping...\n",
      "File C:/Users/thato/OneDrive - University of Cape Town/Bird Classification Project/AudioSamples/birdclef-2023/train_audio_npy//grecor/XC622278.npy already exists. Skipping...\n"
     ]
    },
    {
     "name": "stderr",
     "output_type": "stream",
     "text": [
      "Saving audio files:  57%|█████▋    | 388/679 [00:17<00:07, 41.19file/s]"
     ]
    },
    {
     "name": "stdout",
     "output_type": "stream",
     "text": [
      "File C:/Users/thato/OneDrive - University of Cape Town/Bird Classification Project/AudioSamples/birdclef-2023/train_audio_npy//colsun2/XC399999.npy already exists. Skipping...\n",
      "File C:/Users/thato/OneDrive - University of Cape Town/Bird Classification Project/AudioSamples/birdclef-2023/train_audio_npy//categr/XC26215.npy already exists. Skipping...\n",
      "File C:/Users/thato/OneDrive - University of Cape Town/Bird Classification Project/AudioSamples/birdclef-2023/train_audio_npy//colsun2/XC634200.npy already exists. Skipping...\n",
      "File C:/Users/thato/OneDrive - University of Cape Town/Bird Classification Project/AudioSamples/birdclef-2023/train_audio_npy//grecor/XC601846.npy already exists. Skipping...\n",
      "File C:/Users/thato/OneDrive - University of Cape Town/Bird Classification Project/AudioSamples/birdclef-2023/train_audio_npy//categr/XC304257.npy already exists. Skipping...\n",
      "File C:/Users/thato/OneDrive - University of Cape Town/Bird Classification Project/AudioSamples/birdclef-2023/train_audio_npy//colsun2/XC245635.npy already exists. Skipping...\n"
     ]
    },
    {
     "name": "stderr",
     "output_type": "stream",
     "text": [
      "Saving audio files:  59%|█████▉    | 399/679 [00:17<00:06, 40.18file/s]"
     ]
    },
    {
     "name": "stdout",
     "output_type": "stream",
     "text": [
      "File C:/Users/thato/OneDrive - University of Cape Town/Bird Classification Project/AudioSamples/birdclef-2023/train_audio_npy//carcha1/XC146423.npy already exists. Skipping...\n",
      "File C:/Users/thato/OneDrive - University of Cape Town/Bird Classification Project/AudioSamples/birdclef-2023/train_audio_npy//grecor/XC386235.npy already exists. Skipping...\n",
      "File C:/Users/thato/OneDrive - University of Cape Town/Bird Classification Project/AudioSamples/birdclef-2023/train_audio_npy//colsun2/XC634201.npy already exists. Skipping...\n",
      "File C:/Users/thato/OneDrive - University of Cape Town/Bird Classification Project/AudioSamples/birdclef-2023/train_audio_npy//colsun2/XC517266.npy already exists. Skipping...\n",
      "File C:/Users/thato/OneDrive - University of Cape Town/Bird Classification Project/AudioSamples/birdclef-2023/train_audio_npy//categr/XC361548.npy already exists. Skipping...\n",
      "File C:/Users/thato/OneDrive - University of Cape Town/Bird Classification Project/AudioSamples/birdclef-2023/train_audio_npy//wbrcha2/XC746617.npy already exists. Skipping...\n",
      "File C:/Users/thato/OneDrive - University of Cape Town/Bird Classification Project/AudioSamples/birdclef-2023/train_audio_npy//grecor/XC381459.npy already exists. Skipping...\n",
      "File C:/Users/thato/OneDrive - University of Cape Town/Bird Classification Project/AudioSamples/birdclef-2023/train_audio_npy//carcha1/XC324667.npy already exists. Skipping...\n",
      "File C:/Users/thato/OneDrive - University of Cape Town/Bird Classification Project/AudioSamples/birdclef-2023/train_audio_npy//categr/XC210378.npy already exists. Skipping...\n",
      "File C:/Users/thato/OneDrive - University of Cape Town/Bird Classification Project/AudioSamples/birdclef-2023/train_audio_npy//fotdro5/XC636019.npy already exists. Skipping...\n",
      "File C:/Users/thato/OneDrive - University of Cape Town/Bird Classification Project/AudioSamples/birdclef-2023/train_audio_npy//colsun2/XC516800.npy already exists. Skipping...\n"
     ]
    },
    {
     "name": "stderr",
     "output_type": "stream",
     "text": [
      "Saving audio files:  60%|██████    | 410/679 [00:18<00:07, 37.06file/s]"
     ]
    },
    {
     "name": "stdout",
     "output_type": "stream",
     "text": [
      "File C:/Users/thato/OneDrive - University of Cape Town/Bird Classification Project/AudioSamples/birdclef-2023/train_audio_npy//categr/XC585965.npy already exists. Skipping...\n",
      "File C:/Users/thato/OneDrive - University of Cape Town/Bird Classification Project/AudioSamples/birdclef-2023/train_audio_npy//colsun2/XC418725.npy already exists. Skipping...\n",
      "File C:/Users/thato/OneDrive - University of Cape Town/Bird Classification Project/AudioSamples/birdclef-2023/train_audio_npy//colsun2/XC205754.npy already exists. Skipping...\n",
      "File C:/Users/thato/OneDrive - University of Cape Town/Bird Classification Project/AudioSamples/birdclef-2023/train_audio_npy//wbrcha2/XC446340.npy already exists. Skipping...\n",
      "File C:/Users/thato/OneDrive - University of Cape Town/Bird Classification Project/AudioSamples/birdclef-2023/train_audio_npy//fotdro5/XC364273.npy already exists. Skipping...\n",
      "File C:/Users/thato/OneDrive - University of Cape Town/Bird Classification Project/AudioSamples/birdclef-2023/train_audio_npy//carcha1/XC434144.npy already exists. Skipping...\n",
      "File C:/Users/thato/OneDrive - University of Cape Town/Bird Classification Project/AudioSamples/birdclef-2023/train_audio_npy//grecor/XC458465.npy already exists. Skipping...\n",
      "File C:/Users/thato/OneDrive - University of Cape Town/Bird Classification Project/AudioSamples/birdclef-2023/train_audio_npy//carcha1/XC490718.npy already exists. Skipping...\n",
      "File C:/Users/thato/OneDrive - University of Cape Town/Bird Classification Project/AudioSamples/birdclef-2023/train_audio_npy//colsun2/XC517332.npy already exists. Skipping...\n",
      "File C:/Users/thato/OneDrive - University of Cape Town/Bird Classification Project/AudioSamples/birdclef-2023/train_audio_npy//categr/XC368933.npy already exists. Skipping...\n"
     ]
    },
    {
     "name": "stderr",
     "output_type": "stream",
     "text": [
      "Saving audio files:  61%|██████▏   | 417/679 [00:18<00:06, 41.27file/s]"
     ]
    },
    {
     "name": "stdout",
     "output_type": "stream",
     "text": [
      "File C:/Users/thato/OneDrive - University of Cape Town/Bird Classification Project/AudioSamples/birdclef-2023/train_audio_npy//carcha1/XC617797.npy already exists. Skipping...\n",
      "File C:/Users/thato/OneDrive - University of Cape Town/Bird Classification Project/AudioSamples/birdclef-2023/train_audio_npy//grecor/XC122902.npy already exists. Skipping...\n",
      "File C:/Users/thato/OneDrive - University of Cape Town/Bird Classification Project/AudioSamples/birdclef-2023/train_audio_npy//colsun2/XC489086.npy already exists. Skipping...\n",
      "File C:/Users/thato/OneDrive - University of Cape Town/Bird Classification Project/AudioSamples/birdclef-2023/train_audio_npy//wbrcha2/XC505565.npy already exists. Skipping...\n",
      "File C:/Users/thato/OneDrive - University of Cape Town/Bird Classification Project/AudioSamples/birdclef-2023/train_audio_npy//categr/XC389992.npy already exists. Skipping...\n",
      "File C:/Users/thato/OneDrive - University of Cape Town/Bird Classification Project/AudioSamples/birdclef-2023/train_audio_npy//fotdro5/XC118452.npy already exists. Skipping...\n"
     ]
    },
    {
     "name": "stderr",
     "output_type": "stream",
     "text": [
      "Saving audio files:  63%|██████▎   | 427/679 [00:18<00:07, 32.16file/s]"
     ]
    },
    {
     "name": "stdout",
     "output_type": "stream",
     "text": [
      "File C:/Users/thato/OneDrive - University of Cape Town/Bird Classification Project/AudioSamples/birdclef-2023/train_audio_npy//lawgol/XC161313.npy already exists. Skipping...\n",
      "File C:/Users/thato/OneDrive - University of Cape Town/Bird Classification Project/AudioSamples/birdclef-2023/train_audio_npy//fotdro5/XC748249.npy already exists. Skipping...\n",
      "File C:/Users/thato/OneDrive - University of Cape Town/Bird Classification Project/AudioSamples/birdclef-2023/train_audio_npy//colsun2/XC460520.npy already exists. Skipping...\n",
      "File C:/Users/thato/OneDrive - University of Cape Town/Bird Classification Project/AudioSamples/birdclef-2023/train_audio_npy//categr/XC361552.npy already exists. Skipping...\n",
      "File C:/Users/thato/OneDrive - University of Cape Town/Bird Classification Project/AudioSamples/birdclef-2023/train_audio_npy//categr/XC124271.npy already exists. Skipping...\n",
      "File C:/Users/thato/OneDrive - University of Cape Town/Bird Classification Project/AudioSamples/birdclef-2023/train_audio_npy//grecor/XC372106.npy already exists. Skipping...\n",
      "File C:/Users/thato/OneDrive - University of Cape Town/Bird Classification Project/AudioSamples/birdclef-2023/train_audio_npy//grecor/XC465114.npy already exists. Skipping...\n"
     ]
    },
    {
     "name": "stderr",
     "output_type": "stream",
     "text": [
      "Saving audio files:  64%|██████▎   | 432/679 [00:18<00:07, 33.30file/s]"
     ]
    },
    {
     "name": "stdout",
     "output_type": "stream",
     "text": [
      "File C:/Users/thato/OneDrive - University of Cape Town/Bird Classification Project/AudioSamples/birdclef-2023/train_audio_npy//colsun2/XC517356.npy already exists. Skipping...\n",
      "File C:/Users/thato/OneDrive - University of Cape Town/Bird Classification Project/AudioSamples/birdclef-2023/train_audio_npy//fotdro5/XC503798.npy already exists. Skipping...\n",
      "File C:/Users/thato/OneDrive - University of Cape Town/Bird Classification Project/AudioSamples/birdclef-2023/train_audio_npy//lawgol/XC661824.npy already exists. Skipping...\n",
      "File C:/Users/thato/OneDrive - University of Cape Town/Bird Classification Project/AudioSamples/birdclef-2023/train_audio_npy//fotdro5/XC637851.npy already exists. Skipping...\n",
      "File C:/Users/thato/OneDrive - University of Cape Town/Bird Classification Project/AudioSamples/birdclef-2023/train_audio_npy//wbrcha2/XC282079.npy already exists. Skipping...\n",
      "File C:/Users/thato/OneDrive - University of Cape Town/Bird Classification Project/AudioSamples/birdclef-2023/train_audio_npy//fotdro5/XC601078.npy already exists. Skipping...\n",
      "File C:/Users/thato/OneDrive - University of Cape Town/Bird Classification Project/AudioSamples/birdclef-2023/train_audio_npy//grecor/XC692508.npy already exists. Skipping...\n",
      "File C:/Users/thato/OneDrive - University of Cape Town/Bird Classification Project/AudioSamples/birdclef-2023/train_audio_npy//grecor/XC664790.npy already exists. Skipping...\n",
      "File C:/Users/thato/OneDrive - University of Cape Town/Bird Classification Project/AudioSamples/birdclef-2023/train_audio_npy//categr/XC694719.npy already exists. Skipping...\n",
      "File C:/Users/thato/OneDrive - University of Cape Town/Bird Classification Project/AudioSamples/birdclef-2023/train_audio_npy//categr/XC57416.npy already exists. Skipping...\n"
     ]
    },
    {
     "name": "stderr",
     "output_type": "stream",
     "text": [
      "Saving audio files:  65%|██████▍   | 438/679 [00:18<00:06, 37.94file/s]"
     ]
    },
    {
     "name": "stdout",
     "output_type": "stream",
     "text": [
      "File C:/Users/thato/OneDrive - University of Cape Town/Bird Classification Project/AudioSamples/birdclef-2023/train_audio_npy//fotdro5/XC292268.npy already exists. Skipping...\n",
      "File C:/Users/thato/OneDrive - University of Cape Town/Bird Classification Project/AudioSamples/birdclef-2023/train_audio_npy//colsun2/XC516816.npy already exists. Skipping...\n",
      "File C:/Users/thato/OneDrive - University of Cape Town/Bird Classification Project/AudioSamples/birdclef-2023/train_audio_npy//colsun2/XC516517.npy already exists. Skipping...\n"
     ]
    },
    {
     "name": "stderr",
     "output_type": "stream",
     "text": [
      "Saving audio files:  65%|██████▌   | 443/679 [00:19<00:07, 31.36file/s]"
     ]
    },
    {
     "name": "stdout",
     "output_type": "stream",
     "text": [
      "File C:/Users/thato/OneDrive - University of Cape Town/Bird Classification Project/AudioSamples/birdclef-2023/train_audio_npy//grecor/XC125460.npy already exists. Skipping...\n",
      "File C:/Users/thato/OneDrive - University of Cape Town/Bird Classification Project/AudioSamples/birdclef-2023/train_audio_npy//categr/XC747220.npy already exists. Skipping...\n",
      "File C:/Users/thato/OneDrive - University of Cape Town/Bird Classification Project/AudioSamples/birdclef-2023/train_audio_npy//categr/XC379067.npy already exists. Skipping...\n",
      "File C:/Users/thato/OneDrive - University of Cape Town/Bird Classification Project/AudioSamples/birdclef-2023/train_audio_npy//lawgol/XC661826.npy already exists. Skipping...\n"
     ]
    },
    {
     "name": "stderr",
     "output_type": "stream",
     "text": [
      "Saving audio files:  66%|██████▌   | 447/679 [00:19<00:10, 22.91file/s]"
     ]
    },
    {
     "name": "stdout",
     "output_type": "stream",
     "text": [
      "File C:/Users/thato/OneDrive - University of Cape Town/Bird Classification Project/AudioSamples/birdclef-2023/train_audio_npy//carcha1/XC244074.npy already exists. Skipping...\n",
      "File C:/Users/thato/OneDrive - University of Cape Town/Bird Classification Project/AudioSamples/birdclef-2023/train_audio_npy//carcha1/XC661773.npy already exists. Skipping...\n",
      "File C:/Users/thato/OneDrive - University of Cape Town/Bird Classification Project/AudioSamples/birdclef-2023/train_audio_npy//wbrcha2/XC254666.npy already exists. Skipping...\n",
      "File C:/Users/thato/OneDrive - University of Cape Town/Bird Classification Project/AudioSamples/birdclef-2023/train_audio_npy//fotdro5/XC451632.npy already exists. Skipping...\n",
      "File C:/Users/thato/OneDrive - University of Cape Town/Bird Classification Project/AudioSamples/birdclef-2023/train_audio_npy//colsun2/XC630277.npy already exists. Skipping...\n",
      "File C:/Users/thato/OneDrive - University of Cape Town/Bird Classification Project/AudioSamples/birdclef-2023/train_audio_npy//colsun2/XC459547.npy already exists. Skipping...\n"
     ]
    },
    {
     "name": "stderr",
     "output_type": "stream",
     "text": [
      "Saving audio files:  67%|██████▋   | 457/679 [00:19<00:08, 27.65file/s]"
     ]
    },
    {
     "name": "stdout",
     "output_type": "stream",
     "text": [
      "File C:/Users/thato/OneDrive - University of Cape Town/Bird Classification Project/AudioSamples/birdclef-2023/train_audio_npy//fotdro5/XC680130.npy already exists. Skipping...\n",
      "File C:/Users/thato/OneDrive - University of Cape Town/Bird Classification Project/AudioSamples/birdclef-2023/train_audio_npy//fotdro5/XC567087.npy already exists. Skipping...\n",
      "File C:/Users/thato/OneDrive - University of Cape Town/Bird Classification Project/AudioSamples/birdclef-2023/train_audio_npy//grecor/XC616100.npy already exists. Skipping...\n",
      "File C:/Users/thato/OneDrive - University of Cape Town/Bird Classification Project/AudioSamples/birdclef-2023/train_audio_npy//wbrcha2/XC252922.npy already exists. Skipping...\n",
      "File C:/Users/thato/OneDrive - University of Cape Town/Bird Classification Project/AudioSamples/birdclef-2023/train_audio_npy//colsun2/XC516705.npy already exists. Skipping...\n",
      "File C:/Users/thato/OneDrive - University of Cape Town/Bird Classification Project/AudioSamples/birdclef-2023/train_audio_npy//grecor/XC424767.npy already exists. Skipping...\n",
      "File C:/Users/thato/OneDrive - University of Cape Town/Bird Classification Project/AudioSamples/birdclef-2023/train_audio_npy//categr/XC613482.npy already exists. Skipping...\n",
      "File C:/Users/thato/OneDrive - University of Cape Town/Bird Classification Project/AudioSamples/birdclef-2023/train_audio_npy//carcha1/XC409993.npy already exists. Skipping...\n",
      "File C:/Users/thato/OneDrive - University of Cape Town/Bird Classification Project/AudioSamples/birdclef-2023/train_audio_npy//categr/XC143597.npy already exists. Skipping...\n"
     ]
    },
    {
     "name": "stderr",
     "output_type": "stream",
     "text": [
      "Saving audio files:  68%|██████▊   | 464/679 [00:19<00:06, 31.35file/s]"
     ]
    },
    {
     "name": "stdout",
     "output_type": "stream",
     "text": [
      "File C:/Users/thato/OneDrive - University of Cape Town/Bird Classification Project/AudioSamples/birdclef-2023/train_audio_npy//colsun2/XC174854.npy already exists. Skipping...\n",
      "File C:/Users/thato/OneDrive - University of Cape Town/Bird Classification Project/AudioSamples/birdclef-2023/train_audio_npy//categr/XC576962.npy already exists. Skipping...\n",
      "File C:/Users/thato/OneDrive - University of Cape Town/Bird Classification Project/AudioSamples/birdclef-2023/train_audio_npy//colsun2/XC517190.npy already exists. Skipping...\n",
      "File C:/Users/thato/OneDrive - University of Cape Town/Bird Classification Project/AudioSamples/birdclef-2023/train_audio_npy//wbrcha2/XC227360.npy already exists. Skipping...\n",
      "File C:/Users/thato/OneDrive - University of Cape Town/Bird Classification Project/AudioSamples/birdclef-2023/train_audio_npy//grecor/XC658837.npy already exists. Skipping...\n",
      "File C:/Users/thato/OneDrive - University of Cape Town/Bird Classification Project/AudioSamples/birdclef-2023/train_audio_npy//fotdro5/XC748934.npy already exists. Skipping...\n"
     ]
    },
    {
     "name": "stderr",
     "output_type": "stream",
     "text": [
      "Saving audio files:  70%|██████▉   | 472/679 [00:20<00:06, 33.10file/s]"
     ]
    },
    {
     "name": "stdout",
     "output_type": "stream",
     "text": [
      "File C:/Users/thato/OneDrive - University of Cape Town/Bird Classification Project/AudioSamples/birdclef-2023/train_audio_npy//categr/XC313748.npy already exists. Skipping...\n",
      "File C:/Users/thato/OneDrive - University of Cape Town/Bird Classification Project/AudioSamples/birdclef-2023/train_audio_npy//colsun2/XC513845.npy already exists. Skipping...\n",
      "File C:/Users/thato/OneDrive - University of Cape Town/Bird Classification Project/AudioSamples/birdclef-2023/train_audio_npy//wbrcha2/XC131635.npy already exists. Skipping...\n",
      "File C:/Users/thato/OneDrive - University of Cape Town/Bird Classification Project/AudioSamples/birdclef-2023/train_audio_npy//colsun2/XC649553.npy already exists. Skipping...\n",
      "File C:/Users/thato/OneDrive - University of Cape Town/Bird Classification Project/AudioSamples/birdclef-2023/train_audio_npy//colsun2/XC375769.npy already exists. Skipping...\n",
      "File C:/Users/thato/OneDrive - University of Cape Town/Bird Classification Project/AudioSamples/birdclef-2023/train_audio_npy//wbrcha2/XC195992.npy already exists. Skipping...\n",
      "File C:/Users/thato/OneDrive - University of Cape Town/Bird Classification Project/AudioSamples/birdclef-2023/train_audio_npy//categr/XC704006.npy already exists. Skipping...\n",
      "File C:/Users/thato/OneDrive - University of Cape Town/Bird Classification Project/AudioSamples/birdclef-2023/train_audio_npy//carcha1/XC664382.npy already exists. Skipping...\n"
     ]
    },
    {
     "name": "stderr",
     "output_type": "stream",
     "text": [
      "Saving audio files:  70%|███████   | 476/679 [00:20<00:06, 31.79file/s]"
     ]
    },
    {
     "name": "stdout",
     "output_type": "stream",
     "text": [
      "File C:/Users/thato/OneDrive - University of Cape Town/Bird Classification Project/AudioSamples/birdclef-2023/train_audio_npy//fotdro5/XC664384.npy already exists. Skipping...\n",
      "File C:/Users/thato/OneDrive - University of Cape Town/Bird Classification Project/AudioSamples/birdclef-2023/train_audio_npy//carcha1/XC431833.npy already exists. Skipping...\n"
     ]
    },
    {
     "name": "stderr",
     "output_type": "stream",
     "text": [
      "Saving audio files:  71%|███████   | 483/679 [00:20<00:07, 25.67file/s]"
     ]
    },
    {
     "name": "stdout",
     "output_type": "stream",
     "text": [
      "File C:/Users/thato/OneDrive - University of Cape Town/Bird Classification Project/AudioSamples/birdclef-2023/train_audio_npy//wbrcha2/XC601230.npy already exists. Skipping...\n",
      "File C:/Users/thato/OneDrive - University of Cape Town/Bird Classification Project/AudioSamples/birdclef-2023/train_audio_npy//grecor/XC622274.npy already exists. Skipping...\n",
      "File C:/Users/thato/OneDrive - University of Cape Town/Bird Classification Project/AudioSamples/birdclef-2023/train_audio_npy//categr/XC372953.npy already exists. Skipping...\n",
      "File C:/Users/thato/OneDrive - University of Cape Town/Bird Classification Project/AudioSamples/birdclef-2023/train_audio_npy//grecor/XC349699.npy already exists. Skipping...\n",
      "File C:/Users/thato/OneDrive - University of Cape Town/Bird Classification Project/AudioSamples/birdclef-2023/train_audio_npy//wbrcha2/XC227376.npy already exists. Skipping...\n",
      "File C:/Users/thato/OneDrive - University of Cape Town/Bird Classification Project/AudioSamples/birdclef-2023/train_audio_npy//categr/XC734226.npy already exists. Skipping...\n",
      "File C:/Users/thato/OneDrive - University of Cape Town/Bird Classification Project/AudioSamples/birdclef-2023/train_audio_npy//fotdro5/XC606407.npy already exists. Skipping...\n",
      "File C:/Users/thato/OneDrive - University of Cape Town/Bird Classification Project/AudioSamples/birdclef-2023/train_audio_npy//grecor/XC622275.npy already exists. Skipping...\n"
     ]
    },
    {
     "name": "stderr",
     "output_type": "stream",
     "text": [
      "Saving audio files:  72%|███████▏  | 490/679 [00:20<00:07, 25.71file/s]"
     ]
    },
    {
     "name": "stdout",
     "output_type": "stream",
     "text": [
      "File C:/Users/thato/OneDrive - University of Cape Town/Bird Classification Project/AudioSamples/birdclef-2023/train_audio_npy//fotdro5/XC696441.npy already exists. Skipping...\n",
      "File C:/Users/thato/OneDrive - University of Cape Town/Bird Classification Project/AudioSamples/birdclef-2023/train_audio_npy//carcha1/XC652746.npy already exists. Skipping...\n",
      "File C:/Users/thato/OneDrive - University of Cape Town/Bird Classification Project/AudioSamples/birdclef-2023/train_audio_npy//carcha1/XC662462.npy already exists. Skipping...\n",
      "File C:/Users/thato/OneDrive - University of Cape Town/Bird Classification Project/AudioSamples/birdclef-2023/train_audio_npy//colsun2/XC740404.npy already exists. Skipping...\n",
      "File C:/Users/thato/OneDrive - University of Cape Town/Bird Classification Project/AudioSamples/birdclef-2023/train_audio_npy//grecor/XC620507.npy already exists. Skipping...\n",
      "File C:/Users/thato/OneDrive - University of Cape Town/Bird Classification Project/AudioSamples/birdclef-2023/train_audio_npy//grecor/XC467245.npy already exists. Skipping...\n",
      "File C:/Users/thato/OneDrive - University of Cape Town/Bird Classification Project/AudioSamples/birdclef-2023/train_audio_npy//lawgol/XC328992.npy already exists. Skipping...\n"
     ]
    },
    {
     "name": "stderr",
     "output_type": "stream",
     "text": [
      "Saving audio files:  74%|███████▎  | 500/679 [00:21<00:05, 34.23file/s]"
     ]
    },
    {
     "name": "stdout",
     "output_type": "stream",
     "text": [
      "File C:/Users/thato/OneDrive - University of Cape Town/Bird Classification Project/AudioSamples/birdclef-2023/train_audio_npy//fotdro5/XC619815.npy already exists. Skipping...\n",
      "File C:/Users/thato/OneDrive - University of Cape Town/Bird Classification Project/AudioSamples/birdclef-2023/train_audio_npy//colsun2/XC701726.npy already exists. Skipping...\n",
      "File C:/Users/thato/OneDrive - University of Cape Town/Bird Classification Project/AudioSamples/birdclef-2023/train_audio_npy//carcha1/XC650083.npy already exists. Skipping...\n",
      "File C:/Users/thato/OneDrive - University of Cape Town/Bird Classification Project/AudioSamples/birdclef-2023/train_audio_npy//categr/XC288325.npy already exists. Skipping...\n",
      "File C:/Users/thato/OneDrive - University of Cape Town/Bird Classification Project/AudioSamples/birdclef-2023/train_audio_npy//categr/XC501019.npy already exists. Skipping...\n",
      "File C:/Users/thato/OneDrive - University of Cape Town/Bird Classification Project/AudioSamples/birdclef-2023/train_audio_npy//carcha1/XC405693.npy already exists. Skipping...\n",
      "File C:/Users/thato/OneDrive - University of Cape Town/Bird Classification Project/AudioSamples/birdclef-2023/train_audio_npy//grecor/XC344284.npy already exists. Skipping...\n",
      "File C:/Users/thato/OneDrive - University of Cape Town/Bird Classification Project/AudioSamples/birdclef-2023/train_audio_npy//categr/XC131326.npy already exists. Skipping...\n"
     ]
    },
    {
     "name": "stderr",
     "output_type": "stream",
     "text": [
      "Saving audio files:  74%|███████▍  | 504/679 [00:21<00:05, 29.41file/s]"
     ]
    },
    {
     "name": "stdout",
     "output_type": "stream",
     "text": [
      "File C:/Users/thato/OneDrive - University of Cape Town/Bird Classification Project/AudioSamples/birdclef-2023/train_audio_npy//colsun2/XC633950.npy already exists. Skipping...\n",
      "File C:/Users/thato/OneDrive - University of Cape Town/Bird Classification Project/AudioSamples/birdclef-2023/train_audio_npy//grecor/XC518940.npy already exists. Skipping...\n",
      "File C:/Users/thato/OneDrive - University of Cape Town/Bird Classification Project/AudioSamples/birdclef-2023/train_audio_npy//categr/XC517403.npy already exists. Skipping...\n",
      "File C:/Users/thato/OneDrive - University of Cape Town/Bird Classification Project/AudioSamples/birdclef-2023/train_audio_npy//fotdro5/XC397510.npy already exists. Skipping...\n"
     ]
    },
    {
     "name": "stderr",
     "output_type": "stream",
     "text": [
      "Saving audio files:  76%|███████▌  | 513/679 [00:21<00:05, 29.31file/s]"
     ]
    },
    {
     "name": "stdout",
     "output_type": "stream",
     "text": [
      "File C:/Users/thato/OneDrive - University of Cape Town/Bird Classification Project/AudioSamples/birdclef-2023/train_audio_npy//grecor/XC316374.npy already exists. Skipping...\n",
      "File C:/Users/thato/OneDrive - University of Cape Town/Bird Classification Project/AudioSamples/birdclef-2023/train_audio_npy//grecor/XC629586.npy already exists. Skipping...\n",
      "File C:/Users/thato/OneDrive - University of Cape Town/Bird Classification Project/AudioSamples/birdclef-2023/train_audio_npy//colsun2/XC664998.npy already exists. Skipping...\n",
      "File C:/Users/thato/OneDrive - University of Cape Town/Bird Classification Project/AudioSamples/birdclef-2023/train_audio_npy//wbrcha2/XC620220.npy already exists. Skipping...\n",
      "File C:/Users/thato/OneDrive - University of Cape Town/Bird Classification Project/AudioSamples/birdclef-2023/train_audio_npy//grecor/XC521924.npy already exists. Skipping...\n",
      "File C:/Users/thato/OneDrive - University of Cape Town/Bird Classification Project/AudioSamples/birdclef-2023/train_audio_npy//categr/XC304256.npy already exists. Skipping...\n",
      "File C:/Users/thato/OneDrive - University of Cape Town/Bird Classification Project/AudioSamples/birdclef-2023/train_audio_npy//carcha1/XC459491.npy already exists. Skipping...\n",
      "File C:/Users/thato/OneDrive - University of Cape Town/Bird Classification Project/AudioSamples/birdclef-2023/train_audio_npy//colsun2/XC354081.npy already exists. Skipping...\n",
      "File C:/Users/thato/OneDrive - University of Cape Town/Bird Classification Project/AudioSamples/birdclef-2023/train_audio_npy//fotdro5/XC506247.npy already exists. Skipping...\n",
      "File C:/Users/thato/OneDrive - University of Cape Town/Bird Classification Project/AudioSamples/birdclef-2023/train_audio_npy//wbrcha2/XC218085.npy already exists. Skipping...\n"
     ]
    },
    {
     "name": "stderr",
     "output_type": "stream",
     "text": [
      "Saving audio files:  77%|███████▋  | 522/679 [00:21<00:04, 34.73file/s]"
     ]
    },
    {
     "name": "stdout",
     "output_type": "stream",
     "text": [
      "File C:/Users/thato/OneDrive - University of Cape Town/Bird Classification Project/AudioSamples/birdclef-2023/train_audio_npy//carcha1/XC664351.npy already exists. Skipping...\n",
      "File C:/Users/thato/OneDrive - University of Cape Town/Bird Classification Project/AudioSamples/birdclef-2023/train_audio_npy//carcha1/XC549589.npy already exists. Skipping...\n",
      "File C:/Users/thato/OneDrive - University of Cape Town/Bird Classification Project/AudioSamples/birdclef-2023/train_audio_npy//carcha1/XC421065.npy already exists. Skipping...\n",
      "File C:/Users/thato/OneDrive - University of Cape Town/Bird Classification Project/AudioSamples/birdclef-2023/train_audio_npy//lawgol/XC754650.npy already exists. Skipping...\n",
      "File C:/Users/thato/OneDrive - University of Cape Town/Bird Classification Project/AudioSamples/birdclef-2023/train_audio_npy//categr/XC361553.npy already exists. Skipping...\n",
      "File C:/Users/thato/OneDrive - University of Cape Town/Bird Classification Project/AudioSamples/birdclef-2023/train_audio_npy//colsun2/XC398565.npy already exists. Skipping...\n",
      "File C:/Users/thato/OneDrive - University of Cape Town/Bird Classification Project/AudioSamples/birdclef-2023/train_audio_npy//lawgol/XC648115.npy already exists. Skipping...\n",
      "File C:/Users/thato/OneDrive - University of Cape Town/Bird Classification Project/AudioSamples/birdclef-2023/train_audio_npy//wbrcha2/XC568073.npy already exists. Skipping...\n"
     ]
    },
    {
     "name": "stderr",
     "output_type": "stream",
     "text": [
      "Saving audio files:  79%|███████▊  | 534/679 [00:22<00:03, 38.51file/s]"
     ]
    },
    {
     "name": "stdout",
     "output_type": "stream",
     "text": [
      "File C:/Users/thato/OneDrive - University of Cape Town/Bird Classification Project/AudioSamples/birdclef-2023/train_audio_npy//fotdro5/XC619818.npy already exists. Skipping...\n",
      "File C:/Users/thato/OneDrive - University of Cape Town/Bird Classification Project/AudioSamples/birdclef-2023/train_audio_npy//wbrcha2/XC252062.npy already exists. Skipping...\n",
      "File C:/Users/thato/OneDrive - University of Cape Town/Bird Classification Project/AudioSamples/birdclef-2023/train_audio_npy//wbrcha2/XC153430.npy already exists. Skipping...\n",
      "File C:/Users/thato/OneDrive - University of Cape Town/Bird Classification Project/AudioSamples/birdclef-2023/train_audio_npy//fotdro5/XC120248.npy already exists. Skipping...\n",
      "File C:/Users/thato/OneDrive - University of Cape Town/Bird Classification Project/AudioSamples/birdclef-2023/train_audio_npy//wbrcha2/XC18226.npy already exists. Skipping...\n",
      "File C:/Users/thato/OneDrive - University of Cape Town/Bird Classification Project/AudioSamples/birdclef-2023/train_audio_npy//grecor/XC700159.npy already exists. Skipping...\n"
     ]
    },
    {
     "name": "stderr",
     "output_type": "stream",
     "text": [
      "Saving audio files:  80%|███████▉  | 542/679 [00:22<00:03, 41.07file/s]"
     ]
    },
    {
     "name": "stdout",
     "output_type": "stream",
     "text": [
      "File C:/Users/thato/OneDrive - University of Cape Town/Bird Classification Project/AudioSamples/birdclef-2023/train_audio_npy//colsun2/XC289287.npy already exists. Skipping...\n",
      "File C:/Users/thato/OneDrive - University of Cape Town/Bird Classification Project/AudioSamples/birdclef-2023/train_audio_npy//wbrcha2/XC452606.npy already exists. Skipping...\n",
      "File C:/Users/thato/OneDrive - University of Cape Town/Bird Classification Project/AudioSamples/birdclef-2023/train_audio_npy//categr/XC361549.npy already exists. Skipping...\n",
      "File C:/Users/thato/OneDrive - University of Cape Town/Bird Classification Project/AudioSamples/birdclef-2023/train_audio_npy//grecor/XC448710.npy already exists. Skipping...\n",
      "File C:/Users/thato/OneDrive - University of Cape Town/Bird Classification Project/AudioSamples/birdclef-2023/train_audio_npy//grecor/XC492429.npy already exists. Skipping...\n",
      "File C:/Users/thato/OneDrive - University of Cape Town/Bird Classification Project/AudioSamples/birdclef-2023/train_audio_npy//grecor/XC505211.npy already exists. Skipping...\n",
      "File C:/Users/thato/OneDrive - University of Cape Town/Bird Classification Project/AudioSamples/birdclef-2023/train_audio_npy//categr/XC57417.npy already exists. Skipping...\n",
      "File C:/Users/thato/OneDrive - University of Cape Town/Bird Classification Project/AudioSamples/birdclef-2023/train_audio_npy//categr/XC438523.npy already exists. Skipping...\n",
      "File C:/Users/thato/OneDrive - University of Cape Town/Bird Classification Project/AudioSamples/birdclef-2023/train_audio_npy//fotdro5/XC153869.npy already exists. Skipping...\n",
      "File C:/Users/thato/OneDrive - University of Cape Town/Bird Classification Project/AudioSamples/birdclef-2023/train_audio_npy//colsun2/XC375770.npy already exists. Skipping...\n"
     ]
    },
    {
     "name": "stderr",
     "output_type": "stream",
     "text": [
      "Saving audio files:  81%|████████  | 551/679 [00:22<00:03, 33.53file/s]"
     ]
    },
    {
     "name": "stdout",
     "output_type": "stream",
     "text": [
      "File C:/Users/thato/OneDrive - University of Cape Town/Bird Classification Project/AudioSamples/birdclef-2023/train_audio_npy//grecor/XC601848.npy already exists. Skipping...\n",
      "File C:/Users/thato/OneDrive - University of Cape Town/Bird Classification Project/AudioSamples/birdclef-2023/train_audio_npy//wbrcha2/XC363960.npy already exists. Skipping...\n",
      "File C:/Users/thato/OneDrive - University of Cape Town/Bird Classification Project/AudioSamples/birdclef-2023/train_audio_npy//wbrcha2/XC524754.npy already exists. Skipping...\n",
      "File C:/Users/thato/OneDrive - University of Cape Town/Bird Classification Project/AudioSamples/birdclef-2023/train_audio_npy//categr/XC45474.npy already exists. Skipping...\n",
      "File C:/Users/thato/OneDrive - University of Cape Town/Bird Classification Project/AudioSamples/birdclef-2023/train_audio_npy//carcha1/XC462081.npy already exists. Skipping...\n",
      "File C:/Users/thato/OneDrive - University of Cape Town/Bird Classification Project/AudioSamples/birdclef-2023/train_audio_npy//grecor/XC182031.npy already exists. Skipping...\n"
     ]
    },
    {
     "name": "stderr",
     "output_type": "stream",
     "text": [
      "Saving audio files:  82%|████████▏ | 560/679 [00:22<00:03, 34.34file/s]"
     ]
    },
    {
     "name": "stdout",
     "output_type": "stream",
     "text": [
      "File C:/Users/thato/OneDrive - University of Cape Town/Bird Classification Project/AudioSamples/birdclef-2023/train_audio_npy//fotdro5/XC748250.npy already exists. Skipping...\n",
      "File C:/Users/thato/OneDrive - University of Cape Town/Bird Classification Project/AudioSamples/birdclef-2023/train_audio_npy//fotdro5/XC249297.npy already exists. Skipping...\n",
      "File C:/Users/thato/OneDrive - University of Cape Town/Bird Classification Project/AudioSamples/birdclef-2023/train_audio_npy//categr/XC756290.npy already exists. Skipping...\n",
      "File C:/Users/thato/OneDrive - University of Cape Town/Bird Classification Project/AudioSamples/birdclef-2023/train_audio_npy//wbrcha2/XC207008.npy already exists. Skipping...\n",
      "File C:/Users/thato/OneDrive - University of Cape Town/Bird Classification Project/AudioSamples/birdclef-2023/train_audio_npy//colsun2/XC345101.npy already exists. Skipping...\n",
      "File C:/Users/thato/OneDrive - University of Cape Town/Bird Classification Project/AudioSamples/birdclef-2023/train_audio_npy//lawgol/XC134010.npy already exists. Skipping...\n",
      "File C:/Users/thato/OneDrive - University of Cape Town/Bird Classification Project/AudioSamples/birdclef-2023/train_audio_npy//grecor/XC448581.npy already exists. Skipping...\n",
      "File C:/Users/thato/OneDrive - University of Cape Town/Bird Classification Project/AudioSamples/birdclef-2023/train_audio_npy//grecor/XC317031.npy already exists. Skipping...\n"
     ]
    },
    {
     "name": "stderr",
     "output_type": "stream",
     "text": [
      "Saving audio files:  83%|████████▎ | 565/679 [00:22<00:03, 37.78file/s]"
     ]
    },
    {
     "name": "stdout",
     "output_type": "stream",
     "text": [
      "File C:/Users/thato/OneDrive - University of Cape Town/Bird Classification Project/AudioSamples/birdclef-2023/train_audio_npy//carcha1/XC492913.npy already exists. Skipping...\n",
      "File C:/Users/thato/OneDrive - University of Cape Town/Bird Classification Project/AudioSamples/birdclef-2023/train_audio_npy//categr/XC353847.npy already exists. Skipping...\n",
      "File C:/Users/thato/OneDrive - University of Cape Town/Bird Classification Project/AudioSamples/birdclef-2023/train_audio_npy//wbrcha2/XC575886.npy already exists. Skipping...\n",
      "File C:/Users/thato/OneDrive - University of Cape Town/Bird Classification Project/AudioSamples/birdclef-2023/train_audio_npy//categr/XC304255.npy already exists. Skipping...\n",
      "File C:/Users/thato/OneDrive - University of Cape Town/Bird Classification Project/AudioSamples/birdclef-2023/train_audio_npy//colsun2/XC664999.npy already exists. Skipping...\n",
      "File C:/Users/thato/OneDrive - University of Cape Town/Bird Classification Project/AudioSamples/birdclef-2023/train_audio_npy//wbrcha2/XC155157.npy already exists. Skipping...\n"
     ]
    },
    {
     "name": "stderr",
     "output_type": "stream",
     "text": [
      "Saving audio files:  84%|████████▍ | 573/679 [00:23<00:03, 31.66file/s]"
     ]
    },
    {
     "name": "stdout",
     "output_type": "stream",
     "text": [
      "File C:/Users/thato/OneDrive - University of Cape Town/Bird Classification Project/AudioSamples/birdclef-2023/train_audio_npy//colsun2/XC517171.npy already exists. Skipping...\n",
      "File C:/Users/thato/OneDrive - University of Cape Town/Bird Classification Project/AudioSamples/birdclef-2023/train_audio_npy//colsun2/XC517206.npy already exists. Skipping...\n",
      "File C:/Users/thato/OneDrive - University of Cape Town/Bird Classification Project/AudioSamples/birdclef-2023/train_audio_npy//categr/XC311860.npy already exists. Skipping...\n",
      "File C:/Users/thato/OneDrive - University of Cape Town/Bird Classification Project/AudioSamples/birdclef-2023/train_audio_npy//wbrcha2/XC720733.npy already exists. Skipping...\n",
      "File C:/Users/thato/OneDrive - University of Cape Town/Bird Classification Project/AudioSamples/birdclef-2023/train_audio_npy//wbrcha2/XC428383.npy already exists. Skipping...\n",
      "File C:/Users/thato/OneDrive - University of Cape Town/Bird Classification Project/AudioSamples/birdclef-2023/train_audio_npy//grecor/XC441255.npy already exists. Skipping...\n",
      "File C:/Users/thato/OneDrive - University of Cape Town/Bird Classification Project/AudioSamples/birdclef-2023/train_audio_npy//wbrcha2/XC218086.npy already exists. Skipping...\n"
     ]
    },
    {
     "name": "stderr",
     "output_type": "stream",
     "text": [
      "Saving audio files:  85%|████████▍ | 577/679 [00:23<00:03, 28.40file/s]"
     ]
    },
    {
     "name": "stdout",
     "output_type": "stream",
     "text": [
      "File C:/Users/thato/OneDrive - University of Cape Town/Bird Classification Project/AudioSamples/birdclef-2023/train_audio_npy//wbrcha2/XC459157.npy already exists. Skipping...\n",
      "File C:/Users/thato/OneDrive - University of Cape Town/Bird Classification Project/AudioSamples/birdclef-2023/train_audio_npy//colsun2/XC634195.npy already exists. Skipping...\n",
      "File C:/Users/thato/OneDrive - University of Cape Town/Bird Classification Project/AudioSamples/birdclef-2023/train_audio_npy//carcha1/XC590845.npy already exists. Skipping...\n"
     ]
    },
    {
     "name": "stderr",
     "output_type": "stream",
     "text": [
      "Saving audio files:  86%|████████▌ | 581/679 [00:23<00:04, 23.09file/s]"
     ]
    },
    {
     "name": "stdout",
     "output_type": "stream",
     "text": [
      "File C:/Users/thato/OneDrive - University of Cape Town/Bird Classification Project/AudioSamples/birdclef-2023/train_audio_npy//colsun2/XC516598.npy already exists. Skipping...\n",
      "File C:/Users/thato/OneDrive - University of Cape Town/Bird Classification Project/AudioSamples/birdclef-2023/train_audio_npy//wbrcha2/XC363883.npy already exists. Skipping...\n",
      "File C:/Users/thato/OneDrive - University of Cape Town/Bird Classification Project/AudioSamples/birdclef-2023/train_audio_npy//carcha1/XC748956.npy already exists. Skipping...\n",
      "File C:/Users/thato/OneDrive - University of Cape Town/Bird Classification Project/AudioSamples/birdclef-2023/train_audio_npy//wbrcha2/XC281999.npy already exists. Skipping...\n",
      "File C:/Users/thato/OneDrive - University of Cape Town/Bird Classification Project/AudioSamples/birdclef-2023/train_audio_npy//carcha1/XC323381.npy already exists. Skipping...\n"
     ]
    },
    {
     "name": "stderr",
     "output_type": "stream",
     "text": [
      "Saving audio files:  87%|████████▋ | 591/679 [00:24<00:03, 27.89file/s]"
     ]
    },
    {
     "name": "stdout",
     "output_type": "stream",
     "text": [
      "File C:/Users/thato/OneDrive - University of Cape Town/Bird Classification Project/AudioSamples/birdclef-2023/train_audio_npy//categr/XC361551.npy already exists. Skipping...\n",
      "File C:/Users/thato/OneDrive - University of Cape Town/Bird Classification Project/AudioSamples/birdclef-2023/train_audio_npy//colsun2/XC237231.npy already exists. Skipping...\n",
      "File C:/Users/thato/OneDrive - University of Cape Town/Bird Classification Project/AudioSamples/birdclef-2023/train_audio_npy//carcha1/XC322332.npy already exists. Skipping...\n",
      "File C:/Users/thato/OneDrive - University of Cape Town/Bird Classification Project/AudioSamples/birdclef-2023/train_audio_npy//colsun2/XC516532.npy already exists. Skipping...\n",
      "File C:/Users/thato/OneDrive - University of Cape Town/Bird Classification Project/AudioSamples/birdclef-2023/train_audio_npy//wbrcha2/XC253032.npy already exists. Skipping...\n",
      "File C:/Users/thato/OneDrive - University of Cape Town/Bird Classification Project/AudioSamples/birdclef-2023/train_audio_npy//carcha1/XC540669.npy already exists. Skipping...\n"
     ]
    },
    {
     "name": "stderr",
     "output_type": "stream",
     "text": [
      "Saving audio files:  88%|████████▊ | 598/679 [00:24<00:02, 28.12file/s]"
     ]
    },
    {
     "name": "stdout",
     "output_type": "stream",
     "text": [
      "File C:/Users/thato/OneDrive - University of Cape Town/Bird Classification Project/AudioSamples/birdclef-2023/train_audio_npy//categr/XC327832.npy already exists. Skipping...\n",
      "File C:/Users/thato/OneDrive - University of Cape Town/Bird Classification Project/AudioSamples/birdclef-2023/train_audio_npy//grecor/XC726670.npy already exists. Skipping...\n",
      "File C:/Users/thato/OneDrive - University of Cape Town/Bird Classification Project/AudioSamples/birdclef-2023/train_audio_npy//grecor/XC431890.npy already exists. Skipping...\n",
      "File C:/Users/thato/OneDrive - University of Cape Town/Bird Classification Project/AudioSamples/birdclef-2023/train_audio_npy//fotdro5/XC619813.npy already exists. Skipping...\n",
      "File C:/Users/thato/OneDrive - University of Cape Town/Bird Classification Project/AudioSamples/birdclef-2023/train_audio_npy//lawgol/XC133717.npy already exists. Skipping...\n",
      "File C:/Users/thato/OneDrive - University of Cape Town/Bird Classification Project/AudioSamples/birdclef-2023/train_audio_npy//colsun2/XC516595.npy already exists. Skipping...\n",
      "File C:/Users/thato/OneDrive - University of Cape Town/Bird Classification Project/AudioSamples/birdclef-2023/train_audio_npy//fotdro5/XC731557.npy already exists. Skipping...\n",
      "File C:/Users/thato/OneDrive - University of Cape Town/Bird Classification Project/AudioSamples/birdclef-2023/train_audio_npy//categr/XC403813.npy already exists. Skipping...\n",
      "File C:/Users/thato/OneDrive - University of Cape Town/Bird Classification Project/AudioSamples/birdclef-2023/train_audio_npy//categr/XC267153.npy already exists. Skipping...\n",
      "File C:/Users/thato/OneDrive - University of Cape Town/Bird Classification Project/AudioSamples/birdclef-2023/train_audio_npy//carcha1/XC597248.npy already exists. Skipping...\n"
     ]
    },
    {
     "name": "stderr",
     "output_type": "stream",
     "text": [
      "Saving audio files:  90%|████████▉ | 610/679 [00:24<00:02, 25.04file/s]"
     ]
    },
    {
     "name": "stdout",
     "output_type": "stream",
     "text": [
      "File C:/Users/thato/OneDrive - University of Cape Town/Bird Classification Project/AudioSamples/birdclef-2023/train_audio_npy//lawgol/XC161318.npy already exists. Skipping...\n",
      "File C:/Users/thato/OneDrive - University of Cape Town/Bird Classification Project/AudioSamples/birdclef-2023/train_audio_npy//categr/XC611986.npy already exists. Skipping...\n",
      "File C:/Users/thato/OneDrive - University of Cape Town/Bird Classification Project/AudioSamples/birdclef-2023/train_audio_npy//categr/XC143602.npy already exists. Skipping...\n",
      "File C:/Users/thato/OneDrive - University of Cape Town/Bird Classification Project/AudioSamples/birdclef-2023/train_audio_npy//grecor/XC214292.npy already exists. Skipping...\n",
      "File C:/Users/thato/OneDrive - University of Cape Town/Bird Classification Project/AudioSamples/birdclef-2023/train_audio_npy//wbrcha2/XC323337.npy already exists. Skipping...\n",
      "File C:/Users/thato/OneDrive - University of Cape Town/Bird Classification Project/AudioSamples/birdclef-2023/train_audio_npy//colsun2/XC516842.npy already exists. Skipping...\n",
      "File C:/Users/thato/OneDrive - University of Cape Town/Bird Classification Project/AudioSamples/birdclef-2023/train_audio_npy//fotdro5/XC540640.npy already exists. Skipping...\n"
     ]
    },
    {
     "name": "stderr",
     "output_type": "stream",
     "text": [
      "Saving audio files:  91%|█████████ | 617/679 [00:24<00:01, 32.50file/s]"
     ]
    },
    {
     "name": "stdout",
     "output_type": "stream",
     "text": [
      "File C:/Users/thato/OneDrive - University of Cape Town/Bird Classification Project/AudioSamples/birdclef-2023/train_audio_npy//grecor/XC400490.npy already exists. Skipping...\n",
      "File C:/Users/thato/OneDrive - University of Cape Town/Bird Classification Project/AudioSamples/birdclef-2023/train_audio_npy//wbrcha2/XC372212.npy already exists. Skipping...\n",
      "File C:/Users/thato/OneDrive - University of Cape Town/Bird Classification Project/AudioSamples/birdclef-2023/train_audio_npy//colsun2/XC392012.npy already exists. Skipping...\n",
      "File C:/Users/thato/OneDrive - University of Cape Town/Bird Classification Project/AudioSamples/birdclef-2023/train_audio_npy//colsun2/XC744259.npy already exists. Skipping...\n",
      "File C:/Users/thato/OneDrive - University of Cape Town/Bird Classification Project/AudioSamples/birdclef-2023/train_audio_npy//carcha1/XC667013.npy already exists. Skipping...\n",
      "File C:/Users/thato/OneDrive - University of Cape Town/Bird Classification Project/AudioSamples/birdclef-2023/train_audio_npy//wbrcha2/XC227334.npy already exists. Skipping...\n",
      "File C:/Users/thato/OneDrive - University of Cape Town/Bird Classification Project/AudioSamples/birdclef-2023/train_audio_npy//colsun2/XC118210.npy already exists. Skipping...\n",
      "File C:/Users/thato/OneDrive - University of Cape Town/Bird Classification Project/AudioSamples/birdclef-2023/train_audio_npy//wbrcha2/XC750366.npy already exists. Skipping...\n",
      "File C:/Users/thato/OneDrive - University of Cape Town/Bird Classification Project/AudioSamples/birdclef-2023/train_audio_npy//categr/XC108820.npy already exists. Skipping...\n",
      "File C:/Users/thato/OneDrive - University of Cape Town/Bird Classification Project/AudioSamples/birdclef-2023/train_audio_npy//grecor/XC512128.npy already exists. Skipping...\n"
     ]
    },
    {
     "name": "stderr",
     "output_type": "stream",
     "text": [
      "Saving audio files:  92%|█████████▏| 623/679 [00:24<00:01, 34.26file/s]"
     ]
    },
    {
     "name": "stdout",
     "output_type": "stream",
     "text": [
      "File C:/Users/thato/OneDrive - University of Cape Town/Bird Classification Project/AudioSamples/birdclef-2023/train_audio_npy//colsun2/XC516893.npy already exists. Skipping...\n",
      "File C:/Users/thato/OneDrive - University of Cape Town/Bird Classification Project/AudioSamples/birdclef-2023/train_audio_npy//colsun2/XC516996.npy already exists. Skipping...\n",
      "File C:/Users/thato/OneDrive - University of Cape Town/Bird Classification Project/AudioSamples/birdclef-2023/train_audio_npy//categr/XC452565.npy already exists. Skipping...\n"
     ]
    },
    {
     "name": "stderr",
     "output_type": "stream",
     "text": [
      "Saving audio files:  93%|█████████▎| 634/679 [00:25<00:01, 33.49file/s]"
     ]
    },
    {
     "name": "stdout",
     "output_type": "stream",
     "text": [
      "File C:/Users/thato/OneDrive - University of Cape Town/Bird Classification Project/AudioSamples/birdclef-2023/train_audio_npy//fotdro5/XC624665.npy already exists. Skipping...\n",
      "File C:/Users/thato/OneDrive - University of Cape Town/Bird Classification Project/AudioSamples/birdclef-2023/train_audio_npy//wbrcha2/XC426248.npy already exists. Skipping...\n",
      "File C:/Users/thato/OneDrive - University of Cape Town/Bird Classification Project/AudioSamples/birdclef-2023/train_audio_npy//carcha1/XC309595.npy already exists. Skipping...\n",
      "File C:/Users/thato/OneDrive - University of Cape Town/Bird Classification Project/AudioSamples/birdclef-2023/train_audio_npy//colsun2/XC517358.npy already exists. Skipping...\n",
      "File C:/Users/thato/OneDrive - University of Cape Town/Bird Classification Project/AudioSamples/birdclef-2023/train_audio_npy//categr/XC576956.npy already exists. Skipping...\n",
      "File C:/Users/thato/OneDrive - University of Cape Town/Bird Classification Project/AudioSamples/birdclef-2023/train_audio_npy//wbrcha2/XC305754.npy already exists. Skipping...\n",
      "File C:/Users/thato/OneDrive - University of Cape Town/Bird Classification Project/AudioSamples/birdclef-2023/train_audio_npy//fotdro5/XC150409.npy already exists. Skipping...\n",
      "File C:/Users/thato/OneDrive - University of Cape Town/Bird Classification Project/AudioSamples/birdclef-2023/train_audio_npy//colsun2/XC401888.npy already exists. Skipping...\n",
      "File C:/Users/thato/OneDrive - University of Cape Town/Bird Classification Project/AudioSamples/birdclef-2023/train_audio_npy//wbrcha2/XC503800.npy already exists. Skipping...\n",
      "File C:/Users/thato/OneDrive - University of Cape Town/Bird Classification Project/AudioSamples/birdclef-2023/train_audio_npy//grecor/XC722335.npy already exists. Skipping...\n",
      "File C:/Users/thato/OneDrive - University of Cape Town/Bird Classification Project/AudioSamples/birdclef-2023/train_audio_npy//grecor/XC678796.npy already exists. Skipping...\n"
     ]
    },
    {
     "name": "stderr",
     "output_type": "stream",
     "text": [
      "Saving audio files:  95%|█████████▍| 644/679 [00:25<00:00, 35.23file/s]"
     ]
    },
    {
     "name": "stdout",
     "output_type": "stream",
     "text": [
      "File C:/Users/thato/OneDrive - University of Cape Town/Bird Classification Project/AudioSamples/birdclef-2023/train_audio_npy//categr/XC304253.npy already exists. Skipping...\n",
      "File C:/Users/thato/OneDrive - University of Cape Town/Bird Classification Project/AudioSamples/birdclef-2023/train_audio_npy//fotdro5/XC664385.npy already exists. Skipping...\n",
      "File C:/Users/thato/OneDrive - University of Cape Town/Bird Classification Project/AudioSamples/birdclef-2023/train_audio_npy//colsun2/XC323386.npy already exists. Skipping...\n",
      "File C:/Users/thato/OneDrive - University of Cape Town/Bird Classification Project/AudioSamples/birdclef-2023/train_audio_npy//colsun2/XC634202.npy already exists. Skipping...\n",
      "File C:/Users/thato/OneDrive - University of Cape Town/Bird Classification Project/AudioSamples/birdclef-2023/train_audio_npy//grecor/XC738996.npy already exists. Skipping...\n",
      "File C:/Users/thato/OneDrive - University of Cape Town/Bird Classification Project/AudioSamples/birdclef-2023/train_audio_npy//fotdro5/XC444626.npy already exists. Skipping...\n",
      "File C:/Users/thato/OneDrive - University of Cape Town/Bird Classification Project/AudioSamples/birdclef-2023/train_audio_npy//carcha1/XC642939.npy already exists. Skipping...\n",
      "File C:/Users/thato/OneDrive - University of Cape Town/Bird Classification Project/AudioSamples/birdclef-2023/train_audio_npy//fotdro5/XC408741.npy already exists. Skipping...\n",
      "File C:/Users/thato/OneDrive - University of Cape Town/Bird Classification Project/AudioSamples/birdclef-2023/train_audio_npy//carcha1/XC127679.npy already exists. Skipping...\n"
     ]
    },
    {
     "name": "stderr",
     "output_type": "stream",
     "text": [
      "Saving audio files:  96%|█████████▌| 650/679 [00:25<00:00, 40.07file/s]"
     ]
    },
    {
     "name": "stdout",
     "output_type": "stream",
     "text": [
      "File C:/Users/thato/OneDrive - University of Cape Town/Bird Classification Project/AudioSamples/birdclef-2023/train_audio_npy//wbrcha2/XC195523.npy already exists. Skipping...\n",
      "File C:/Users/thato/OneDrive - University of Cape Town/Bird Classification Project/AudioSamples/birdclef-2023/train_audio_npy//lawgol/XC461551.npy already exists. Skipping...\n",
      "File C:/Users/thato/OneDrive - University of Cape Town/Bird Classification Project/AudioSamples/birdclef-2023/train_audio_npy//colsun2/XC516824.npy already exists. Skipping...\n",
      "File C:/Users/thato/OneDrive - University of Cape Town/Bird Classification Project/AudioSamples/birdclef-2023/train_audio_npy//colsun2/XC395741.npy already exists. Skipping...\n",
      "File C:/Users/thato/OneDrive - University of Cape Town/Bird Classification Project/AudioSamples/birdclef-2023/train_audio_npy//colsun2/XC622674.npy already exists. Skipping...\n",
      "File C:/Users/thato/OneDrive - University of Cape Town/Bird Classification Project/AudioSamples/birdclef-2023/train_audio_npy//categr/XC143599.npy already exists. Skipping...\n",
      "File C:/Users/thato/OneDrive - University of Cape Town/Bird Classification Project/AudioSamples/birdclef-2023/train_audio_npy//carcha1/XC382176.npy already exists. Skipping...\n",
      "File C:/Users/thato/OneDrive - University of Cape Town/Bird Classification Project/AudioSamples/birdclef-2023/train_audio_npy//colsun2/XC664679.npy already exists. Skipping...\n"
     ]
    },
    {
     "name": "stderr",
     "output_type": "stream",
     "text": [
      "Saving audio files:  96%|█████████▋| 655/679 [00:25<00:00, 36.95file/s]"
     ]
    },
    {
     "name": "stdout",
     "output_type": "stream",
     "text": [
      "File C:/Users/thato/OneDrive - University of Cape Town/Bird Classification Project/AudioSamples/birdclef-2023/train_audio_npy//fotdro5/XC368312.npy already exists. Skipping...\n",
      "File C:/Users/thato/OneDrive - University of Cape Town/Bird Classification Project/AudioSamples/birdclef-2023/train_audio_npy//fotdro5/XC213650.npy already exists. Skipping...\n",
      "File C:/Users/thato/OneDrive - University of Cape Town/Bird Classification Project/AudioSamples/birdclef-2023/train_audio_npy//wbrcha2/XC239792.npy already exists. Skipping...\n",
      "File C:/Users/thato/OneDrive - University of Cape Town/Bird Classification Project/AudioSamples/birdclef-2023/train_audio_npy//categr/XC45472.npy already exists. Skipping...\n"
     ]
    },
    {
     "name": "stderr",
     "output_type": "stream",
     "text": [
      "Saving audio files:  97%|█████████▋| 660/679 [00:26<00:00, 27.74file/s]"
     ]
    },
    {
     "name": "stdout",
     "output_type": "stream",
     "text": [
      "File C:/Users/thato/OneDrive - University of Cape Town/Bird Classification Project/AudioSamples/birdclef-2023/train_audio_npy//grecor/XC431885.npy already exists. Skipping...\n",
      "File C:/Users/thato/OneDrive - University of Cape Town/Bird Classification Project/AudioSamples/birdclef-2023/train_audio_npy//colsun2/XC590142.npy already exists. Skipping...\n",
      "File C:/Users/thato/OneDrive - University of Cape Town/Bird Classification Project/AudioSamples/birdclef-2023/train_audio_npy//carcha1/XC247935.npy already exists. Skipping...\n",
      "File C:/Users/thato/OneDrive - University of Cape Town/Bird Classification Project/AudioSamples/birdclef-2023/train_audio_npy//wbrcha2/XC746618.npy already exists. Skipping...\n",
      "File C:/Users/thato/OneDrive - University of Cape Town/Bird Classification Project/AudioSamples/birdclef-2023/train_audio_npy//grecor/XC733925.npy already exists. Skipping...\n",
      "File C:/Users/thato/OneDrive - University of Cape Town/Bird Classification Project/AudioSamples/birdclef-2023/train_audio_npy//carcha1/XC380248.npy already exists. Skipping...\n"
     ]
    },
    {
     "name": "stderr",
     "output_type": "stream",
     "text": [
      "Saving audio files:  99%|█████████▊| 669/679 [00:26<00:00, 31.79file/s]"
     ]
    },
    {
     "name": "stdout",
     "output_type": "stream",
     "text": [
      "File C:/Users/thato/OneDrive - University of Cape Town/Bird Classification Project/AudioSamples/birdclef-2023/train_audio_npy//carcha1/XC322336.npy already exists. Skipping...\n",
      "File C:/Users/thato/OneDrive - University of Cape Town/Bird Classification Project/AudioSamples/birdclef-2023/train_audio_npy//lawgol/XC461553.npy already exists. Skipping...\n",
      "File C:/Users/thato/OneDrive - University of Cape Town/Bird Classification Project/AudioSamples/birdclef-2023/train_audio_npy//colsun2/XC289288.npy already exists. Skipping...\n",
      "File C:/Users/thato/OneDrive - University of Cape Town/Bird Classification Project/AudioSamples/birdclef-2023/train_audio_npy//wbrcha2/XC155035.npy already exists. Skipping...\n",
      "File C:/Users/thato/OneDrive - University of Cape Town/Bird Classification Project/AudioSamples/birdclef-2023/train_audio_npy//colsun2/XC348980.npy already exists. Skipping...\n"
     ]
    },
    {
     "name": "stderr",
     "output_type": "stream",
     "text": [
      "Saving audio files: 100%|█████████▉| 678/679 [00:26<00:00, 33.32file/s]"
     ]
    },
    {
     "name": "stdout",
     "output_type": "stream",
     "text": [
      "File C:/Users/thato/OneDrive - University of Cape Town/Bird Classification Project/AudioSamples/birdclef-2023/train_audio_npy//categr/XC298147.npy already exists. Skipping...\n",
      "File C:/Users/thato/OneDrive - University of Cape Town/Bird Classification Project/AudioSamples/birdclef-2023/train_audio_npy//colsun2/XC336620.npy already exists. Skipping...\n",
      "File C:/Users/thato/OneDrive - University of Cape Town/Bird Classification Project/AudioSamples/birdclef-2023/train_audio_npy//lawgol/XC483003.npy already exists. Skipping...\n",
      "File C:/Users/thato/OneDrive - University of Cape Town/Bird Classification Project/AudioSamples/birdclef-2023/train_audio_npy//grecor/XC690083.npy already exists. Skipping...\n",
      "File C:/Users/thato/OneDrive - University of Cape Town/Bird Classification Project/AudioSamples/birdclef-2023/train_audio_npy//carcha1/XC324666.npy already exists. Skipping...\n",
      "File C:/Users/thato/OneDrive - University of Cape Town/Bird Classification Project/AudioSamples/birdclef-2023/train_audio_npy//colsun2/XC516812.npy already exists. Skipping...\n",
      "File C:/Users/thato/OneDrive - University of Cape Town/Bird Classification Project/AudioSamples/birdclef-2023/train_audio_npy//carcha1/XC515575.npy already exists. Skipping...\n",
      "File C:/Users/thato/OneDrive - University of Cape Town/Bird Classification Project/AudioSamples/birdclef-2023/train_audio_npy//colsun2/XC516794.npy already exists. Skipping...\n"
     ]
    },
    {
     "name": "stderr",
     "output_type": "stream",
     "text": [
      "Saving audio files: 100%|██████████| 679/679 [00:26<00:00, 25.41file/s]\n"
     ]
    }
   ],
   "source": [
    "train_filepaths = save_audio_np(train['filename'], is_train=True)"
   ]
  },
  {
   "cell_type": "code",
   "execution_count": 14,
   "metadata": {},
   "outputs": [],
   "source": [
    "train['filename_npy'] = train_filepaths # Adding new column with the location of the npy filepaths"
   ]
  },
  {
   "cell_type": "code",
   "execution_count": 15,
   "metadata": {},
   "outputs": [
    {
     "name": "stderr",
     "output_type": "stream",
     "text": [
      "Saving audio files:   2%|▏         | 7/291 [00:00<00:09, 29.90file/s]"
     ]
    },
    {
     "name": "stdout",
     "output_type": "stream",
     "text": [
      "File C:/Users/thato/OneDrive - University of Cape Town/Bird Classification Project/AudioSamples/birdclef-2023/test_audio_npy//grecor/XC113535.npy already exists. Skipping...\n",
      "File C:/Users/thato/OneDrive - University of Cape Town/Bird Classification Project/AudioSamples/birdclef-2023/test_audio_npy//wbrcha2/XC157045.npy already exists. Skipping...\n",
      "File C:/Users/thato/OneDrive - University of Cape Town/Bird Classification Project/AudioSamples/birdclef-2023/test_audio_npy//grecor/XC622277.npy already exists. Skipping...\n",
      "File C:/Users/thato/OneDrive - University of Cape Town/Bird Classification Project/AudioSamples/birdclef-2023/test_audio_npy//grecor/XC622276.npy already exists. Skipping...\n"
     ]
    },
    {
     "name": "stderr",
     "output_type": "stream",
     "text": [
      "Saving audio files:   5%|▍         | 14/291 [00:00<00:06, 45.39file/s]"
     ]
    },
    {
     "name": "stdout",
     "output_type": "stream",
     "text": [
      "File C:/Users/thato/OneDrive - University of Cape Town/Bird Classification Project/AudioSamples/birdclef-2023/test_audio_npy//fotdro5/XC392065.npy already exists. Skipping...\n",
      "File C:/Users/thato/OneDrive - University of Cape Town/Bird Classification Project/AudioSamples/birdclef-2023/test_audio_npy//carcha1/XC39424.npy already exists. Skipping...\n",
      "File C:/Users/thato/OneDrive - University of Cape Town/Bird Classification Project/AudioSamples/birdclef-2023/test_audio_npy//grecor/XC207389.npy already exists. Skipping...\n",
      "File C:/Users/thato/OneDrive - University of Cape Town/Bird Classification Project/AudioSamples/birdclef-2023/test_audio_npy//carcha1/XC326141.npy already exists. Skipping...\n"
     ]
    },
    {
     "name": "stderr",
     "output_type": "stream",
     "text": [
      "Saving audio files:   7%|▋         | 21/291 [00:00<00:06, 42.13file/s]"
     ]
    },
    {
     "name": "stdout",
     "output_type": "stream",
     "text": [
      "File C:/Users/thato/OneDrive - University of Cape Town/Bird Classification Project/AudioSamples/birdclef-2023/test_audio_npy//fotdro5/XC195989.npy already exists. Skipping...\n",
      "File C:/Users/thato/OneDrive - University of Cape Town/Bird Classification Project/AudioSamples/birdclef-2023/test_audio_npy//colsun2/XC216301.npy already exists. Skipping...\n"
     ]
    },
    {
     "name": "stderr",
     "output_type": "stream",
     "text": [
      "Saving audio files:  10%|█         | 30/291 [00:00<00:08, 32.13file/s]"
     ]
    },
    {
     "name": "stdout",
     "output_type": "stream",
     "text": [
      "File C:/Users/thato/OneDrive - University of Cape Town/Bird Classification Project/AudioSamples/birdclef-2023/test_audio_npy//fotdro5/XC213629.npy already exists. Skipping...\n",
      "File C:/Users/thato/OneDrive - University of Cape Town/Bird Classification Project/AudioSamples/birdclef-2023/test_audio_npy//wbrcha2/XC650863.npy already exists. Skipping...\n",
      "File C:/Users/thato/OneDrive - University of Cape Town/Bird Classification Project/AudioSamples/birdclef-2023/test_audio_npy//categr/XC136312.npy already exists. Skipping...\n",
      "File C:/Users/thato/OneDrive - University of Cape Town/Bird Classification Project/AudioSamples/birdclef-2023/test_audio_npy//fotdro5/XC590139.npy already exists. Skipping...\n"
     ]
    },
    {
     "name": "stderr",
     "output_type": "stream",
     "text": [
      "Saving audio files:  13%|█▎        | 38/291 [00:01<00:08, 29.53file/s]"
     ]
    },
    {
     "name": "stdout",
     "output_type": "stream",
     "text": [
      "File C:/Users/thato/OneDrive - University of Cape Town/Bird Classification Project/AudioSamples/birdclef-2023/test_audio_npy//carcha1/XC737205.npy already exists. Skipping...\n",
      "File C:/Users/thato/OneDrive - University of Cape Town/Bird Classification Project/AudioSamples/birdclef-2023/test_audio_npy//fotdro5/XC514163.npy already exists. Skipping...\n",
      "File C:/Users/thato/OneDrive - University of Cape Town/Bird Classification Project/AudioSamples/birdclef-2023/test_audio_npy//wbrcha2/XC127129.npy already exists. Skipping...\n",
      "File C:/Users/thato/OneDrive - University of Cape Town/Bird Classification Project/AudioSamples/birdclef-2023/test_audio_npy//carcha1/XC356638.npy already exists. Skipping...\n",
      "File C:/Users/thato/OneDrive - University of Cape Town/Bird Classification Project/AudioSamples/birdclef-2023/test_audio_npy//categr/XC411144.npy already exists. Skipping...\n"
     ]
    },
    {
     "name": "stderr",
     "output_type": "stream",
     "text": [
      "Saving audio files:  16%|█▌        | 47/291 [00:01<00:07, 33.17file/s]"
     ]
    },
    {
     "name": "stdout",
     "output_type": "stream",
     "text": [
      "File C:/Users/thato/OneDrive - University of Cape Town/Bird Classification Project/AudioSamples/birdclef-2023/test_audio_npy//carcha1/XC576302.npy already exists. Skipping...\n",
      "File C:/Users/thato/OneDrive - University of Cape Town/Bird Classification Project/AudioSamples/birdclef-2023/test_audio_npy//lawgol/XC328990.npy already exists. Skipping...\n",
      "File C:/Users/thato/OneDrive - University of Cape Town/Bird Classification Project/AudioSamples/birdclef-2023/test_audio_npy//fotdro5/XC195744.npy already exists. Skipping...\n",
      "File C:/Users/thato/OneDrive - University of Cape Town/Bird Classification Project/AudioSamples/birdclef-2023/test_audio_npy//colsun2/XC517019.npy already exists. Skipping...\n",
      "File C:/Users/thato/OneDrive - University of Cape Town/Bird Classification Project/AudioSamples/birdclef-2023/test_audio_npy//categr/XC624047.npy already exists. Skipping...\n",
      "File C:/Users/thato/OneDrive - University of Cape Town/Bird Classification Project/AudioSamples/birdclef-2023/test_audio_npy//carcha1/XC689414.npy already exists. Skipping...\n",
      "File C:/Users/thato/OneDrive - University of Cape Town/Bird Classification Project/AudioSamples/birdclef-2023/test_audio_npy//colsun2/XC378029.npy already exists. Skipping...\n",
      "File C:/Users/thato/OneDrive - University of Cape Town/Bird Classification Project/AudioSamples/birdclef-2023/test_audio_npy//categr/XC288324.npy already exists. Skipping...\n",
      "File C:/Users/thato/OneDrive - University of Cape Town/Bird Classification Project/AudioSamples/birdclef-2023/test_audio_npy//colsun2/XC346492.npy already exists. Skipping...\n",
      "File C:/Users/thato/OneDrive - University of Cape Town/Bird Classification Project/AudioSamples/birdclef-2023/test_audio_npy//wbrcha2/XC524504.npy already exists. Skipping...\n"
     ]
    },
    {
     "name": "stderr",
     "output_type": "stream",
     "text": [
      "Saving audio files:  20%|██        | 59/291 [00:01<00:06, 37.24file/s]"
     ]
    },
    {
     "name": "stdout",
     "output_type": "stream",
     "text": [
      "File C:/Users/thato/OneDrive - University of Cape Town/Bird Classification Project/AudioSamples/birdclef-2023/test_audio_npy//wbrcha2/XC203202.npy already exists. Skipping...\n",
      "File C:/Users/thato/OneDrive - University of Cape Town/Bird Classification Project/AudioSamples/birdclef-2023/test_audio_npy//grecor/XC518939.npy already exists. Skipping...\n",
      "File C:/Users/thato/OneDrive - University of Cape Town/Bird Classification Project/AudioSamples/birdclef-2023/test_audio_npy//wbrcha2/XC298419.npy already exists. Skipping...\n",
      "File C:/Users/thato/OneDrive - University of Cape Town/Bird Classification Project/AudioSamples/birdclef-2023/test_audio_npy//colsun2/XC163958.npy already exists. Skipping...\n",
      "File C:/Users/thato/OneDrive - University of Cape Town/Bird Classification Project/AudioSamples/birdclef-2023/test_audio_npy//categr/XC514784.npy already exists. Skipping...\n",
      "File C:/Users/thato/OneDrive - University of Cape Town/Bird Classification Project/AudioSamples/birdclef-2023/test_audio_npy//grecor/XC301224.npy already exists. Skipping...\n",
      "File C:/Users/thato/OneDrive - University of Cape Town/Bird Classification Project/AudioSamples/birdclef-2023/test_audio_npy//colsun2/XC433381.npy already exists. Skipping...\n",
      "File C:/Users/thato/OneDrive - University of Cape Town/Bird Classification Project/AudioSamples/birdclef-2023/test_audio_npy//carcha1/XC671576.npy already exists. Skipping...\n"
     ]
    },
    {
     "name": "stderr",
     "output_type": "stream",
     "text": [
      "Saving audio files:  22%|██▏       | 63/291 [00:01<00:06, 37.44file/s]"
     ]
    },
    {
     "name": "stdout",
     "output_type": "stream",
     "text": [
      "File C:/Users/thato/OneDrive - University of Cape Town/Bird Classification Project/AudioSamples/birdclef-2023/test_audio_npy//fotdro5/XC664386.npy already exists. Skipping...\n",
      "File C:/Users/thato/OneDrive - University of Cape Town/Bird Classification Project/AudioSamples/birdclef-2023/test_audio_npy//colsun2/XC253652.npy already exists. Skipping...\n",
      "File C:/Users/thato/OneDrive - University of Cape Town/Bird Classification Project/AudioSamples/birdclef-2023/test_audio_npy//grecor/XC339793.npy already exists. Skipping...\n"
     ]
    },
    {
     "name": "stderr",
     "output_type": "stream",
     "text": [
      "Saving audio files:  24%|██▍       | 70/291 [00:02<00:10, 20.14file/s]"
     ]
    },
    {
     "name": "stdout",
     "output_type": "stream",
     "text": [
      "File C:/Users/thato/OneDrive - University of Cape Town/Bird Classification Project/AudioSamples/birdclef-2023/test_audio_npy//lawgol/XC661828.npy already exists. Skipping...\n",
      "File C:/Users/thato/OneDrive - University of Cape Town/Bird Classification Project/AudioSamples/birdclef-2023/test_audio_npy//lawgol/XC161314.npy already exists. Skipping...\n",
      "File C:/Users/thato/OneDrive - University of Cape Town/Bird Classification Project/AudioSamples/birdclef-2023/test_audio_npy//wbrcha2/XC131303.npy already exists. Skipping...\n",
      "File C:/Users/thato/OneDrive - University of Cape Town/Bird Classification Project/AudioSamples/birdclef-2023/test_audio_npy//colsun2/XC650873.npy already exists. Skipping...\n"
     ]
    },
    {
     "name": "stderr",
     "output_type": "stream",
     "text": [
      "Saving audio files:  28%|██▊       | 81/291 [00:02<00:06, 32.22file/s]"
     ]
    },
    {
     "name": "stdout",
     "output_type": "stream",
     "text": [
      "File C:/Users/thato/OneDrive - University of Cape Town/Bird Classification Project/AudioSamples/birdclef-2023/test_audio_npy//colsun2/XC516527.npy already exists. Skipping...\n",
      "File C:/Users/thato/OneDrive - University of Cape Town/Bird Classification Project/AudioSamples/birdclef-2023/test_audio_npy//fotdro5/XC126219.npy already exists. Skipping...\n",
      "File C:/Users/thato/OneDrive - University of Cape Town/Bird Classification Project/AudioSamples/birdclef-2023/test_audio_npy//grecor/XC298383.npy already exists. Skipping...\n",
      "File C:/Users/thato/OneDrive - University of Cape Town/Bird Classification Project/AudioSamples/birdclef-2023/test_audio_npy//categr/XC610382.npy already exists. Skipping...\n"
     ]
    },
    {
     "name": "stderr",
     "output_type": "stream",
     "text": [
      "Saving audio files:  31%|███       | 90/291 [00:02<00:06, 33.38file/s]"
     ]
    },
    {
     "name": "stdout",
     "output_type": "stream",
     "text": [
      "File C:/Users/thato/OneDrive - University of Cape Town/Bird Classification Project/AudioSamples/birdclef-2023/test_audio_npy//colsun2/XC486568.npy already exists. Skipping...\n",
      "File C:/Users/thato/OneDrive - University of Cape Town/Bird Classification Project/AudioSamples/birdclef-2023/test_audio_npy//fotdro5/XC306503.npy already exists. Skipping...\n",
      "File C:/Users/thato/OneDrive - University of Cape Town/Bird Classification Project/AudioSamples/birdclef-2023/test_audio_npy//wbrcha2/XC365336.npy already exists. Skipping...\n",
      "File C:/Users/thato/OneDrive - University of Cape Town/Bird Classification Project/AudioSamples/birdclef-2023/test_audio_npy//lawgol/XC161316.npy already exists. Skipping...\n"
     ]
    },
    {
     "name": "stderr",
     "output_type": "stream",
     "text": [
      "Saving audio files:  35%|███▍      | 101/291 [00:03<00:04, 40.41file/s]"
     ]
    },
    {
     "name": "stdout",
     "output_type": "stream",
     "text": [
      "File C:/Users/thato/OneDrive - University of Cape Town/Bird Classification Project/AudioSamples/birdclef-2023/test_audio_npy//categr/XC315439.npy already exists. Skipping...\n",
      "File C:/Users/thato/OneDrive - University of Cape Town/Bird Classification Project/AudioSamples/birdclef-2023/test_audio_npy//carcha1/XC646882.npy already exists. Skipping...\n",
      "File C:/Users/thato/OneDrive - University of Cape Town/Bird Classification Project/AudioSamples/birdclef-2023/test_audio_npy//categr/XC361547.npy already exists. Skipping...\n",
      "File C:/Users/thato/OneDrive - University of Cape Town/Bird Classification Project/AudioSamples/birdclef-2023/test_audio_npy//categr/XC197438.npy already exists. Skipping...\n",
      "File C:/Users/thato/OneDrive - University of Cape Town/Bird Classification Project/AudioSamples/birdclef-2023/test_audio_npy//fotdro5/XC619811.npy already exists. Skipping...\n",
      "File C:/Users/thato/OneDrive - University of Cape Town/Bird Classification Project/AudioSamples/birdclef-2023/test_audio_npy//carcha1/XC678603.npy already exists. Skipping...\n"
     ]
    },
    {
     "name": "stderr",
     "output_type": "stream",
     "text": [
      "Saving audio files:  36%|███▋      | 106/291 [00:03<00:06, 29.53file/s]"
     ]
    },
    {
     "name": "stdout",
     "output_type": "stream",
     "text": [
      "File C:/Users/thato/OneDrive - University of Cape Town/Bird Classification Project/AudioSamples/birdclef-2023/test_audio_npy//colsun2/XC516995.npy already exists. Skipping...\n",
      "File C:/Users/thato/OneDrive - University of Cape Town/Bird Classification Project/AudioSamples/birdclef-2023/test_audio_npy//categr/XC192968.npy already exists. Skipping...\n",
      "File C:/Users/thato/OneDrive - University of Cape Town/Bird Classification Project/AudioSamples/birdclef-2023/test_audio_npy//wbrcha2/XC444356.npy already exists. Skipping...\n",
      "File C:/Users/thato/OneDrive - University of Cape Town/Bird Classification Project/AudioSamples/birdclef-2023/test_audio_npy//colsun2/XC200609.npy already exists. Skipping...\n",
      "File C:/Users/thato/OneDrive - University of Cape Town/Bird Classification Project/AudioSamples/birdclef-2023/test_audio_npy//colsun2/XC634149.npy already exists. Skipping...\n",
      "File C:/Users/thato/OneDrive - University of Cape Town/Bird Classification Project/AudioSamples/birdclef-2023/test_audio_npy//fotdro5/XC468652.npy already exists. Skipping...\n"
     ]
    },
    {
     "name": "stderr",
     "output_type": "stream",
     "text": [
      "Saving audio files:  40%|████      | 117/291 [00:03<00:05, 33.97file/s]"
     ]
    },
    {
     "name": "stdout",
     "output_type": "stream",
     "text": [
      "File C:/Users/thato/OneDrive - University of Cape Town/Bird Classification Project/AudioSamples/birdclef-2023/test_audio_npy//colsun2/XC517314.npy already exists. Skipping...\n",
      "File C:/Users/thato/OneDrive - University of Cape Town/Bird Classification Project/AudioSamples/birdclef-2023/test_audio_npy//fotdro5/XC532291.npy already exists. Skipping...\n",
      "File C:/Users/thato/OneDrive - University of Cape Town/Bird Classification Project/AudioSamples/birdclef-2023/test_audio_npy//lawgol/XC320590.npy already exists. Skipping...\n",
      "File C:/Users/thato/OneDrive - University of Cape Town/Bird Classification Project/AudioSamples/birdclef-2023/test_audio_npy//fotdro5/XC756276.npy already exists. Skipping...\n",
      "File C:/Users/thato/OneDrive - University of Cape Town/Bird Classification Project/AudioSamples/birdclef-2023/test_audio_npy//grecor/XC391287.npy already exists. Skipping...\n",
      "File C:/Users/thato/OneDrive - University of Cape Town/Bird Classification Project/AudioSamples/birdclef-2023/test_audio_npy//categr/XC478435.npy already exists. Skipping...\n",
      "File C:/Users/thato/OneDrive - University of Cape Town/Bird Classification Project/AudioSamples/birdclef-2023/test_audio_npy//lawgol/XC537417.npy already exists. Skipping...\n"
     ]
    },
    {
     "name": "stderr",
     "output_type": "stream",
     "text": [
      "Saving audio files:  43%|████▎     | 125/291 [00:03<00:05, 31.31file/s]"
     ]
    },
    {
     "name": "stdout",
     "output_type": "stream",
     "text": [
      "File C:/Users/thato/OneDrive - University of Cape Town/Bird Classification Project/AudioSamples/birdclef-2023/test_audio_npy//categr/XC713124.npy already exists. Skipping...\n",
      "File C:/Users/thato/OneDrive - University of Cape Town/Bird Classification Project/AudioSamples/birdclef-2023/test_audio_npy//categr/XC369827.npy already exists. Skipping...\n",
      "File C:/Users/thato/OneDrive - University of Cape Town/Bird Classification Project/AudioSamples/birdclef-2023/test_audio_npy//fotdro5/XC755865.npy already exists. Skipping...\n",
      "File C:/Users/thato/OneDrive - University of Cape Town/Bird Classification Project/AudioSamples/birdclef-2023/test_audio_npy//lawgol/XC611943.npy already exists. Skipping...\n"
     ]
    },
    {
     "name": "stderr",
     "output_type": "stream",
     "text": [
      "Saving audio files:  44%|████▍     | 129/291 [00:04<00:06, 26.50file/s]"
     ]
    },
    {
     "name": "stdout",
     "output_type": "stream",
     "text": [
      "File C:/Users/thato/OneDrive - University of Cape Town/Bird Classification Project/AudioSamples/birdclef-2023/test_audio_npy//fotdro5/XC756279.npy already exists. Skipping...\n",
      "File C:/Users/thato/OneDrive - University of Cape Town/Bird Classification Project/AudioSamples/birdclef-2023/test_audio_npy//carcha1/XC515572.npy already exists. Skipping...\n"
     ]
    },
    {
     "name": "stderr",
     "output_type": "stream",
     "text": [
      "Saving audio files:  45%|████▌     | 132/291 [00:04<00:07, 22.17file/s]"
     ]
    },
    {
     "name": "stdout",
     "output_type": "stream",
     "text": [
      "File C:/Users/thato/OneDrive - University of Cape Town/Bird Classification Project/AudioSamples/birdclef-2023/test_audio_npy//colsun2/XC252565.npy already exists. Skipping...\n"
     ]
    },
    {
     "name": "stderr",
     "output_type": "stream",
     "text": [
      "Saving audio files:  48%|████▊     | 140/291 [00:04<00:06, 21.88file/s]"
     ]
    },
    {
     "name": "stdout",
     "output_type": "stream",
     "text": [
      "File C:/Users/thato/OneDrive - University of Cape Town/Bird Classification Project/AudioSamples/birdclef-2023/test_audio_npy//fotdro5/XC432618.npy already exists. Skipping...\n",
      "File C:/Users/thato/OneDrive - University of Cape Town/Bird Classification Project/AudioSamples/birdclef-2023/test_audio_npy//carcha1/XC326409.npy already exists. Skipping...\n",
      "File C:/Users/thato/OneDrive - University of Cape Town/Bird Classification Project/AudioSamples/birdclef-2023/test_audio_npy//carcha1/XC386387.npy already exists. Skipping...\n",
      "File C:/Users/thato/OneDrive - University of Cape Town/Bird Classification Project/AudioSamples/birdclef-2023/test_audio_npy//carcha1/XC539032.npy already exists. Skipping...\n"
     ]
    },
    {
     "name": "stderr",
     "output_type": "stream",
     "text": [
      "Saving audio files:  51%|█████     | 147/291 [00:05<00:06, 23.64file/s]"
     ]
    },
    {
     "name": "stdout",
     "output_type": "stream",
     "text": [
      "File C:/Users/thato/OneDrive - University of Cape Town/Bird Classification Project/AudioSamples/birdclef-2023/test_audio_npy//categr/XC257319.npy already exists. Skipping...\n",
      "File C:/Users/thato/OneDrive - University of Cape Town/Bird Classification Project/AudioSamples/birdclef-2023/test_audio_npy//colsun2/XC293906.npy already exists. Skipping...\n",
      "File C:/Users/thato/OneDrive - University of Cape Town/Bird Classification Project/AudioSamples/birdclef-2023/test_audio_npy//colsun2/XC516805.npy already exists. Skipping...\n"
     ]
    },
    {
     "name": "stderr",
     "output_type": "stream",
     "text": [
      "Saving audio files:  53%|█████▎    | 153/291 [00:05<00:05, 24.39file/s]"
     ]
    },
    {
     "name": "stdout",
     "output_type": "stream",
     "text": [
      "File C:/Users/thato/OneDrive - University of Cape Town/Bird Classification Project/AudioSamples/birdclef-2023/test_audio_npy//wbrcha2/XC405655.npy already exists. Skipping...\n",
      "File C:/Users/thato/OneDrive - University of Cape Town/Bird Classification Project/AudioSamples/birdclef-2023/test_audio_npy//wbrcha2/XC518690.npy already exists. Skipping...\n",
      "File C:/Users/thato/OneDrive - University of Cape Town/Bird Classification Project/AudioSamples/birdclef-2023/test_audio_npy//grecor/XC202888.npy already exists. Skipping...\n",
      "File C:/Users/thato/OneDrive - University of Cape Town/Bird Classification Project/AudioSamples/birdclef-2023/test_audio_npy//carcha1/XC515622.npy already exists. Skipping...\n",
      "File C:/Users/thato/OneDrive - University of Cape Town/Bird Classification Project/AudioSamples/birdclef-2023/test_audio_npy//grecor/XC340914.npy already exists. Skipping...\n"
     ]
    },
    {
     "name": "stderr",
     "output_type": "stream",
     "text": [
      "Saving audio files:  56%|█████▋    | 164/291 [00:05<00:04, 30.06file/s]"
     ]
    },
    {
     "name": "stdout",
     "output_type": "stream",
     "text": [
      "File C:/Users/thato/OneDrive - University of Cape Town/Bird Classification Project/AudioSamples/birdclef-2023/test_audio_npy//fotdro5/XC234439.npy already exists. Skipping...\n",
      "File C:/Users/thato/OneDrive - University of Cape Town/Bird Classification Project/AudioSamples/birdclef-2023/test_audio_npy//carcha1/XC421990.npy already exists. Skipping...\n",
      "File C:/Users/thato/OneDrive - University of Cape Town/Bird Classification Project/AudioSamples/birdclef-2023/test_audio_npy//fotdro5/XC468709.npy already exists. Skipping...\n"
     ]
    },
    {
     "name": "stderr",
     "output_type": "stream",
     "text": [
      "Saving audio files:  58%|█████▊    | 168/291 [00:05<00:04, 26.66file/s]"
     ]
    },
    {
     "name": "stdout",
     "output_type": "stream",
     "text": [
      "File C:/Users/thato/OneDrive - University of Cape Town/Bird Classification Project/AudioSamples/birdclef-2023/test_audio_npy//lawgol/XC661813.npy already exists. Skipping...\n",
      "File C:/Users/thato/OneDrive - University of Cape Town/Bird Classification Project/AudioSamples/birdclef-2023/test_audio_npy//fotdro5/XC605866.npy already exists. Skipping...\n",
      "File C:/Users/thato/OneDrive - University of Cape Town/Bird Classification Project/AudioSamples/birdclef-2023/test_audio_npy//wbrcha2/XC253601.npy already exists. Skipping...\n",
      "File C:/Users/thato/OneDrive - University of Cape Town/Bird Classification Project/AudioSamples/birdclef-2023/test_audio_npy//lawgol/XC461555.npy already exists. Skipping...\n"
     ]
    },
    {
     "name": "stderr",
     "output_type": "stream",
     "text": [
      "Saving audio files:  59%|█████▉    | 171/291 [00:05<00:04, 24.38file/s]"
     ]
    },
    {
     "name": "stdout",
     "output_type": "stream",
     "text": [
      "File C:/Users/thato/OneDrive - University of Cape Town/Bird Classification Project/AudioSamples/birdclef-2023/test_audio_npy//fotdro5/XC551328.npy already exists. Skipping...\n",
      "File C:/Users/thato/OneDrive - University of Cape Town/Bird Classification Project/AudioSamples/birdclef-2023/test_audio_npy//colsun2/XC205396.npy already exists. Skipping...\n"
     ]
    },
    {
     "name": "stderr",
     "output_type": "stream",
     "text": [
      "Saving audio files:  64%|██████▍   | 187/291 [00:06<00:04, 21.85file/s]"
     ]
    },
    {
     "name": "stdout",
     "output_type": "stream",
     "text": [
      "File C:/Users/thato/OneDrive - University of Cape Town/Bird Classification Project/AudioSamples/birdclef-2023/test_audio_npy//colsun2/XC377169.npy already exists. Skipping...\n",
      "File C:/Users/thato/OneDrive - University of Cape Town/Bird Classification Project/AudioSamples/birdclef-2023/test_audio_npy//grecor/XC512129.npy already exists. Skipping...\n",
      "File C:/Users/thato/OneDrive - University of Cape Town/Bird Classification Project/AudioSamples/birdclef-2023/test_audio_npy//fotdro5/XC660781.npy already exists. Skipping...\n",
      "File C:/Users/thato/OneDrive - University of Cape Town/Bird Classification Project/AudioSamples/birdclef-2023/test_audio_npy//wbrcha2/XC380114.npy already exists. Skipping...\n",
      "File C:/Users/thato/OneDrive - University of Cape Town/Bird Classification Project/AudioSamples/birdclef-2023/test_audio_npy//wbrcha2/XC207005.npy already exists. Skipping...\n",
      "File C:/Users/thato/OneDrive - University of Cape Town/Bird Classification Project/AudioSamples/birdclef-2023/test_audio_npy//colsun2/XC755893.npy already exists. Skipping...\n",
      "File C:/Users/thato/OneDrive - University of Cape Town/Bird Classification Project/AudioSamples/birdclef-2023/test_audio_npy//categr/XC350629.npy already exists. Skipping...\n"
     ]
    },
    {
     "name": "stderr",
     "output_type": "stream",
     "text": [
      "Saving audio files:  66%|██████▌   | 192/291 [00:07<00:03, 24.98file/s]"
     ]
    },
    {
     "name": "stdout",
     "output_type": "stream",
     "text": [
      "File C:/Users/thato/OneDrive - University of Cape Town/Bird Classification Project/AudioSamples/birdclef-2023/test_audio_npy//lawgol/XC547317.npy already exists. Skipping...\n",
      "File C:/Users/thato/OneDrive - University of Cape Town/Bird Classification Project/AudioSamples/birdclef-2023/test_audio_npy//carcha1/XC461753.npy already exists. Skipping...\n",
      "File C:/Users/thato/OneDrive - University of Cape Town/Bird Classification Project/AudioSamples/birdclef-2023/test_audio_npy//wbrcha2/XC668577.npy already exists. Skipping...\n",
      "File C:/Users/thato/OneDrive - University of Cape Town/Bird Classification Project/AudioSamples/birdclef-2023/test_audio_npy//categr/XC192969.npy already exists. Skipping...\n"
     ]
    },
    {
     "name": "stderr",
     "output_type": "stream",
     "text": [
      "Saving audio files:  68%|██████▊   | 199/291 [00:07<00:03, 25.65file/s]"
     ]
    },
    {
     "name": "stdout",
     "output_type": "stream",
     "text": [
      "File C:/Users/thato/OneDrive - University of Cape Town/Bird Classification Project/AudioSamples/birdclef-2023/test_audio_npy//categr/XC148199.npy already exists. Skipping...\n",
      "File C:/Users/thato/OneDrive - University of Cape Town/Bird Classification Project/AudioSamples/birdclef-2023/test_audio_npy//lawgol/XC161311.npy already exists. Skipping...\n",
      "File C:/Users/thato/OneDrive - University of Cape Town/Bird Classification Project/AudioSamples/birdclef-2023/test_audio_npy//colsun2/XC267758.npy already exists. Skipping...\n"
     ]
    },
    {
     "name": "stderr",
     "output_type": "stream",
     "text": [
      "Saving audio files:  71%|███████▏  | 208/291 [00:07<00:03, 24.11file/s]"
     ]
    },
    {
     "name": "stdout",
     "output_type": "stream",
     "text": [
      "File C:/Users/thato/OneDrive - University of Cape Town/Bird Classification Project/AudioSamples/birdclef-2023/test_audio_npy//colsun2/XC517172.npy already exists. Skipping...\n",
      "File C:/Users/thato/OneDrive - University of Cape Town/Bird Classification Project/AudioSamples/birdclef-2023/test_audio_npy//carcha1/XC515317.npy already exists. Skipping...\n",
      "File C:/Users/thato/OneDrive - University of Cape Town/Bird Classification Project/AudioSamples/birdclef-2023/test_audio_npy//colsun2/XC517238.npy already exists. Skipping...\n",
      "File C:/Users/thato/OneDrive - University of Cape Town/Bird Classification Project/AudioSamples/birdclef-2023/test_audio_npy//wbrcha2/XC349216.npy already exists. Skipping...\n",
      "File C:/Users/thato/OneDrive - University of Cape Town/Bird Classification Project/AudioSamples/birdclef-2023/test_audio_npy//colsun2/XC635387.npy already exists. Skipping...\n"
     ]
    },
    {
     "name": "stderr",
     "output_type": "stream",
     "text": [
      "Saving audio files:  75%|███████▌  | 219/291 [00:07<00:02, 32.64file/s]"
     ]
    },
    {
     "name": "stdout",
     "output_type": "stream",
     "text": [
      "File C:/Users/thato/OneDrive - University of Cape Town/Bird Classification Project/AudioSamples/birdclef-2023/test_audio_npy//categr/XC194457.npy already exists. Skipping...\n",
      "File C:/Users/thato/OneDrive - University of Cape Town/Bird Classification Project/AudioSamples/birdclef-2023/test_audio_npy//categr/XC453176.npy already exists. Skipping...\n",
      "File C:/Users/thato/OneDrive - University of Cape Town/Bird Classification Project/AudioSamples/birdclef-2023/test_audio_npy//carcha1/XC194471.npy already exists. Skipping...\n",
      "File C:/Users/thato/OneDrive - University of Cape Town/Bird Classification Project/AudioSamples/birdclef-2023/test_audio_npy//grecor/XC447821.npy already exists. Skipping...\n",
      "File C:/Users/thato/OneDrive - University of Cape Town/Bird Classification Project/AudioSamples/birdclef-2023/test_audio_npy//carcha1/XC354084.npy already exists. Skipping...\n",
      "File C:/Users/thato/OneDrive - University of Cape Town/Bird Classification Project/AudioSamples/birdclef-2023/test_audio_npy//grecor/XC201815.npy already exists. Skipping...\n"
     ]
    },
    {
     "name": "stderr",
     "output_type": "stream",
     "text": [
      "Saving audio files:  78%|███████▊  | 227/291 [00:08<00:01, 32.58file/s]"
     ]
    },
    {
     "name": "stdout",
     "output_type": "stream",
     "text": [
      "File C:/Users/thato/OneDrive - University of Cape Town/Bird Classification Project/AudioSamples/birdclef-2023/test_audio_npy//grecor/XC267196.npy already exists. Skipping...\n",
      "File C:/Users/thato/OneDrive - University of Cape Town/Bird Classification Project/AudioSamples/birdclef-2023/test_audio_npy//colsun2/XC267756.npy already exists. Skipping...\n"
     ]
    },
    {
     "name": "stderr",
     "output_type": "stream",
     "text": [
      "Saving audio files:  82%|████████▏ | 240/291 [00:08<00:01, 33.03file/s]"
     ]
    },
    {
     "name": "stdout",
     "output_type": "stream",
     "text": [
      "File C:/Users/thato/OneDrive - University of Cape Town/Bird Classification Project/AudioSamples/birdclef-2023/test_audio_npy//grecor/XC750728.npy already exists. Skipping...\n",
      "File C:/Users/thato/OneDrive - University of Cape Town/Bird Classification Project/AudioSamples/birdclef-2023/test_audio_npy//lawgol/XC161309.npy already exists. Skipping...\n",
      "File C:/Users/thato/OneDrive - University of Cape Town/Bird Classification Project/AudioSamples/birdclef-2023/test_audio_npy//categr/XC162141.npy already exists. Skipping...\n",
      "File C:/Users/thato/OneDrive - University of Cape Town/Bird Classification Project/AudioSamples/birdclef-2023/test_audio_npy//grecor/XC431888.npy already exists. Skipping...\n",
      "File C:/Users/thato/OneDrive - University of Cape Town/Bird Classification Project/AudioSamples/birdclef-2023/test_audio_npy//wbrcha2/XC608249.npy already exists. Skipping...\n"
     ]
    },
    {
     "name": "stderr",
     "output_type": "stream",
     "text": [
      "Saving audio files:  84%|████████▍ | 244/291 [00:08<00:01, 28.28file/s]"
     ]
    },
    {
     "name": "stdout",
     "output_type": "stream",
     "text": [
      "File C:/Users/thato/OneDrive - University of Cape Town/Bird Classification Project/AudioSamples/birdclef-2023/test_audio_npy//categr/XC304251.npy already exists. Skipping...\n",
      "File C:/Users/thato/OneDrive - University of Cape Town/Bird Classification Project/AudioSamples/birdclef-2023/test_audio_npy//categr/XC748802.npy already exists. Skipping...\n"
     ]
    },
    {
     "name": "stderr",
     "output_type": "stream",
     "text": [
      "Saving audio files:  87%|████████▋ | 252/291 [00:09<00:01, 29.09file/s]"
     ]
    },
    {
     "name": "stdout",
     "output_type": "stream",
     "text": [
      "File C:/Users/thato/OneDrive - University of Cape Town/Bird Classification Project/AudioSamples/birdclef-2023/test_audio_npy//grecor/XC202890.npy already exists. Skipping...\n",
      "File C:/Users/thato/OneDrive - University of Cape Town/Bird Classification Project/AudioSamples/birdclef-2023/test_audio_npy//carcha1/XC667273.npy already exists. Skipping...\n",
      "File C:/Users/thato/OneDrive - University of Cape Town/Bird Classification Project/AudioSamples/birdclef-2023/test_audio_npy//wbrcha2/XC157100.npy already exists. Skipping...\n"
     ]
    },
    {
     "name": "stderr",
     "output_type": "stream",
     "text": [
      "Saving audio files:  92%|█████████▏| 267/291 [00:09<00:00, 37.83file/s]"
     ]
    },
    {
     "name": "stdout",
     "output_type": "stream",
     "text": [
      "File C:/Users/thato/OneDrive - University of Cape Town/Bird Classification Project/AudioSamples/birdclef-2023/test_audio_npy//grecor/XC505210.npy already exists. Skipping...\n",
      "File C:/Users/thato/OneDrive - University of Cape Town/Bird Classification Project/AudioSamples/birdclef-2023/test_audio_npy//colsun2/XC649919.npy already exists. Skipping...\n",
      "File C:/Users/thato/OneDrive - University of Cape Town/Bird Classification Project/AudioSamples/birdclef-2023/test_audio_npy//categr/XC527812.npy already exists. Skipping...\n"
     ]
    },
    {
     "name": "stderr",
     "output_type": "stream",
     "text": [
      "Saving audio files:  93%|█████████▎| 272/291 [00:09<00:00, 33.31file/s]"
     ]
    },
    {
     "name": "stdout",
     "output_type": "stream",
     "text": [
      "File C:/Users/thato/OneDrive - University of Cape Town/Bird Classification Project/AudioSamples/birdclef-2023/test_audio_npy//grecor/XC309573.npy already exists. Skipping...\n",
      "File C:/Users/thato/OneDrive - University of Cape Town/Bird Classification Project/AudioSamples/birdclef-2023/test_audio_npy//colsun2/XC504680.npy already exists. Skipping...\n"
     ]
    },
    {
     "name": "stderr",
     "output_type": "stream",
     "text": [
      "Saving audio files:  95%|█████████▍| 276/291 [00:10<00:00, 19.82file/s]"
     ]
    },
    {
     "name": "stdout",
     "output_type": "stream",
     "text": [
      "File C:/Users/thato/OneDrive - University of Cape Town/Bird Classification Project/AudioSamples/birdclef-2023/test_audio_npy//categr/XC57419.npy already exists. Skipping...\n",
      "File C:/Users/thato/OneDrive - University of Cape Town/Bird Classification Project/AudioSamples/birdclef-2023/test_audio_npy//categr/XC274826.npy already exists. Skipping...\n",
      "File C:/Users/thato/OneDrive - University of Cape Town/Bird Classification Project/AudioSamples/birdclef-2023/test_audio_npy//colsun2/XC476823.npy already exists. Skipping...\n"
     ]
    },
    {
     "name": "stderr",
     "output_type": "stream",
     "text": [
      "Saving audio files:  96%|█████████▌| 280/291 [00:10<00:00, 21.61file/s]"
     ]
    },
    {
     "name": "stdout",
     "output_type": "stream",
     "text": [
      "File C:/Users/thato/OneDrive - University of Cape Town/Bird Classification Project/AudioSamples/birdclef-2023/test_audio_npy//fotdro5/XC452556.npy already exists. Skipping...\n",
      "File C:/Users/thato/OneDrive - University of Cape Town/Bird Classification Project/AudioSamples/birdclef-2023/test_audio_npy//carcha1/XC720297.npy already exists. Skipping...\n"
     ]
    },
    {
     "name": "stderr",
     "output_type": "stream",
     "text": [
      "Saving audio files:  99%|█████████▉| 289/291 [00:10<00:00, 22.51file/s]"
     ]
    },
    {
     "name": "stdout",
     "output_type": "stream",
     "text": [
      "File C:/Users/thato/OneDrive - University of Cape Town/Bird Classification Project/AudioSamples/birdclef-2023/test_audio_npy//grecor/XC339794.npy already exists. Skipping...\n",
      "File C:/Users/thato/OneDrive - University of Cape Town/Bird Classification Project/AudioSamples/birdclef-2023/test_audio_npy//lawgol/XC453897.npy already exists. Skipping...\n",
      "File C:/Users/thato/OneDrive - University of Cape Town/Bird Classification Project/AudioSamples/birdclef-2023/test_audio_npy//lawgol/XC661806.npy already exists. Skipping...\n"
     ]
    },
    {
     "name": "stderr",
     "output_type": "stream",
     "text": [
      "Saving audio files: 100%|██████████| 291/291 [00:10<00:00, 27.22file/s]\n"
     ]
    }
   ],
   "source": [
    "test_filepaths = save_audio_np(test['filename'], is_train=False)"
   ]
  },
  {
   "cell_type": "code",
   "execution_count": 16,
   "metadata": {},
   "outputs": [],
   "source": [
    "test['filename_npy'] = test_filepaths # Adding new column with the location of the npy filepaths"
   ]
  },
  {
   "cell_type": "markdown",
   "metadata": {},
   "source": [
    "# What now?\n",
    "\n",
    "I have the numpy arrays for each thing, i just wanna convert to mel spectrograms and feed into cnn\n",
    "\n",
    "I have to split the train into train and val"
   ]
  },
  {
   "cell_type": "code",
   "execution_count": null,
   "metadata": {},
   "outputs": [],
   "source": [
    "# log scale melspectogram\n",
    "# power_spectrogram = librosa.feature.melspectrogram(y=audio, sr=sr)\n",
    "# S_dB = librosa.power_to_db(power_spectrogram, ref=np.max)"
   ]
  },
  {
   "cell_type": "markdown",
   "metadata": {},
   "source": [
    "# Splitting 'train' into 'tr' and val'\n",
    "\n",
    "70-30 split"
   ]
  },
  {
   "cell_type": "code",
   "execution_count": 17,
   "metadata": {},
   "outputs": [
    {
     "data": {
      "text/html": [
       "<div>\n",
       "<style scoped>\n",
       "    .dataframe tbody tr th:only-of-type {\n",
       "        vertical-align: middle;\n",
       "    }\n",
       "\n",
       "    .dataframe tbody tr th {\n",
       "        vertical-align: top;\n",
       "    }\n",
       "\n",
       "    .dataframe thead th {\n",
       "        text-align: right;\n",
       "    }\n",
       "</style>\n",
       "<table border=\"1\" class=\"dataframe\">\n",
       "  <thead>\n",
       "    <tr style=\"text-align: right;\">\n",
       "      <th></th>\n",
       "      <th>primary_label</th>\n",
       "      <th>duration</th>\n",
       "      <th>duration_mins</th>\n",
       "    </tr>\n",
       "  </thead>\n",
       "  <tbody>\n",
       "    <tr>\n",
       "      <th>6</th>\n",
       "      <td>wbrcha2</td>\n",
       "      <td>4807.421875</td>\n",
       "      <td>80.123698</td>\n",
       "    </tr>\n",
       "    <tr>\n",
       "      <th>5</th>\n",
       "      <td>lawgol</td>\n",
       "      <td>4383.038812</td>\n",
       "      <td>73.050647</td>\n",
       "    </tr>\n",
       "    <tr>\n",
       "      <th>4</th>\n",
       "      <td>grecor</td>\n",
       "      <td>7936.920562</td>\n",
       "      <td>132.282009</td>\n",
       "    </tr>\n",
       "    <tr>\n",
       "      <th>3</th>\n",
       "      <td>fotdro5</td>\n",
       "      <td>4989.140688</td>\n",
       "      <td>83.152345</td>\n",
       "    </tr>\n",
       "    <tr>\n",
       "      <th>2</th>\n",
       "      <td>colsun2</td>\n",
       "      <td>5076.373875</td>\n",
       "      <td>84.606231</td>\n",
       "    </tr>\n",
       "    <tr>\n",
       "      <th>1</th>\n",
       "      <td>categr</td>\n",
       "      <td>5073.654812</td>\n",
       "      <td>84.560914</td>\n",
       "    </tr>\n",
       "    <tr>\n",
       "      <th>0</th>\n",
       "      <td>carcha1</td>\n",
       "      <td>4607.467937</td>\n",
       "      <td>76.791132</td>\n",
       "    </tr>\n",
       "  </tbody>\n",
       "</table>\n",
       "</div>"
      ],
      "text/plain": [
       "  primary_label     duration  duration_mins\n",
       "6       wbrcha2  4807.421875      80.123698\n",
       "5        lawgol  4383.038812      73.050647\n",
       "4        grecor  7936.920562     132.282009\n",
       "3       fotdro5  4989.140688      83.152345\n",
       "2       colsun2  5076.373875      84.606231\n",
       "1        categr  5073.654812      84.560914\n",
       "0       carcha1  4607.467937      76.791132"
      ]
     },
     "execution_count": 17,
     "metadata": {},
     "output_type": "execute_result"
    }
   ],
   "source": [
    "duration_sum = train[['primary_label', 'duration']].groupby('primary_label').sum('duration').reset_index().sort_values('primary_label', ascending=False)\n",
    "duration_sum['duration_mins'] = duration_sum['duration'] / 60\n",
    "\n",
    "duration_sum"
   ]
  },
  {
   "cell_type": "markdown",
   "metadata": {},
   "source": [
    "### Need to ensure that the training data is equal between the classes. The valiadation data can be whatever"
   ]
  },
  {
   "cell_type": "code",
   "execution_count": 20,
   "metadata": {},
   "outputs": [],
   "source": [
    "train_duration_max = np.min(duration_sum['duration'])*0.7 # maximum total duration for each species in the training set in seconds using sample with shortest duration\n",
    "shuffled_train = train.sample(frac=1, random_state=1) # shuffle the original df before splitting to train/val\n"
   ]
  },
  {
   "cell_type": "code",
   "execution_count": 21,
   "metadata": {},
   "outputs": [],
   "source": [
    "# Adding samples to each species until the duration of each species = train_duration_max\n",
    "tr = pd.DataFrame()\n",
    "\n",
    "for species in shuffled_train['primary_label'].unique():\n",
    "  species_df = shuffled_train[shuffled_train['primary_label'] == species].copy()\n",
    "  duration = 0\n",
    "\n",
    "  while duration <= train_duration_max:\n",
    "        sample = species_df.sample(n=1, replace=False, random_state=1)  # draw one sample and don't put it back\n",
    "        species_df.drop(sample.index, inplace=True)\n",
    "        duration += sample['duration'].item()\n",
    "        tr = pd.concat([tr, sample])"
   ]
  },
  {
   "cell_type": "code",
   "execution_count": 22,
   "metadata": {},
   "outputs": [],
   "source": [
    "val = train.drop(tr.index) # Samples not selected in train, take them to val"
   ]
  },
  {
   "cell_type": "markdown",
   "metadata": {},
   "source": [
    "## Confirm no duplicates and the samples in validation set are not in the training set"
   ]
  },
  {
   "cell_type": "code",
   "execution_count": 23,
   "metadata": {},
   "outputs": [],
   "source": [
    "assert len(tr) == tr['filename_npy'].nunique()"
   ]
  },
  {
   "cell_type": "code",
   "execution_count": 24,
   "metadata": {},
   "outputs": [],
   "source": [
    "assert len(val) == val['filename_npy'].nunique()"
   ]
  },
  {
   "cell_type": "code",
   "execution_count": 25,
   "metadata": {},
   "outputs": [],
   "source": [
    "is_present = val.isin(tr).any().any()\n",
    "\n",
    "assert not is_present"
   ]
  },
  {
   "cell_type": "markdown",
   "metadata": {},
   "source": [
    "## Combine the train and val sets to one set with a column identifying the set the samples belong to"
   ]
  },
  {
   "cell_type": "code",
   "execution_count": 26,
   "metadata": {},
   "outputs": [],
   "source": [
    "tr['set'] = 'tr'\n",
    "val['set'] = 'val'\n",
    "\n",
    "split_train = pd.concat([tr, val])\n"
   ]
  },
  {
   "cell_type": "code",
   "execution_count": 28,
   "metadata": {},
   "outputs": [
    {
     "data": {
      "text/html": [
       "<div>\n",
       "<style scoped>\n",
       "    .dataframe tbody tr th:only-of-type {\n",
       "        vertical-align: middle;\n",
       "    }\n",
       "\n",
       "    .dataframe tbody tr th {\n",
       "        vertical-align: top;\n",
       "    }\n",
       "\n",
       "    .dataframe thead th {\n",
       "        text-align: right;\n",
       "    }\n",
       "</style>\n",
       "<table border=\"1\" class=\"dataframe\">\n",
       "  <thead>\n",
       "    <tr style=\"text-align: right;\">\n",
       "      <th></th>\n",
       "      <th>set</th>\n",
       "      <th>primary_label</th>\n",
       "      <th>duration</th>\n",
       "      <th>duration_mins</th>\n",
       "    </tr>\n",
       "  </thead>\n",
       "  <tbody>\n",
       "    <tr>\n",
       "      <th>6</th>\n",
       "      <td>tr</td>\n",
       "      <td>wbrcha2</td>\n",
       "      <td>3090.574562</td>\n",
       "      <td>51.509576</td>\n",
       "    </tr>\n",
       "    <tr>\n",
       "      <th>13</th>\n",
       "      <td>val</td>\n",
       "      <td>wbrcha2</td>\n",
       "      <td>1716.847313</td>\n",
       "      <td>28.614122</td>\n",
       "    </tr>\n",
       "    <tr>\n",
       "      <th>5</th>\n",
       "      <td>tr</td>\n",
       "      <td>lawgol</td>\n",
       "      <td>3109.874188</td>\n",
       "      <td>51.831236</td>\n",
       "    </tr>\n",
       "    <tr>\n",
       "      <th>12</th>\n",
       "      <td>val</td>\n",
       "      <td>lawgol</td>\n",
       "      <td>1273.164625</td>\n",
       "      <td>21.219410</td>\n",
       "    </tr>\n",
       "    <tr>\n",
       "      <th>4</th>\n",
       "      <td>tr</td>\n",
       "      <td>grecor</td>\n",
       "      <td>4056.883812</td>\n",
       "      <td>67.614730</td>\n",
       "    </tr>\n",
       "    <tr>\n",
       "      <th>11</th>\n",
       "      <td>val</td>\n",
       "      <td>grecor</td>\n",
       "      <td>3880.036750</td>\n",
       "      <td>64.667279</td>\n",
       "    </tr>\n",
       "    <tr>\n",
       "      <th>3</th>\n",
       "      <td>tr</td>\n",
       "      <td>fotdro5</td>\n",
       "      <td>3665.106625</td>\n",
       "      <td>61.085110</td>\n",
       "    </tr>\n",
       "    <tr>\n",
       "      <th>10</th>\n",
       "      <td>val</td>\n",
       "      <td>fotdro5</td>\n",
       "      <td>1324.034062</td>\n",
       "      <td>22.067234</td>\n",
       "    </tr>\n",
       "    <tr>\n",
       "      <th>2</th>\n",
       "      <td>tr</td>\n",
       "      <td>colsun2</td>\n",
       "      <td>3069.661062</td>\n",
       "      <td>51.161018</td>\n",
       "    </tr>\n",
       "    <tr>\n",
       "      <th>9</th>\n",
       "      <td>val</td>\n",
       "      <td>colsun2</td>\n",
       "      <td>2006.712812</td>\n",
       "      <td>33.445214</td>\n",
       "    </tr>\n",
       "    <tr>\n",
       "      <th>1</th>\n",
       "      <td>tr</td>\n",
       "      <td>categr</td>\n",
       "      <td>3225.013875</td>\n",
       "      <td>53.750231</td>\n",
       "    </tr>\n",
       "    <tr>\n",
       "      <th>8</th>\n",
       "      <td>val</td>\n",
       "      <td>categr</td>\n",
       "      <td>1848.640938</td>\n",
       "      <td>30.810682</td>\n",
       "    </tr>\n",
       "    <tr>\n",
       "      <th>0</th>\n",
       "      <td>tr</td>\n",
       "      <td>carcha1</td>\n",
       "      <td>3089.503125</td>\n",
       "      <td>51.491719</td>\n",
       "    </tr>\n",
       "    <tr>\n",
       "      <th>7</th>\n",
       "      <td>val</td>\n",
       "      <td>carcha1</td>\n",
       "      <td>1517.964812</td>\n",
       "      <td>25.299414</td>\n",
       "    </tr>\n",
       "  </tbody>\n",
       "</table>\n",
       "</div>"
      ],
      "text/plain": [
       "    set primary_label     duration  duration_mins\n",
       "6    tr       wbrcha2  3090.574562      51.509576\n",
       "13  val       wbrcha2  1716.847313      28.614122\n",
       "5    tr        lawgol  3109.874188      51.831236\n",
       "12  val        lawgol  1273.164625      21.219410\n",
       "4    tr        grecor  4056.883812      67.614730\n",
       "11  val        grecor  3880.036750      64.667279\n",
       "3    tr       fotdro5  3665.106625      61.085110\n",
       "10  val       fotdro5  1324.034062      22.067234\n",
       "2    tr       colsun2  3069.661062      51.161018\n",
       "9   val       colsun2  2006.712812      33.445214\n",
       "1    tr        categr  3225.013875      53.750231\n",
       "8   val        categr  1848.640938      30.810682\n",
       "0    tr       carcha1  3089.503125      51.491719\n",
       "7   val       carcha1  1517.964812      25.299414"
      ]
     },
     "execution_count": 28,
     "metadata": {},
     "output_type": "execute_result"
    }
   ],
   "source": [
    "duration_sum = split_train[['primary_label', 'duration', 'set']].groupby(['set', 'primary_label']).sum('duration').reset_index().sort_values('primary_label', ascending=False)\n",
    "duration_sum['duration_mins'] = duration_sum['duration'] / 60\n",
    "\n",
    "duration_sum"
   ]
  },
  {
   "cell_type": "code",
   "execution_count": 32,
   "metadata": {},
   "outputs": [
    {
     "data": {
      "image/png": "[encoded data removed]",
      "text/plain": [
       "<Figure size 800x300 with 1 Axes>"
      ]
     },
     "metadata": {},
     "output_type": "display_data"
    }
   ],
   "source": [
    "fig, axes = plt.subplots(nrows=1, ncols=1, figsize=(8,3))\n",
    "\n",
    "sns.barplot(x='duration_mins', y='primary_label', data=duration_sum[duration_sum['set'] =='tr'], ax=axes)\n",
    "axes.bar_label(axes.containers[0], fmt='%i', padding=3)\n",
    "axes.set(xlim=[0, np.max(duration_sum[duration_sum['set'] =='tr']['duration_mins']) + 10])\n",
    "axes.set(ylabel='')\n",
    "axes.set(xlabel='Total Duration (Minutes)')\n",
    "axes.set(title='Total Duration (Minutes) by Species - Training Set')\n",
    "\n",
    "plt.show()"
   ]
  },
  {
   "cell_type": "code",
   "execution_count": 33,
   "metadata": {},
   "outputs": [
    {
     "data": {
      "image/png": "[encoded data removed]",
      "text/plain": [
       "<Figure size 800x300 with 1 Axes>"
      ]
     },
     "metadata": {},
     "output_type": "display_data"
    }
   ],
   "source": [
    "fig, axes = plt.subplots(nrows=1, ncols=1, figsize=(8,3))\n",
    "\n",
    "sns.barplot(x='duration_mins', y='primary_label', data=duration_sum[duration_sum['set'] =='val'], ax=axes)\n",
    "axes.bar_label(axes.containers[0], fmt='%i', padding=3)\n",
    "axes.set(xlim=[0, np.max(duration_sum[duration_sum['set'] =='val']['duration_mins']) + 5])\n",
    "axes.set(ylabel='')\n",
    "axes.set(xlabel='Total Duration (Minutes)')\n",
    "axes.set(title='Total Duration (Minutes) by Species - Validation Set')\n",
    "\n",
    "plt.show()"
   ]
  },
  {
   "cell_type": "code",
   "execution_count": 37,
   "metadata": {},
   "outputs": [],
   "source": [
    "split_train.to_csv('C:/Users/thato/Documents/Final-Year-Project/Project-V1/train_val_7.csv', index=False)"
   ]
  },
  {
   "cell_type": "markdown",
   "metadata": {},
   "source": [
    "# Barebones model"
   ]
  },
  {
   "cell_type": "markdown",
   "metadata": {},
   "source": [
    "### Feature extraction"
   ]
  },
  {
   "cell_type": "code",
   "execution_count": 41,
   "metadata": {},
   "outputs": [],
   "source": [
    "npy_filenames = split_train['filename_npy'].values\n",
    "species_labels = split_train['primary_label'].values\n",
    "npy_path = 'C:/Users/thato/OneDrive - University of Cape Town/Bird Classification Project/AudioSamples/birdclef-2023/train_audio_npy/'"
   ]
  },
  {
   "cell_type": "code",
   "execution_count": 42,
   "metadata": {},
   "outputs": [
    {
     "data": {
      "text/plain": [
       "'fotdro5/XC412171.npy'"
      ]
     },
     "execution_count": 42,
     "metadata": {},
     "output_type": "execute_result"
    }
   ],
   "source": [
    "npy_filenames[0]"
   ]
  },
  {
   "cell_type": "code",
   "execution_count": 39,
   "metadata": {},
   "outputs": [],
   "source": [
    "# Function to convert audio numpy array to mel spectrogram\n",
    "def get_mel_spectrogram(npy_file, sr=sr, n_mels=128, hop_length=512):\n",
    "    audio_data = np.load(npy_file) \n",
    "    mel_spectrogram = librosa.feature.melspectrogram(y=audio_data, sr=sr, n_mels=n_mels, hop_length=hop_length)\n",
    "    mel_spectrogram_db = librosa.power_to_db(mel_spectrogram, ref=np.max)\n",
    "    return mel_spectrogram_db"
   ]
  },
  {
   "cell_type": "code",
   "execution_count": 44,
   "metadata": {},
   "outputs": [
    {
     "data": {
      "image/png": "[encoded data removed]",
      "text/plain": [
       "<Figure size 1000x400 with 2 Axes>"
      ]
     },
     "metadata": {},
     "output_type": "display_data"
    }
   ],
   "source": [
    "# Plot an example of Mel spectrogram\n",
    "example_npy = npy_path + npy_filenames[0]\n",
    "mel_spectrogram_db = get_mel_spectrogram(example_npy)\n",
    "plt.figure(figsize=(10, 4))\n",
    "librosa.display.specshow(mel_spectrogram_db, sr=sr, hop_length=512, x_axis='time', y_axis='mel') #cmap=viridis\n",
    "plt.colorbar(format='%+2.0f dB')\n",
    "plt.title('Mel Spectrogram')\n",
    "plt.tight_layout()\n",
    "plt.show()"
   ]
  },
  {
   "cell_type": "markdown",
   "metadata": {},
   "source": [
    "# Preparing Data for CNN"
   ]
  }
 ],
 "metadata": {
  "kernelspec": {
   "display_name": "Python 3",
   "language": "python",
   "name": "python3"
  },
  "language_info": {
   "codemirror_mode": {
    "name": "ipython",
    "version": 3
   },
   "file_extension": ".py",
   "mimetype": "text/x-python",
   "name": "python",
   "nbconvert_exporter": "python",
   "pygments_lexer": "ipython3",
   "version": "3.12.4"
  }
 },
 "nbformat": 4,
 "nbformat_minor": 2
}
